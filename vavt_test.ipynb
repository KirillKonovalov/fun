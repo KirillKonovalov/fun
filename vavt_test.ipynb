{
  "nbformat": 4,
  "nbformat_minor": 0,
  "metadata": {
    "colab": {
      "provenance": []
    },
    "kernelspec": {
      "name": "python3",
      "display_name": "Python 3"
    },
    "language_info": {
      "name": "python"
    }
  },
  "cells": [
    {
      "cell_type": "code",
      "execution_count": 1,
      "metadata": {
        "colab": {
          "base_uri": "https://localhost:8080/"
        },
        "id": "AAiubAbZYptu",
        "outputId": "7e33b163-5cef-4fe4-d58f-fc6c75db57c2"
      },
      "outputs": [
        {
          "output_type": "stream",
          "name": "stdout",
          "text": [
            "Drive already mounted at /content/gdrive/; to attempt to forcibly remount, call drive.mount(\"/content/gdrive/\", force_remount=True).\n"
          ]
        }
      ],
      "source": [
        "from google.colab import drive\n",
        "drive.mount('/content/gdrive/')"
      ]
    },
    {
      "cell_type": "code",
      "source": [
        "!pip install catboost"
      ],
      "metadata": {
        "id": "ZOot6KTHmiXx"
      },
      "execution_count": null,
      "outputs": []
    },
    {
      "cell_type": "code",
      "source": [
        "import pandas as pd\n",
        "import numpy as np\n",
        "\n",
        "from sklearn.feature_extraction.text import CountVectorizer, TfidfVectorizer\n",
        "from sklearn.linear_model import LogisticRegression\n",
        "from sklearn.tree import DecisionTreeClassifier\n",
        "from sklearn.neighbors import KNeighborsClassifier\n",
        "from sklearn.naive_bayes import MultinomialNB\n",
        "from sklearn.ensemble import RandomForestClassifier\n",
        "from sklearn.svm import LinearSVC\n",
        "from sklearn.model_selection import train_test_split\n",
        "from sklearn.metrics import classification_report, accuracy_score\n",
        "\n",
        "from catboost import CatBoostClassifier, Pool, metrics, cv\n",
        "from sklearn.ensemble import GradientBoostingClassifier\n",
        "\n",
        "from IPython.display import Image\n",
        "from IPython.core.display import HTML "
      ],
      "metadata": {
        "id": "qRG1ancZYskH"
      },
      "execution_count": 30,
      "outputs": []
    },
    {
      "cell_type": "code",
      "source": [
        "df = pd.read_csv(\"/content/gdrive/MyDrive/datasets/data.csv\")"
      ],
      "metadata": {
        "id": "S61_XZLLYzCC"
      },
      "execution_count": 4,
      "outputs": []
    },
    {
      "cell_type": "code",
      "source": [
        "df.head()"
      ],
      "metadata": {
        "colab": {
          "base_uri": "https://localhost:8080/",
          "height": 206
        },
        "id": "0AxjWIYdZAu-",
        "outputId": "32070b6b-f454-4705-b23e-0aac4414d966"
      },
      "execution_count": 5,
      "outputs": [
        {
          "output_type": "execute_result",
          "data": {
            "text/plain": [
              "                                                text       label\n",
              "0  &#34;В регионе стало меньше пахнуть Россией&#3...  не по теме\n",
              "1  &#34;Северному потоку-2&#34; предсказали полуп...      мнения\n",
              "2  10 лет назад протестующие заняли площадь Тахри...  не по теме\n",
              "3  130 парков для умных. В регионах открываются в...  не по теме\n",
              "4  170 лыжников эвакуировали с канатной дороги в ...  не по теме"
            ],
            "text/html": [
              "\n",
              "  <div id=\"df-170f32d8-3e43-405d-a7a5-d2b2400b8c27\">\n",
              "    <div class=\"colab-df-container\">\n",
              "      <div>\n",
              "<style scoped>\n",
              "    .dataframe tbody tr th:only-of-type {\n",
              "        vertical-align: middle;\n",
              "    }\n",
              "\n",
              "    .dataframe tbody tr th {\n",
              "        vertical-align: top;\n",
              "    }\n",
              "\n",
              "    .dataframe thead th {\n",
              "        text-align: right;\n",
              "    }\n",
              "</style>\n",
              "<table border=\"1\" class=\"dataframe\">\n",
              "  <thead>\n",
              "    <tr style=\"text-align: right;\">\n",
              "      <th></th>\n",
              "      <th>text</th>\n",
              "      <th>label</th>\n",
              "    </tr>\n",
              "  </thead>\n",
              "  <tbody>\n",
              "    <tr>\n",
              "      <th>0</th>\n",
              "      <td>&amp;#34;В регионе стало меньше пахнуть Россией&amp;#3...</td>\n",
              "      <td>не по теме</td>\n",
              "    </tr>\n",
              "    <tr>\n",
              "      <th>1</th>\n",
              "      <td>&amp;#34;Северному потоку-2&amp;#34; предсказали полуп...</td>\n",
              "      <td>мнения</td>\n",
              "    </tr>\n",
              "    <tr>\n",
              "      <th>2</th>\n",
              "      <td>10 лет назад протестующие заняли площадь Тахри...</td>\n",
              "      <td>не по теме</td>\n",
              "    </tr>\n",
              "    <tr>\n",
              "      <th>3</th>\n",
              "      <td>130 парков для умных. В регионах открываются в...</td>\n",
              "      <td>не по теме</td>\n",
              "    </tr>\n",
              "    <tr>\n",
              "      <th>4</th>\n",
              "      <td>170 лыжников эвакуировали с канатной дороги в ...</td>\n",
              "      <td>не по теме</td>\n",
              "    </tr>\n",
              "  </tbody>\n",
              "</table>\n",
              "</div>\n",
              "      <button class=\"colab-df-convert\" onclick=\"convertToInteractive('df-170f32d8-3e43-405d-a7a5-d2b2400b8c27')\"\n",
              "              title=\"Convert this dataframe to an interactive table.\"\n",
              "              style=\"display:none;\">\n",
              "        \n",
              "  <svg xmlns=\"http://www.w3.org/2000/svg\" height=\"24px\"viewBox=\"0 0 24 24\"\n",
              "       width=\"24px\">\n",
              "    <path d=\"M0 0h24v24H0V0z\" fill=\"none\"/>\n",
              "    <path d=\"M18.56 5.44l.94 2.06.94-2.06 2.06-.94-2.06-.94-.94-2.06-.94 2.06-2.06.94zm-11 1L8.5 8.5l.94-2.06 2.06-.94-2.06-.94L8.5 2.5l-.94 2.06-2.06.94zm10 10l.94 2.06.94-2.06 2.06-.94-2.06-.94-.94-2.06-.94 2.06-2.06.94z\"/><path d=\"M17.41 7.96l-1.37-1.37c-.4-.4-.92-.59-1.43-.59-.52 0-1.04.2-1.43.59L10.3 9.45l-7.72 7.72c-.78.78-.78 2.05 0 2.83L4 21.41c.39.39.9.59 1.41.59.51 0 1.02-.2 1.41-.59l7.78-7.78 2.81-2.81c.8-.78.8-2.07 0-2.86zM5.41 20L4 18.59l7.72-7.72 1.47 1.35L5.41 20z\"/>\n",
              "  </svg>\n",
              "      </button>\n",
              "      \n",
              "  <style>\n",
              "    .colab-df-container {\n",
              "      display:flex;\n",
              "      flex-wrap:wrap;\n",
              "      gap: 12px;\n",
              "    }\n",
              "\n",
              "    .colab-df-convert {\n",
              "      background-color: #E8F0FE;\n",
              "      border: none;\n",
              "      border-radius: 50%;\n",
              "      cursor: pointer;\n",
              "      display: none;\n",
              "      fill: #1967D2;\n",
              "      height: 32px;\n",
              "      padding: 0 0 0 0;\n",
              "      width: 32px;\n",
              "    }\n",
              "\n",
              "    .colab-df-convert:hover {\n",
              "      background-color: #E2EBFA;\n",
              "      box-shadow: 0px 1px 2px rgba(60, 64, 67, 0.3), 0px 1px 3px 1px rgba(60, 64, 67, 0.15);\n",
              "      fill: #174EA6;\n",
              "    }\n",
              "\n",
              "    [theme=dark] .colab-df-convert {\n",
              "      background-color: #3B4455;\n",
              "      fill: #D2E3FC;\n",
              "    }\n",
              "\n",
              "    [theme=dark] .colab-df-convert:hover {\n",
              "      background-color: #434B5C;\n",
              "      box-shadow: 0px 1px 3px 1px rgba(0, 0, 0, 0.15);\n",
              "      filter: drop-shadow(0px 1px 2px rgba(0, 0, 0, 0.3));\n",
              "      fill: #FFFFFF;\n",
              "    }\n",
              "  </style>\n",
              "\n",
              "      <script>\n",
              "        const buttonEl =\n",
              "          document.querySelector('#df-170f32d8-3e43-405d-a7a5-d2b2400b8c27 button.colab-df-convert');\n",
              "        buttonEl.style.display =\n",
              "          google.colab.kernel.accessAllowed ? 'block' : 'none';\n",
              "\n",
              "        async function convertToInteractive(key) {\n",
              "          const element = document.querySelector('#df-170f32d8-3e43-405d-a7a5-d2b2400b8c27');\n",
              "          const dataTable =\n",
              "            await google.colab.kernel.invokeFunction('convertToInteractive',\n",
              "                                                     [key], {});\n",
              "          if (!dataTable) return;\n",
              "\n",
              "          const docLinkHtml = 'Like what you see? Visit the ' +\n",
              "            '<a target=\"_blank\" href=https://colab.research.google.com/notebooks/data_table.ipynb>data table notebook</a>'\n",
              "            + ' to learn more about interactive tables.';\n",
              "          element.innerHTML = '';\n",
              "          dataTable['output_type'] = 'display_data';\n",
              "          await google.colab.output.renderOutput(dataTable, element);\n",
              "          const docLink = document.createElement('div');\n",
              "          docLink.innerHTML = docLinkHtml;\n",
              "          element.appendChild(docLink);\n",
              "        }\n",
              "      </script>\n",
              "    </div>\n",
              "  </div>\n",
              "  "
            ]
          },
          "metadata": {},
          "execution_count": 5
        }
      ]
    },
    {
      "cell_type": "code",
      "source": [
        "df.shape"
      ],
      "metadata": {
        "colab": {
          "base_uri": "https://localhost:8080/"
        },
        "id": "UXNhcL0ZZCil",
        "outputId": "3857c102-00a5-4d3a-89ec-e8e11ccd7b46"
      },
      "execution_count": 6,
      "outputs": [
        {
          "output_type": "execute_result",
          "data": {
            "text/plain": [
              "(2156, 2)"
            ]
          },
          "metadata": {},
          "execution_count": 6
        }
      ]
    },
    {
      "cell_type": "code",
      "source": [
        "df.isna().sum()"
      ],
      "metadata": {
        "colab": {
          "base_uri": "https://localhost:8080/"
        },
        "id": "lXOGOr3raPmn",
        "outputId": "2d38ce79-dfa0-4e99-97f7-e42a94746c8c"
      },
      "execution_count": 7,
      "outputs": [
        {
          "output_type": "execute_result",
          "data": {
            "text/plain": [
              "text     0\n",
              "label    0\n",
              "dtype: int64"
            ]
          },
          "metadata": {},
          "execution_count": 7
        }
      ]
    },
    {
      "cell_type": "code",
      "source": [
        "print(df.label.unique())"
      ],
      "metadata": {
        "colab": {
          "base_uri": "https://localhost:8080/"
        },
        "id": "IK5hS2r1ZGUO",
        "outputId": "780f69c2-fe42-4ce1-f345-e98f75933219"
      },
      "execution_count": 8,
      "outputs": [
        {
          "output_type": "stream",
          "name": "stdout",
          "text": [
            "['не по теме' 'мнения' 'аналитика' 'торговля' 'Международные отношения'\n",
            " 'политика' 'COVID-19' 'военная тематика' 'проекты' 'Россия'\n",
            " 'Социологические опросы' 'меры поддержки' 'инвестиция']\n"
          ]
        }
      ]
    },
    {
      "cell_type": "code",
      "source": [
        "print(df.label.nunique())"
      ],
      "metadata": {
        "colab": {
          "base_uri": "https://localhost:8080/"
        },
        "id": "4eNouSXQZIwv",
        "outputId": "a02cf3e6-2374-4a7f-c9c7-892a03eef395"
      },
      "execution_count": 9,
      "outputs": [
        {
          "output_type": "stream",
          "name": "stdout",
          "text": [
            "13\n"
          ]
        }
      ]
    },
    {
      "cell_type": "code",
      "source": [
        "df.label.value_counts()"
      ],
      "metadata": {
        "colab": {
          "base_uri": "https://localhost:8080/"
        },
        "id": "0_N4sojCZO2G",
        "outputId": "970d7cc2-13c9-4143-c23f-7e2cc339ffbc"
      },
      "execution_count": 10,
      "outputs": [
        {
          "output_type": "execute_result",
          "data": {
            "text/plain": [
              "не по теме                 891\n",
              "политика                   357\n",
              "COVID-19                   249\n",
              "Международные отношения    177\n",
              "мнения                     131\n",
              "военная тематика           112\n",
              "аналитика                  101\n",
              "торговля                    72\n",
              "меры поддержки              31\n",
              "проекты                     12\n",
              "Россия                      10\n",
              "инвестиция                   9\n",
              "Социологические опросы       4\n",
              "Name: label, dtype: int64"
            ]
          },
          "metadata": {},
          "execution_count": 10
        }
      ]
    },
    {
      "cell_type": "code",
      "source": [
        "train, test = train_test_split(df, test_size=0.1, shuffle=True)"
      ],
      "metadata": {
        "id": "4Rnv3fItZgFP"
      },
      "execution_count": 11,
      "outputs": []
    },
    {
      "cell_type": "code",
      "source": [
        "train.reset_index(inplace=True, drop=True)\n",
        "test.reset_index(inplace=True, drop=True)"
      ],
      "metadata": {
        "id": "q_2ADxMGaKQq"
      },
      "execution_count": 12,
      "outputs": []
    },
    {
      "cell_type": "code",
      "source": [
        "vectorizer = CountVectorizer(max_features=1000, min_df=10, max_df=0.1, ngram_range=(1, 3))\n",
        "X = vectorizer.fit_transform(train.text)\n",
        "X_test = vectorizer.transform(test.text) "
      ],
      "metadata": {
        "id": "Vhe5DDasaL3K"
      },
      "execution_count": 13,
      "outputs": []
    },
    {
      "cell_type": "code",
      "source": [
        "X.shape, X_test.shape"
      ],
      "metadata": {
        "colab": {
          "base_uri": "https://localhost:8080/"
        },
        "id": "FWbA8idBankl",
        "outputId": "42aaa367-2724-41cb-8146-100685e538ba"
      },
      "execution_count": 14,
      "outputs": [
        {
          "output_type": "execute_result",
          "data": {
            "text/plain": [
              "((1940, 1000), (216, 1000))"
            ]
          },
          "metadata": {},
          "execution_count": 14
        }
      ]
    },
    {
      "cell_type": "code",
      "source": [
        "y = train.label.values\n",
        "y_test = test.label.values"
      ],
      "metadata": {
        "id": "E5Nh3wrFa-th"
      },
      "execution_count": 15,
      "outputs": []
    },
    {
      "cell_type": "markdown",
      "source": [
        "# LogisticRegression"
      ],
      "metadata": {
        "id": "KPAc5Y0GieTx"
      }
    },
    {
      "cell_type": "code",
      "source": [
        "clf = LogisticRegression(solver='lbfgs', max_iter=1000)"
      ],
      "metadata": {
        "id": "R9p10snybHEV"
      },
      "execution_count": 16,
      "outputs": []
    },
    {
      "cell_type": "code",
      "source": [
        "clf.fit(X, y)"
      ],
      "metadata": {
        "colab": {
          "base_uri": "https://localhost:8080/"
        },
        "id": "7Td_Aih6bN9l",
        "outputId": "f3527fed-65b5-40bf-ae37-b503da662607"
      },
      "execution_count": 17,
      "outputs": [
        {
          "output_type": "execute_result",
          "data": {
            "text/plain": [
              "LogisticRegression(max_iter=1000)"
            ]
          },
          "metadata": {},
          "execution_count": 17
        }
      ]
    },
    {
      "cell_type": "code",
      "source": [
        "clf.classes_\n"
      ],
      "metadata": {
        "colab": {
          "base_uri": "https://localhost:8080/"
        },
        "id": "T5qSlk10bPLR",
        "outputId": "49fcee56-d1b8-4007-fa69-e35c49cb40c2"
      },
      "execution_count": 18,
      "outputs": [
        {
          "output_type": "execute_result",
          "data": {
            "text/plain": [
              "array(['COVID-19', 'Международные отношения', 'Россия',\n",
              "       'Социологические опросы', 'аналитика', 'военная тематика',\n",
              "       'инвестиция', 'меры поддержки', 'мнения', 'не по теме', 'политика',\n",
              "       'проекты', 'торговля'], dtype=object)"
            ]
          },
          "metadata": {},
          "execution_count": 18
        }
      ]
    },
    {
      "cell_type": "code",
      "source": [
        "preds = clf.predict(X_test)"
      ],
      "metadata": {
        "id": "8SO7JYOSbQXy"
      },
      "execution_count": 19,
      "outputs": []
    },
    {
      "cell_type": "code",
      "source": [
        "print(classification_report(y_test, preds, zero_division=0))"
      ],
      "metadata": {
        "colab": {
          "base_uri": "https://localhost:8080/"
        },
        "id": "94BLTYJrbSaN",
        "outputId": "fe11ac2e-3005-46c3-9ae1-c1015573534a"
      },
      "execution_count": 20,
      "outputs": [
        {
          "output_type": "stream",
          "name": "stdout",
          "text": [
            "                         precision    recall  f1-score   support\n",
            "\n",
            "               COVID-19       0.70      0.67      0.68        24\n",
            "Международные отношения       0.29      0.23      0.26        26\n",
            "              аналитика       0.18      0.22      0.20         9\n",
            "       военная тематика       0.40      0.22      0.29         9\n",
            "             инвестиция       0.00      0.00      0.00         1\n",
            "         меры поддержки       0.33      0.33      0.33         3\n",
            "                 мнения       0.22      0.20      0.21        10\n",
            "             не по теме       0.74      0.79      0.76        85\n",
            "               политика       0.57      0.64      0.61        42\n",
            "                проекты       0.00      0.00      0.00         1\n",
            "               торговля       0.20      0.17      0.18         6\n",
            "\n",
            "               accuracy                           0.57       216\n",
            "              macro avg       0.33      0.32      0.32       216\n",
            "           weighted avg       0.56      0.57      0.56       216\n",
            "\n"
          ]
        }
      ]
    },
    {
      "cell_type": "markdown",
      "source": [
        "# RandomForestClassifier"
      ],
      "metadata": {
        "id": "UY5dQYk_iha2"
      }
    },
    {
      "cell_type": "code",
      "source": [
        "rf = RandomForestClassifier(n_estimators=100, max_depth=20)\n",
        "rf.fit(X, y)\n",
        "\n",
        "preds = rf.predict(X_test)"
      ],
      "metadata": {
        "id": "QFc5_IqjgaAs"
      },
      "execution_count": 21,
      "outputs": []
    },
    {
      "cell_type": "code",
      "source": [
        "print(classification_report(y_test, preds, zero_division=0))"
      ],
      "metadata": {
        "colab": {
          "base_uri": "https://localhost:8080/"
        },
        "id": "fXf7lm5SgxpA",
        "outputId": "53cd78f2-7967-4a0f-9462-4e53a7055366"
      },
      "execution_count": 22,
      "outputs": [
        {
          "output_type": "stream",
          "name": "stdout",
          "text": [
            "                         precision    recall  f1-score   support\n",
            "\n",
            "               COVID-19       0.77      0.83      0.80        24\n",
            "Международные отношения       0.17      0.04      0.06        26\n",
            "              аналитика       0.33      0.11      0.17         9\n",
            "       военная тематика       0.00      0.00      0.00         9\n",
            "             инвестиция       0.00      0.00      0.00         1\n",
            "         меры поддержки       0.00      0.00      0.00         3\n",
            "                 мнения       0.00      0.00      0.00        10\n",
            "             не по теме       0.50      0.92      0.65        85\n",
            "               политика       0.68      0.40      0.51        42\n",
            "                проекты       0.00      0.00      0.00         1\n",
            "               торговля       0.00      0.00      0.00         6\n",
            "\n",
            "               accuracy                           0.54       216\n",
            "              macro avg       0.22      0.21      0.20       216\n",
            "           weighted avg       0.45      0.54      0.46       216\n",
            "\n"
          ]
        }
      ]
    },
    {
      "cell_type": "markdown",
      "source": [
        "# DecisionTreeClassifier"
      ],
      "metadata": {
        "id": "IFPSa57ojADZ"
      }
    },
    {
      "cell_type": "code",
      "source": [
        "clf = DecisionTreeClassifier(max_depth=20)\n",
        "clf.fit(X, y)\n",
        "preds = clf.predict(X_test)\n",
        "\n",
        "print(classification_report(y_test, preds, zero_division=0))"
      ],
      "metadata": {
        "colab": {
          "base_uri": "https://localhost:8080/"
        },
        "id": "ZuJ184ugjBN2",
        "outputId": "dd569703-ec8b-4c63-d612-6bee9b39563d"
      },
      "execution_count": 23,
      "outputs": [
        {
          "output_type": "stream",
          "name": "stdout",
          "text": [
            "                         precision    recall  f1-score   support\n",
            "\n",
            "               COVID-19       0.65      0.62      0.64        24\n",
            "Международные отношения       0.43      0.23      0.30        26\n",
            "                 Россия       0.00      0.00      0.00         0\n",
            "              аналитика       0.17      0.11      0.13         9\n",
            "       военная тематика       0.00      0.00      0.00         9\n",
            "             инвестиция       0.00      0.00      0.00         1\n",
            "         меры поддержки       0.50      0.33      0.40         3\n",
            "                 мнения       0.00      0.00      0.00        10\n",
            "             не по теме       0.63      0.86      0.73        85\n",
            "               политика       0.48      0.50      0.49        42\n",
            "                проекты       0.00      0.00      0.00         1\n",
            "               торговля       0.20      0.17      0.18         6\n",
            "\n",
            "               accuracy                           0.55       216\n",
            "              macro avg       0.25      0.24      0.24       216\n",
            "           weighted avg       0.49      0.55      0.51       216\n",
            "\n"
          ]
        }
      ]
    },
    {
      "cell_type": "markdown",
      "source": [
        "# KNeighborsClassifier"
      ],
      "metadata": {
        "id": "UQwyJbJUjWSl"
      }
    },
    {
      "cell_type": "code",
      "source": [
        "clf = KNeighborsClassifier(n_neighbors=10, metric='cosine')\n",
        "clf.fit(X, y)\n",
        "preds = clf.predict(X_test)\n",
        "\n",
        "print(classification_report(y_test, preds, zero_division=0))"
      ],
      "metadata": {
        "colab": {
          "base_uri": "https://localhost:8080/"
        },
        "id": "j8KBPtyXjcr0",
        "outputId": "68f25d8f-221f-4279-8107-af52d253b2a3"
      },
      "execution_count": 24,
      "outputs": [
        {
          "output_type": "stream",
          "name": "stdout",
          "text": [
            "                         precision    recall  f1-score   support\n",
            "\n",
            "               COVID-19       0.64      0.75      0.69        24\n",
            "Международные отношения       0.33      0.12      0.17        26\n",
            "              аналитика       0.38      0.33      0.35         9\n",
            "       военная тематика       0.40      0.44      0.42         9\n",
            "             инвестиция       0.00      0.00      0.00         1\n",
            "         меры поддержки       0.00      0.00      0.00         3\n",
            "                 мнения       0.19      0.30      0.23        10\n",
            "             не по теме       0.64      0.78      0.70        85\n",
            "               политика       0.57      0.48      0.52        42\n",
            "                проекты       0.00      0.00      0.00         1\n",
            "               торговля       0.17      0.17      0.17         6\n",
            "\n",
            "               accuracy                           0.55       216\n",
            "              macro avg       0.30      0.31      0.30       216\n",
            "           weighted avg       0.52      0.55      0.52       216\n",
            "\n"
          ]
        }
      ]
    },
    {
      "cell_type": "markdown",
      "source": [
        "# MultinomialNB"
      ],
      "metadata": {
        "id": "U-EPpplljmgq"
      }
    },
    {
      "cell_type": "code",
      "source": [
        "clf = MultinomialNB(alpha=1.)\n",
        "clf.fit(X, y)\n",
        "preds = clf.predict(X_test)\n",
        "\n",
        "print(classification_report(y_test, preds, zero_division=0))"
      ],
      "metadata": {
        "colab": {
          "base_uri": "https://localhost:8080/"
        },
        "id": "FzLQZ2CFkb9n",
        "outputId": "fba93210-cfd0-43ad-87e0-d4ee3e592c64"
      },
      "execution_count": 25,
      "outputs": [
        {
          "output_type": "stream",
          "name": "stdout",
          "text": [
            "                         precision    recall  f1-score   support\n",
            "\n",
            "               COVID-19       0.46      0.71      0.56        24\n",
            "Международные отношения       0.17      0.04      0.06        26\n",
            "                 Россия       0.00      0.00      0.00         0\n",
            " Социологические опросы       0.00      0.00      0.00         0\n",
            "              аналитика       0.20      0.22      0.21         9\n",
            "       военная тематика       0.24      0.67      0.35         9\n",
            "             инвестиция       0.00      0.00      0.00         1\n",
            "         меры поддержки       0.00      0.00      0.00         3\n",
            "                 мнения       0.00      0.00      0.00        10\n",
            "             не по теме       0.85      0.27      0.41        85\n",
            "               политика       0.61      0.33      0.43        42\n",
            "                проекты       0.08      1.00      0.15         1\n",
            "               торговля       0.11      0.83      0.20         6\n",
            "\n",
            "               accuracy                           0.32       216\n",
            "              macro avg       0.21      0.31      0.18       216\n",
            "           weighted avg       0.55      0.32      0.34       216\n",
            "\n"
          ]
        }
      ]
    },
    {
      "cell_type": "markdown",
      "source": [
        "# LinearSVC"
      ],
      "metadata": {
        "id": "4Y6POJ0Hk3PR"
      }
    },
    {
      "cell_type": "code",
      "source": [
        "clf = LinearSVC()\n",
        "clf.fit(X, y)\n",
        "preds = clf.predict(X_test)\n",
        "\n",
        "print(classification_report(y_test, preds, zero_division=0))"
      ],
      "metadata": {
        "id": "kp8te9psbgt-",
        "colab": {
          "base_uri": "https://localhost:8080/"
        },
        "outputId": "77fd991a-65bd-496a-9aa9-df7ead80ceea"
      },
      "execution_count": 26,
      "outputs": [
        {
          "output_type": "stream",
          "name": "stdout",
          "text": [
            "                         precision    recall  f1-score   support\n",
            "\n",
            "               COVID-19       0.55      0.67      0.60        24\n",
            "Международные отношения       0.30      0.23      0.26        26\n",
            "                 Россия       0.00      0.00      0.00         0\n",
            "              аналитика       0.30      0.33      0.32         9\n",
            "       военная тематика       0.36      0.56      0.43         9\n",
            "             инвестиция       0.00      0.00      0.00         1\n",
            "         меры поддержки       0.25      0.33      0.29         3\n",
            "                 мнения       0.18      0.20      0.19        10\n",
            "             не по теме       0.73      0.62      0.67        85\n",
            "               политика       0.59      0.57      0.58        42\n",
            "                проекты       0.00      0.00      0.00         1\n",
            "               торговля       0.17      0.33      0.22         6\n",
            "\n",
            "               accuracy                           0.52       216\n",
            "              macro avg       0.28      0.32      0.30       216\n",
            "           weighted avg       0.54      0.52      0.53       216\n",
            "\n"
          ]
        },
        {
          "output_type": "stream",
          "name": "stderr",
          "text": [
            "/usr/local/lib/python3.7/dist-packages/sklearn/svm/_base.py:1208: ConvergenceWarning: Liblinear failed to converge, increase the number of iterations.\n",
            "  ConvergenceWarning,\n"
          ]
        }
      ]
    },
    {
      "cell_type": "markdown",
      "source": [
        "# CatBoostClassifier"
      ],
      "metadata": {
        "id": "nPkpUZ-BnCw-"
      }
    },
    {
      "cell_type": "code",
      "source": [
        "clf = CatBoostClassifier()"
      ],
      "metadata": {
        "id": "l0q8_uXVk5kI"
      },
      "execution_count": 34,
      "outputs": []
    },
    {
      "cell_type": "code",
      "source": [
        "clf.fit(X, y)\n",
        "preds = clf.predict(X_test)"
      ],
      "metadata": {
        "id": "HkdgNkILnKhr"
      },
      "execution_count": null,
      "outputs": []
    },
    {
      "cell_type": "code",
      "source": [
        "print(classification_report(y_test, preds, zero_division=0))"
      ],
      "metadata": {
        "colab": {
          "base_uri": "https://localhost:8080/"
        },
        "id": "uIZ3_0E2nLGf",
        "outputId": "f990308c-ec46-444a-8a5e-974ee42fed30"
      },
      "execution_count": 36,
      "outputs": [
        {
          "output_type": "stream",
          "name": "stdout",
          "text": [
            "                         precision    recall  f1-score   support\n",
            "\n",
            "               COVID-19       0.77      0.83      0.80        24\n",
            "Международные отношения       0.42      0.19      0.26        26\n",
            "              аналитика       0.33      0.33      0.33         9\n",
            "       военная тематика       0.67      0.22      0.33         9\n",
            "             инвестиция       0.00      0.00      0.00         1\n",
            "         меры поддержки       0.00      0.00      0.00         3\n",
            "                 мнения       0.67      0.20      0.31        10\n",
            "             не по теме       0.62      0.89      0.73        85\n",
            "               политика       0.54      0.50      0.52        42\n",
            "                проекты       0.00      0.00      0.00         1\n",
            "               торговля       0.50      0.17      0.25         6\n",
            "\n",
            "               accuracy                           0.60       216\n",
            "              macro avg       0.41      0.30      0.32       216\n",
            "           weighted avg       0.57      0.60      0.56       216\n",
            "\n"
          ]
        }
      ]
    },
    {
      "cell_type": "code",
      "source": [
        "clf.save_model('catboost_model.dump')"
      ],
      "metadata": {
        "id": "Hn9w1252zxZ8"
      },
      "execution_count": 39,
      "outputs": []
    },
    {
      "cell_type": "markdown",
      "source": [
        "# GradientBoostingClassifier"
      ],
      "metadata": {
        "id": "0k-MA9OiuuyM"
      }
    },
    {
      "cell_type": "code",
      "source": [
        "clf = GradientBoostingClassifier(learning_rate=0.1, n_estimators=100,max_depth=3, min_samples_split=2, min_samples_leaf=1, subsample=1,max_features='sqrt', random_state=10)"
      ],
      "metadata": {
        "id": "aBgo0DqpunuN"
      },
      "execution_count": 31,
      "outputs": []
    },
    {
      "cell_type": "code",
      "source": [
        "clf.fit(X, y)\n",
        "preds = clf.predict(X_test)"
      ],
      "metadata": {
        "id": "Zxm43VWdq0DB"
      },
      "execution_count": 32,
      "outputs": []
    },
    {
      "cell_type": "code",
      "source": [
        "print(classification_report(y_test, preds, zero_division=0))"
      ],
      "metadata": {
        "colab": {
          "base_uri": "https://localhost:8080/"
        },
        "id": "DdDJXS4fuxyk",
        "outputId": "074b07b6-2e5c-4079-c3d8-c3127cdefaee"
      },
      "execution_count": 33,
      "outputs": [
        {
          "output_type": "stream",
          "name": "stdout",
          "text": [
            "                         precision    recall  f1-score   support\n",
            "\n",
            "               COVID-19       0.80      0.83      0.82        24\n",
            "Международные отношения       0.40      0.15      0.22        26\n",
            "              аналитика       0.33      0.33      0.33         9\n",
            "       военная тематика       0.67      0.22      0.33         9\n",
            "             инвестиция       0.00      0.00      0.00         1\n",
            "         меры поддержки       0.00      0.00      0.00         3\n",
            "                 мнения       0.00      0.00      0.00        10\n",
            "             не по теме       0.56      0.89      0.69        85\n",
            "               политика       0.57      0.38      0.46        42\n",
            "                проекты       0.00      0.00      0.00         1\n",
            "               торговля       0.00      0.00      0.00         6\n",
            "\n",
            "               accuracy                           0.56       216\n",
            "              macro avg       0.30      0.26      0.26       216\n",
            "           weighted avg       0.51      0.56      0.50       216\n",
            "\n"
          ]
        }
      ]
    },
    {
      "cell_type": "markdown",
      "source": [
        "# Выводы:\n",
        "1. Задача представляет собой многоклассовую классификацию. Для ее выполнения были выбраны классические алгоритмы машинного обучения, такие как логистическая регрессия, метод случайного леса, метод решающих деревьев, метод ближайших соседей, метод наивного байеса, метод опорных векторов и 2 вида градиентного бустинга. Выбор обсуловлен тем, что у нас не так много данных и данные алгоритмы быстро обучаются и могут служить хорошим бейзлайном для дальнейшей работы над улучшением. В качестве метрик оценки качества моделей использовались классические для данной задачи точность, полнота, F-мера и их усредненные показатели для задачи многоклассовой классификации.  \n",
        "\n",
        "2. Из всех алгоритмов без особого тюнинга лучше всего показал себя градиентный бустинг CatBoostClassifier.\n",
        "\n",
        "3. Чтобы улучшить результаты можно попробовать тюнинг параметров через GridSearch. Также можно попробовать другие варианты векторизации (TfIdf, word2vec, fasttext и тд) или посмотреть предобученные модели. Еще можно попробовать различные варианты предобработки: леммы, стемминг, более аккуратное удаление стоп-слов и пунктуации, использование нграм. Можно поэксперементировать с тегами частей речи. Конечно же также стоит собрать больше данных, особенно для тех классов, которые представленые в датасете в небольшом количестве. Если собрать больше данных, то можно попробовать глубокое обучение. "
      ],
      "metadata": {
        "id": "czlar0x7vnF7"
      }
    },
    {
      "cell_type": "code",
      "source": [],
      "metadata": {
        "id": "PtpGakzw4xHh"
      },
      "execution_count": null,
      "outputs": []
    }
  ]
}