{
  "nbformat": 4,
  "nbformat_minor": 0,
  "metadata": {
    "colab": {
      "name": "hltv.ipynb",
      "provenance": [],
      "collapsed_sections": []
    },
    "kernelspec": {
      "name": "python3",
      "display_name": "Python 3"
    }
  },
  "cells": [
    {
      "cell_type": "code",
      "metadata": {
        "id": "TdJxJgCqHdOh",
        "colab_type": "code",
        "colab": {
          "base_uri": "https://localhost:8080/",
          "height": 71
        },
        "outputId": "df31d1af-6419-4afe-9638-997de60e8153"
      },
      "source": [
        "import requests\n",
        "from bs4 import BeautifulSoup\n",
        "import pandas as pd\n",
        "import re\n",
        "import matplotlib.pyplot as plt\n",
        "import seaborn as sns\n",
        "sns.set()"
      ],
      "execution_count": 72,
      "outputs": [
        {
          "output_type": "stream",
          "text": [
            "/usr/local/lib/python3.6/dist-packages/statsmodels/tools/_testing.py:19: FutureWarning: pandas.util.testing is deprecated. Use the functions in the public API at pandas.testing instead.\n",
            "  import pandas.util.testing as tm\n"
          ],
          "name": "stderr"
        }
      ]
    },
    {
      "cell_type": "code",
      "metadata": {
        "id": "tMR6GgjQHlWc",
        "colab_type": "code",
        "colab": {}
      },
      "source": [
        "link = 'https://www.hltv.org/stats/teams/matches/8135/forZe'"
      ],
      "execution_count": 2,
      "outputs": []
    },
    {
      "cell_type": "code",
      "metadata": {
        "id": "T081ZEUuHw66",
        "colab_type": "code",
        "colab": {}
      },
      "source": [
        "resp = requests.get(link)\n",
        "soup = BeautifulSoup(resp.text, 'lxml')"
      ],
      "execution_count": 3,
      "outputs": []
    },
    {
      "cell_type": "code",
      "metadata": {
        "id": "KRFGneF9IRIv",
        "colab_type": "code",
        "colab": {
          "base_uri": "https://localhost:8080/",
          "height": 34
        },
        "outputId": "c3ecb609-1f8f-4212-92e3-2c40cd6cd2f3"
      },
      "source": [
        "print(soup.title.text)\n"
      ],
      "execution_count": 4,
      "outputs": [
        {
          "output_type": "stream",
          "text": [
            "HLTV.org - The home of competitive Counter-Strike\n"
          ],
          "name": "stdout"
        }
      ]
    },
    {
      "cell_type": "markdown",
      "metadata": {
        "id": "4ZlljkFMSAya",
        "colab_type": "text"
      },
      "source": [
        "### Пустой датафрейм"
      ]
    },
    {
      "cell_type": "code",
      "metadata": {
        "id": "UxTOhQWxI8iF",
        "colab_type": "code",
        "colab": {}
      },
      "source": [
        "column_names = ['Date',\t'Event', 'Team', 'Opponent',\t'Map',\t'Result', 'Home_team', 'Opponent_team', 'W_L']\n",
        "df = pd.DataFrame(columns = column_names)"
      ],
      "execution_count": 55,
      "outputs": []
    },
    {
      "cell_type": "code",
      "metadata": {
        "id": "VZ4RyqwOK2Ax",
        "colab_type": "code",
        "colab": {
          "base_uri": "https://localhost:8080/",
          "height": 49
        },
        "outputId": "eb456863-293a-4f02-e24e-63231e97a72a"
      },
      "source": [
        "df"
      ],
      "execution_count": 56,
      "outputs": [
        {
          "output_type": "execute_result",
          "data": {
            "text/html": [
              "<div>\n",
              "<style scoped>\n",
              "    .dataframe tbody tr th:only-of-type {\n",
              "        vertical-align: middle;\n",
              "    }\n",
              "\n",
              "    .dataframe tbody tr th {\n",
              "        vertical-align: top;\n",
              "    }\n",
              "\n",
              "    .dataframe thead th {\n",
              "        text-align: right;\n",
              "    }\n",
              "</style>\n",
              "<table border=\"1\" class=\"dataframe\">\n",
              "  <thead>\n",
              "    <tr style=\"text-align: right;\">\n",
              "      <th></th>\n",
              "      <th>Date</th>\n",
              "      <th>Event</th>\n",
              "      <th>Team</th>\n",
              "      <th>Opponent</th>\n",
              "      <th>Map</th>\n",
              "      <th>Result</th>\n",
              "      <th>Home_team</th>\n",
              "      <th>Opponent_team</th>\n",
              "      <th>W_L</th>\n",
              "    </tr>\n",
              "  </thead>\n",
              "  <tbody>\n",
              "  </tbody>\n",
              "</table>\n",
              "</div>"
            ],
            "text/plain": [
              "Empty DataFrame\n",
              "Columns: [Date, Event, Team, Opponent, Map, Result, Home_team, Opponent_team, W_L]\n",
              "Index: []"
            ]
          },
          "metadata": {
            "tags": []
          },
          "execution_count": 56
        }
      ]
    },
    {
      "cell_type": "markdown",
      "metadata": {
        "id": "adb8MzXHR9Bl",
        "colab_type": "text"
      },
      "source": [
        "### Даты"
      ]
    },
    {
      "cell_type": "code",
      "metadata": {
        "id": "EVL6oaKOK2ry",
        "colab_type": "code",
        "colab": {}
      },
      "source": [
        "dates = []\n",
        "for tr in soup.find_all('tr'):\n",
        "  try:\n",
        "    for tddate in tr.find('td', {\"class\": \"time\"}):\n",
        "      dates.append(tddate.text)\n",
        "  except:\n",
        "    pass"
      ],
      "execution_count": 57,
      "outputs": []
    },
    {
      "cell_type": "code",
      "metadata": {
        "id": "nrl0fRiqQpYg",
        "colab_type": "code",
        "colab": {
          "base_uri": "https://localhost:8080/",
          "height": 34
        },
        "outputId": "d9d3cbbb-5769-4198-f93c-b119e6b3f826"
      },
      "source": [
        "len(dates)"
      ],
      "execution_count": 58,
      "outputs": [
        {
          "output_type": "execute_result",
          "data": {
            "text/plain": [
              "883"
            ]
          },
          "metadata": {
            "tags": []
          },
          "execution_count": 58
        }
      ]
    },
    {
      "cell_type": "markdown",
      "metadata": {
        "id": "Db915UqASGdl",
        "colab_type": "text"
      },
      "source": [
        "### Турнир"
      ]
    },
    {
      "cell_type": "code",
      "metadata": {
        "id": "aLyy9sGMRxCo",
        "colab_type": "code",
        "colab": {}
      },
      "source": [
        "competition = []\n",
        "for tr in soup.find_all('tr'):\n",
        "  try:\n",
        "    for tdcompet in tr.find('td', {\"class\": \"gtSmartphone-only\"}):\n",
        "      competition.append(tdcompet.text)\n",
        "  except:\n",
        "    pass"
      ],
      "execution_count": 59,
      "outputs": []
    },
    {
      "cell_type": "code",
      "metadata": {
        "id": "_tkkuIRkcBXO",
        "colab_type": "code",
        "colab": {
          "base_uri": "https://localhost:8080/",
          "height": 34
        },
        "outputId": "8f09fad1-e9ac-4ac2-9a75-019abf6de8ef"
      },
      "source": [
        "len(competition)"
      ],
      "execution_count": 60,
      "outputs": [
        {
          "output_type": "execute_result",
          "data": {
            "text/plain": [
              "883"
            ]
          },
          "metadata": {
            "tags": []
          },
          "execution_count": 60
        }
      ]
    },
    {
      "cell_type": "markdown",
      "metadata": {
        "id": "fSlAMRoIcN24",
        "colab_type": "text"
      },
      "source": [
        "### Оппонент"
      ]
    },
    {
      "cell_type": "code",
      "metadata": {
        "id": "k4ovCdPacC7y",
        "colab_type": "code",
        "colab": {}
      },
      "source": [
        "opponent = []\n",
        "for tr in soup.find_all('tr'):\n",
        "  try:\n",
        "    for tdopponent in tr.find('td', {\"class\": None}):\n",
        "      opponent.append(tdopponent.text)\n",
        "  except:\n",
        "    pass"
      ],
      "execution_count": 61,
      "outputs": []
    },
    {
      "cell_type": "code",
      "metadata": {
        "id": "wApkoXtcg9_j",
        "colab_type": "code",
        "colab": {
          "base_uri": "https://localhost:8080/",
          "height": 34
        },
        "outputId": "7cee4abb-0245-47b6-9c44-472f0dabd4d3"
      },
      "source": [
        "len(opponent)"
      ],
      "execution_count": 62,
      "outputs": [
        {
          "output_type": "execute_result",
          "data": {
            "text/plain": [
              "883"
            ]
          },
          "metadata": {
            "tags": []
          },
          "execution_count": 62
        }
      ]
    },
    {
      "cell_type": "markdown",
      "metadata": {
        "id": "-1iF9w6GmBvK",
        "colab_type": "text"
      },
      "source": [
        "### Карта"
      ]
    },
    {
      "cell_type": "code",
      "metadata": {
        "id": "PvE1x_wXhAIH",
        "colab_type": "code",
        "colab": {}
      },
      "source": [
        "maps = []\n",
        "for tr in soup.find_all('tr'):\n",
        "  try:\n",
        "    for tdmap in tr.find('td', {\"class\": \"statsMapPlayed\"}):\n",
        "      maps.append(tdmap.text)\n",
        "  except:\n",
        "    pass"
      ],
      "execution_count": 63,
      "outputs": []
    },
    {
      "cell_type": "code",
      "metadata": {
        "id": "Uf2mU_oRmwtZ",
        "colab_type": "code",
        "colab": {
          "base_uri": "https://localhost:8080/",
          "height": 34
        },
        "outputId": "41f1232d-6036-4c57-8d6c-c437b3200319"
      },
      "source": [
        "len(maps)"
      ],
      "execution_count": 64,
      "outputs": [
        {
          "output_type": "execute_result",
          "data": {
            "text/plain": [
              "883"
            ]
          },
          "metadata": {
            "tags": []
          },
          "execution_count": 64
        }
      ]
    },
    {
      "cell_type": "markdown",
      "metadata": {
        "id": "OP8vruBJmGeo",
        "colab_type": "text"
      },
      "source": [
        "### Счет"
      ]
    },
    {
      "cell_type": "code",
      "metadata": {
        "id": "UKdQZNKFmI9K",
        "colab_type": "code",
        "colab": {}
      },
      "source": [
        "score = []\n",
        "for tr in soup.find_all('tr'):\n",
        "  try:\n",
        "    for tdscore in tr.find('td', {\"class\": \"gtSmartphone-only text-center \"}):\n",
        "      score.append(tdscore.text)\n",
        "  except:\n",
        "    pass"
      ],
      "execution_count": 65,
      "outputs": []
    },
    {
      "cell_type": "code",
      "metadata": {
        "id": "xpkoWlBJYO9h",
        "colab_type": "code",
        "colab": {
          "base_uri": "https://localhost:8080/",
          "height": 34
        },
        "outputId": "e88d28e6-269f-4fc2-f609-5f6f2f5b6423"
      },
      "source": [
        "len(score)"
      ],
      "execution_count": 66,
      "outputs": [
        {
          "output_type": "execute_result",
          "data": {
            "text/plain": [
              "883"
            ]
          },
          "metadata": {
            "tags": []
          },
          "execution_count": 66
        }
      ]
    },
    {
      "cell_type": "markdown",
      "metadata": {
        "id": "AiYGjZbRaAJT",
        "colab_type": "text"
      },
      "source": [
        "### Заполнение датасета"
      ]
    },
    {
      "cell_type": "code",
      "metadata": {
        "id": "Oyxr2Lp4Y-xP",
        "colab_type": "code",
        "colab": {}
      },
      "source": [
        "df['Date'] = dates\n",
        "df['Event'] = competition\n",
        "df['Team'] = 'forZe'\n",
        "df['Opponent'] = opponent\n",
        "df['Map'] = maps\n",
        "df['Result'] = score"
      ],
      "execution_count": 67,
      "outputs": []
    },
    {
      "cell_type": "code",
      "metadata": {
        "id": "zWLmg5F9cBrP",
        "colab_type": "code",
        "colab": {}
      },
      "source": [
        "for i, v in enumerate(df['Result']):\n",
        "  scores = v.split('-')\n",
        "  df['Home_team'][i] = int(scores[0])\n",
        "  df['Opponent_team'][i] = int(scores[1])"
      ],
      "execution_count": 68,
      "outputs": []
    },
    {
      "cell_type": "code",
      "metadata": {
        "id": "zHn9WBkYeMl9",
        "colab_type": "code",
        "colab": {}
      },
      "source": [
        "for i, v in enumerate(df['Home_team']):\n",
        "  if df['Home_team'][i] > df['Opponent_team'][i]:\n",
        "    df['W_L'][i] = 'W'\n",
        "  else:\n",
        "    df['W_L'][i] = 'L'"
      ],
      "execution_count": 69,
      "outputs": []
    },
    {
      "cell_type": "code",
      "metadata": {
        "id": "BelfgpuUa6uc",
        "colab_type": "code",
        "colab": {
          "base_uri": "https://localhost:8080/",
          "height": 204
        },
        "outputId": "8600d531-b553-4169-f900-26839e67266c"
      },
      "source": [
        "df.head(5)"
      ],
      "execution_count": 70,
      "outputs": [
        {
          "output_type": "execute_result",
          "data": {
            "text/html": [
              "<div>\n",
              "<style scoped>\n",
              "    .dataframe tbody tr th:only-of-type {\n",
              "        vertical-align: middle;\n",
              "    }\n",
              "\n",
              "    .dataframe tbody tr th {\n",
              "        vertical-align: top;\n",
              "    }\n",
              "\n",
              "    .dataframe thead th {\n",
              "        text-align: right;\n",
              "    }\n",
              "</style>\n",
              "<table border=\"1\" class=\"dataframe\">\n",
              "  <thead>\n",
              "    <tr style=\"text-align: right;\">\n",
              "      <th></th>\n",
              "      <th>Date</th>\n",
              "      <th>Event</th>\n",
              "      <th>Team</th>\n",
              "      <th>Opponent</th>\n",
              "      <th>Map</th>\n",
              "      <th>Result</th>\n",
              "      <th>Home_team</th>\n",
              "      <th>Opponent_team</th>\n",
              "      <th>W_L</th>\n",
              "    </tr>\n",
              "  </thead>\n",
              "  <tbody>\n",
              "    <tr>\n",
              "      <th>0</th>\n",
              "      <td>17/08/20</td>\n",
              "      <td>FunSpark ULTI 2020 Europe Qualifier</td>\n",
              "      <td>forZe</td>\n",
              "      <td>Nordavind</td>\n",
              "      <td>Mirage</td>\n",
              "      <td>16 - 13</td>\n",
              "      <td>16</td>\n",
              "      <td>13</td>\n",
              "      <td>W</td>\n",
              "    </tr>\n",
              "    <tr>\n",
              "      <th>1</th>\n",
              "      <td>17/08/20</td>\n",
              "      <td>FunSpark ULTI 2020 Europe Qualifier</td>\n",
              "      <td>forZe</td>\n",
              "      <td>Nordavind</td>\n",
              "      <td>Nuke</td>\n",
              "      <td>14 - 16</td>\n",
              "      <td>14</td>\n",
              "      <td>16</td>\n",
              "      <td>L</td>\n",
              "    </tr>\n",
              "    <tr>\n",
              "      <th>2</th>\n",
              "      <td>17/08/20</td>\n",
              "      <td>FunSpark ULTI 2020 Europe Qualifier</td>\n",
              "      <td>forZe</td>\n",
              "      <td>Nordavind</td>\n",
              "      <td>Inferno</td>\n",
              "      <td>19 - 16</td>\n",
              "      <td>19</td>\n",
              "      <td>16</td>\n",
              "      <td>W</td>\n",
              "    </tr>\n",
              "    <tr>\n",
              "      <th>3</th>\n",
              "      <td>15/08/20</td>\n",
              "      <td>FunSpark ULTI 2020 Europe Qualifier</td>\n",
              "      <td>forZe</td>\n",
              "      <td>Giants</td>\n",
              "      <td>Train</td>\n",
              "      <td>16 - 12</td>\n",
              "      <td>16</td>\n",
              "      <td>12</td>\n",
              "      <td>W</td>\n",
              "    </tr>\n",
              "    <tr>\n",
              "      <th>4</th>\n",
              "      <td>15/08/20</td>\n",
              "      <td>FunSpark ULTI 2020 Europe Qualifier</td>\n",
              "      <td>forZe</td>\n",
              "      <td>Giants</td>\n",
              "      <td>Inferno</td>\n",
              "      <td>16 - 10</td>\n",
              "      <td>16</td>\n",
              "      <td>10</td>\n",
              "      <td>W</td>\n",
              "    </tr>\n",
              "  </tbody>\n",
              "</table>\n",
              "</div>"
            ],
            "text/plain": [
              "       Date                                Event  ... Opponent_team W_L\n",
              "0  17/08/20  FunSpark ULTI 2020 Europe Qualifier  ...            13   W\n",
              "1  17/08/20  FunSpark ULTI 2020 Europe Qualifier  ...            16   L\n",
              "2  17/08/20  FunSpark ULTI 2020 Europe Qualifier  ...            16   W\n",
              "3  15/08/20  FunSpark ULTI 2020 Europe Qualifier  ...            12   W\n",
              "4  15/08/20  FunSpark ULTI 2020 Europe Qualifier  ...            10   W\n",
              "\n",
              "[5 rows x 9 columns]"
            ]
          },
          "metadata": {
            "tags": []
          },
          "execution_count": 70
        }
      ]
    },
    {
      "cell_type": "code",
      "metadata": {
        "id": "D9YgjF2Sa77J",
        "colab_type": "code",
        "colab": {
          "base_uri": "https://localhost:8080/",
          "height": 514
        },
        "outputId": "79c3cf5d-b709-483c-a734-7d84632e5b3b"
      },
      "source": [
        "subset = df[df['Opponent'] == 'Nordavind']\n",
        "subset"
      ],
      "execution_count": 80,
      "outputs": [
        {
          "output_type": "execute_result",
          "data": {
            "text/html": [
              "<div>\n",
              "<style scoped>\n",
              "    .dataframe tbody tr th:only-of-type {\n",
              "        vertical-align: middle;\n",
              "    }\n",
              "\n",
              "    .dataframe tbody tr th {\n",
              "        vertical-align: top;\n",
              "    }\n",
              "\n",
              "    .dataframe thead th {\n",
              "        text-align: right;\n",
              "    }\n",
              "</style>\n",
              "<table border=\"1\" class=\"dataframe\">\n",
              "  <thead>\n",
              "    <tr style=\"text-align: right;\">\n",
              "      <th></th>\n",
              "      <th>Date</th>\n",
              "      <th>Event</th>\n",
              "      <th>Team</th>\n",
              "      <th>Opponent</th>\n",
              "      <th>Map</th>\n",
              "      <th>Result</th>\n",
              "      <th>Home_team</th>\n",
              "      <th>Opponent_team</th>\n",
              "      <th>W_L</th>\n",
              "    </tr>\n",
              "  </thead>\n",
              "  <tbody>\n",
              "    <tr>\n",
              "      <th>0</th>\n",
              "      <td>17/08/20</td>\n",
              "      <td>FunSpark ULTI 2020 Europe Qualifier</td>\n",
              "      <td>forZe</td>\n",
              "      <td>Nordavind</td>\n",
              "      <td>Mirage</td>\n",
              "      <td>16 - 13</td>\n",
              "      <td>16</td>\n",
              "      <td>13</td>\n",
              "      <td>W</td>\n",
              "    </tr>\n",
              "    <tr>\n",
              "      <th>1</th>\n",
              "      <td>17/08/20</td>\n",
              "      <td>FunSpark ULTI 2020 Europe Qualifier</td>\n",
              "      <td>forZe</td>\n",
              "      <td>Nordavind</td>\n",
              "      <td>Nuke</td>\n",
              "      <td>14 - 16</td>\n",
              "      <td>14</td>\n",
              "      <td>16</td>\n",
              "      <td>L</td>\n",
              "    </tr>\n",
              "    <tr>\n",
              "      <th>2</th>\n",
              "      <td>17/08/20</td>\n",
              "      <td>FunSpark ULTI 2020 Europe Qualifier</td>\n",
              "      <td>forZe</td>\n",
              "      <td>Nordavind</td>\n",
              "      <td>Inferno</td>\n",
              "      <td>19 - 16</td>\n",
              "      <td>19</td>\n",
              "      <td>16</td>\n",
              "      <td>W</td>\n",
              "    </tr>\n",
              "    <tr>\n",
              "      <th>23</th>\n",
              "      <td>08/08/20</td>\n",
              "      <td>FunSpark ULTI 2020 Europe Qualifier</td>\n",
              "      <td>forZe</td>\n",
              "      <td>Nordavind</td>\n",
              "      <td>Dust2</td>\n",
              "      <td>17 - 19</td>\n",
              "      <td>17</td>\n",
              "      <td>19</td>\n",
              "      <td>L</td>\n",
              "    </tr>\n",
              "    <tr>\n",
              "      <th>46</th>\n",
              "      <td>03/07/20</td>\n",
              "      <td>Hellcase Cup 8</td>\n",
              "      <td>forZe</td>\n",
              "      <td>Nordavind</td>\n",
              "      <td>Overpass</td>\n",
              "      <td>16 - 14</td>\n",
              "      <td>16</td>\n",
              "      <td>14</td>\n",
              "      <td>W</td>\n",
              "    </tr>\n",
              "    <tr>\n",
              "      <th>47</th>\n",
              "      <td>03/07/20</td>\n",
              "      <td>Hellcase Cup 8</td>\n",
              "      <td>forZe</td>\n",
              "      <td>Nordavind</td>\n",
              "      <td>Inferno</td>\n",
              "      <td>16 - 13</td>\n",
              "      <td>16</td>\n",
              "      <td>13</td>\n",
              "      <td>W</td>\n",
              "    </tr>\n",
              "    <tr>\n",
              "      <th>161</th>\n",
              "      <td>15/04/20</td>\n",
              "      <td>Home Sweet Home Cup 2</td>\n",
              "      <td>forZe</td>\n",
              "      <td>Nordavind</td>\n",
              "      <td>Nuke</td>\n",
              "      <td>12 - 16</td>\n",
              "      <td>12</td>\n",
              "      <td>16</td>\n",
              "      <td>L</td>\n",
              "    </tr>\n",
              "    <tr>\n",
              "      <th>162</th>\n",
              "      <td>15/04/20</td>\n",
              "      <td>Home Sweet Home Cup 2</td>\n",
              "      <td>forZe</td>\n",
              "      <td>Nordavind</td>\n",
              "      <td>Inferno</td>\n",
              "      <td>16 - 10</td>\n",
              "      <td>16</td>\n",
              "      <td>10</td>\n",
              "      <td>W</td>\n",
              "    </tr>\n",
              "    <tr>\n",
              "      <th>163</th>\n",
              "      <td>15/04/20</td>\n",
              "      <td>Home Sweet Home Cup 2</td>\n",
              "      <td>forZe</td>\n",
              "      <td>Nordavind</td>\n",
              "      <td>Overpass</td>\n",
              "      <td>14 - 16</td>\n",
              "      <td>14</td>\n",
              "      <td>16</td>\n",
              "      <td>L</td>\n",
              "    </tr>\n",
              "    <tr>\n",
              "      <th>170</th>\n",
              "      <td>10/04/20</td>\n",
              "      <td>Home Sweet Home Cup 1</td>\n",
              "      <td>forZe</td>\n",
              "      <td>Nordavind</td>\n",
              "      <td>Mirage</td>\n",
              "      <td>16 - 12</td>\n",
              "      <td>16</td>\n",
              "      <td>12</td>\n",
              "      <td>W</td>\n",
              "    </tr>\n",
              "    <tr>\n",
              "      <th>383</th>\n",
              "      <td>11/07/19</td>\n",
              "      <td>LOOT.BET Smack My Beach Cup</td>\n",
              "      <td>forZe</td>\n",
              "      <td>Nordavind</td>\n",
              "      <td>Dust2</td>\n",
              "      <td>8 - 16</td>\n",
              "      <td>8</td>\n",
              "      <td>16</td>\n",
              "      <td>L</td>\n",
              "    </tr>\n",
              "    <tr>\n",
              "      <th>384</th>\n",
              "      <td>11/07/19</td>\n",
              "      <td>LOOT.BET Smack My Beach Cup</td>\n",
              "      <td>forZe</td>\n",
              "      <td>Nordavind</td>\n",
              "      <td>Nuke</td>\n",
              "      <td>16 - 14</td>\n",
              "      <td>16</td>\n",
              "      <td>14</td>\n",
              "      <td>W</td>\n",
              "    </tr>\n",
              "    <tr>\n",
              "      <th>385</th>\n",
              "      <td>11/07/19</td>\n",
              "      <td>LOOT.BET Smack My Beach Cup</td>\n",
              "      <td>forZe</td>\n",
              "      <td>Nordavind</td>\n",
              "      <td>Overpass</td>\n",
              "      <td>12 - 16</td>\n",
              "      <td>12</td>\n",
              "      <td>16</td>\n",
              "      <td>L</td>\n",
              "    </tr>\n",
              "    <tr>\n",
              "      <th>589</th>\n",
              "      <td>05/12/18</td>\n",
              "      <td>ESEA Advanced Season 29 Europe</td>\n",
              "      <td>forZe</td>\n",
              "      <td>Nordavind</td>\n",
              "      <td>Overpass</td>\n",
              "      <td>16 - 8</td>\n",
              "      <td>16</td>\n",
              "      <td>8</td>\n",
              "      <td>W</td>\n",
              "    </tr>\n",
              "    <tr>\n",
              "      <th>590</th>\n",
              "      <td>05/12/18</td>\n",
              "      <td>ESEA Advanced Season 29 Europe</td>\n",
              "      <td>forZe</td>\n",
              "      <td>Nordavind</td>\n",
              "      <td>Dust2</td>\n",
              "      <td>16 - 3</td>\n",
              "      <td>16</td>\n",
              "      <td>3</td>\n",
              "      <td>W</td>\n",
              "    </tr>\n",
              "  </tbody>\n",
              "</table>\n",
              "</div>"
            ],
            "text/plain": [
              "         Date                                Event  ... Opponent_team W_L\n",
              "0    17/08/20  FunSpark ULTI 2020 Europe Qualifier  ...            13   W\n",
              "1    17/08/20  FunSpark ULTI 2020 Europe Qualifier  ...            16   L\n",
              "2    17/08/20  FunSpark ULTI 2020 Europe Qualifier  ...            16   W\n",
              "23   08/08/20  FunSpark ULTI 2020 Europe Qualifier  ...            19   L\n",
              "46   03/07/20                       Hellcase Cup 8  ...            14   W\n",
              "47   03/07/20                       Hellcase Cup 8  ...            13   W\n",
              "161  15/04/20                Home Sweet Home Cup 2  ...            16   L\n",
              "162  15/04/20                Home Sweet Home Cup 2  ...            10   W\n",
              "163  15/04/20                Home Sweet Home Cup 2  ...            16   L\n",
              "170  10/04/20                Home Sweet Home Cup 1  ...            12   W\n",
              "383  11/07/19          LOOT.BET Smack My Beach Cup  ...            16   L\n",
              "384  11/07/19          LOOT.BET Smack My Beach Cup  ...            14   W\n",
              "385  11/07/19          LOOT.BET Smack My Beach Cup  ...            16   L\n",
              "589  05/12/18       ESEA Advanced Season 29 Europe  ...             8   W\n",
              "590  05/12/18       ESEA Advanced Season 29 Europe  ...             3   W\n",
              "\n",
              "[15 rows x 9 columns]"
            ]
          },
          "metadata": {
            "tags": []
          },
          "execution_count": 80
        }
      ]
    },
    {
      "cell_type": "markdown",
      "metadata": {
        "id": "qwTyvb5amSus",
        "colab_type": "text"
      },
      "source": [
        "### Общая статистика"
      ]
    },
    {
      "cell_type": "code",
      "metadata": {
        "id": "_zrmjlyKmYSD",
        "colab_type": "code",
        "colab": {}
      },
      "source": [
        ""
      ],
      "execution_count": null,
      "outputs": []
    },
    {
      "cell_type": "markdown",
      "metadata": {
        "id": "QAZAZQxMfutE",
        "colab_type": "text"
      },
      "source": [
        "### Графики"
      ]
    },
    {
      "cell_type": "code",
      "metadata": {
        "id": "PHtdPJRXbuNl",
        "colab_type": "code",
        "colab": {
          "base_uri": "https://localhost:8080/",
          "height": 538
        },
        "outputId": "70c3d788-81c9-41d8-deee-5c589619730e"
      },
      "source": [
        "plt.figure(figsize=(10,5))\n",
        "ax = sns.countplot(x=\"Map\", hue='W_L', data=df)\n",
        "ax.set_xticklabels(ax.get_xticklabels(), rotation=45)"
      ],
      "execution_count": 79,
      "outputs": [
        {
          "output_type": "execute_result",
          "data": {
            "text/plain": [
              "[Text(0, 0, 'Mirage'),\n",
              " Text(0, 0, 'Nuke'),\n",
              " Text(0, 0, 'Inferno'),\n",
              " Text(0, 0, 'Train'),\n",
              " Text(0, 0, 'Dust2'),\n",
              " Text(0, 0, 'Overpass'),\n",
              " Text(0, 0, 'Vertigo'),\n",
              " Text(0, 0, 'Cache'),\n",
              " Text(0, 0, 'Cobblestone')]"
            ]
          },
          "metadata": {
            "tags": []
          },
          "execution_count": 79
        },
        {
          "output_type": "display_data",
          "data": {
            "image/png": "[encoded data removed]",
            "text/plain": [
              "<Figure size 720x360 with 1 Axes>"
            ]
          },
          "metadata": {
            "tags": []
          }
        }
      ]
    },
    {
      "cell_type": "code",
      "metadata": {
        "id": "9hf8jMqCgw1o",
        "colab_type": "code",
        "colab": {
          "base_uri": "https://localhost:8080/",
          "height": 458
        },
        "outputId": "a02db9ea-7c02-4cad-a317-ce6e748d1be7"
      },
      "source": [
        "plt.figure(figsize=(10,5))\n",
        "ax = sns.countplot(x=\"Map\", hue='W_L', data=subset)\n",
        "ax.set_xticklabels(ax.get_xticklabels(), rotation=45)"
      ],
      "execution_count": 81,
      "outputs": [
        {
          "output_type": "execute_result",
          "data": {
            "text/plain": [
              "[Text(0, 0, 'Mirage'),\n",
              " Text(0, 0, 'Nuke'),\n",
              " Text(0, 0, 'Inferno'),\n",
              " Text(0, 0, 'Dust2'),\n",
              " Text(0, 0, 'Overpass')]"
            ]
          },
          "metadata": {
            "tags": []
          },
          "execution_count": 81
        },
        {
          "output_type": "display_data",
          "data": {
            "image/png": "[encoded data removed]",
            "text/plain": [
              "<Figure size 720x360 with 1 Axes>"
            ]
          },
          "metadata": {
            "tags": []
          }
        }
      ]
    }
  ]
}