{
  "nbformat": 4,
  "nbformat_minor": 0,
  "metadata": {
    "colab": {
      "provenance": []
    },
    "kernelspec": {
      "name": "python3",
      "display_name": "Python 3"
    },
    "language_info": {
      "name": "python"
    }
  },
  "cells": [
    {
      "cell_type": "markdown",
      "source": [
        "# Задание 1 \n",
        "Представьте, что вы устроились в компанию, которая занимается продажей ювелирных\n",
        "украшений через интернет-магазин. Какие 5 продуктовых метрик вы бы запустили в первую\n",
        "очередь? О чем они могут рассказать бизнесу?"
      ],
      "metadata": {
        "id": "GTdtY0M-k8ex"
      }
    },
    {
      "cell_type": "markdown",
      "source": [
        "1. <b>customer acquisition cost</b> - оценивает эффективность маркетинга и рекламы. Метрика показывает сумму, которая тратится на привлечение одного «платящего» клиента. \n",
        "\n",
        "2. <b>conversion rate</b> - конверсия в целевое действие (в интернет-магазине - покупка). Показывает процент пользователей, которые совершили ряд действий от захода на сайт/приложение и до совершения покупки. Метрика определяет, насколько эффективен сам сайт/приложение и источники трафика, которые вы используете, а также помогает понять на каких этапах происходит наибольший отток клиентов. Работая с узкими горлышками конверсии можно значительно повысить доход компании.\n",
        "\n",
        "3. <b>average revenue per user</b> - ARPU показывает, сколько денег в среднем приносит компании один пользователь за определенный промежуток времени. Помогает оценить финансовый потенциал компании, привлечь инвесторов к проекту, оценить изменения в ценах и проанализировать результаты рекламной кампании.\n",
        "\n",
        "4. <b>LTV</b> - ценность клиента за весь цикл его \"жизни\" на сайте/приложении. Метрика показывает общую сумму денег, которую покупатель тратит за всё время. Метрика может помочь понять, сколько тратить на привлечение и удержание клиентов; определить, как быстро окупятся средства, которые компания тратит на привлечение новых клиентов; выявить клиентов с высокой и низкой ценностью; выяснить, какие рекламные каналы приносят более ценных клиентов в долгосрочной перспективе.\n",
        "\n",
        "5. <b>retention</b> - удержание или возвращаемость клиентов с течением времени. Помогает оценить результаты рекламных кампаний, определить фрод, выявлять баги и ошибки в продукте. "
      ],
      "metadata": {
        "id": "3DE7qzBDfYgU"
      }
    },
    {
      "cell_type": "markdown",
      "source": [
        "# Задание 2"
      ],
      "metadata": {
        "id": "HD_QJf25fYo4"
      }
    },
    {
      "cell_type": "markdown",
      "source": [
        "<b> О чем вам говорит эта когорта, построенная по количеству привлеченных клиентов? </b>\n",
        "1. Когорты привлеченных пользователей увеличивались с сентября 2016 по ноябрь/декабрь 2017. В ноябре/декабре 2017 было достигнуто максимальное количество пользователей.\n",
        "2. После декабря 2017 наблюдается спад количества привлеченных пользователей, а затем период умеренных показателей с небольшими флуктуациями, который завершается в сентябре 2018, после которого наблюдается большое падение минимальный показатель в октябре 2018.\n",
        "3. С ноября 2018 по март 2019 наблюдается цикличность с подъемами и спадами в количестве привлеченных пользователей. \n",
        "4. Отток пользователей по когортам в целом стабильный и одинаковый. \n",
        "\n",
        "\n",
        "<b> Какие будут ваши действия после анализа этого отчета? </b>\n",
        "1. Нужно проверить с чем связан большой спад в привлечении пользователей в сентябре/октябре 2018. Неправильная рекламная кампания или же что-то другое?\n",
        "2. Нужно проверить причины цикличности привлечения пользователей в конце 2018 и начале 2019 года. \n",
        "\n",
        "<b> Как можно улучшить отчет? </b>\n",
        "1. Можно было бы добавить детализацию, чтобы понимать конкретные значения."
      ],
      "metadata": {
        "id": "mwHSxLdqsrk_"
      }
    },
    {
      "cell_type": "markdown",
      "source": [
        "# Задание 3 "
      ],
      "metadata": {
        "id": "QBiC5q7IsIoO"
      }
    },
    {
      "cell_type": "markdown",
      "source": [
        "Представьте ситуацию. На этой странице https://sokolov.ru/jewelry-catalog/product/1011545-3/\n",
        "появился новый функционал «Примерка» (он находится снизу справа от фотографии кольца).\n",
        "Продакт менеджер попросил сделать разметку для сайта и мобильного приложения, чтобы\n",
        "замерить эффективность этой фичи в аналитических системах Google Analytics и Firebase. Опишите\n",
        "последовательность ваших действий, чтобы статистика начала собираться. А также как вы будете\n",
        "оценивать эффективность нового функционала?"
      ],
      "metadata": {
        "id": "k6HeXpwtfYux"
      }
    },
    {
      "cell_type": "markdown",
      "source": [
        "### Google analytics"
      ],
      "metadata": {
        "id": "6pqrRlWUx_tK"
      }
    },
    {
      "cell_type": "markdown",
      "source": [
        "1. Необходимо установить счетчик на нажатие кнопки \"примерка\". \n",
        "2. Идем в google analytics и авторизуемся. Затем переходим во вкладку «Администратор».\n",
        "3. Настраиваем цели для нажатия на кнопку. Добавляем новую цель через кнопку «+ Цель». \n",
        "4. В открывшемся подразделе «Установка цели» активируем пункт «Собственная» и нажимаем на синюю кнопку «Далее».\n",
        "5. В «Описание цели» вводим ее название, а затем среди типов цели отмечаем «Событие».\n",
        "6. В последнем подразделе («Подробные сведения о цели») необходимо заполнить пункты «Категория», «Действие», «Ярлык».\n",
        "7. Затем необходимо внести код события в html-код кнопки на сайте. "
      ],
      "metadata": {
        "id": "mQCjofgGwvmF"
      }
    },
    {
      "cell_type": "markdown",
      "source": [
        "### Оценка эффективности нового функционала\n",
        "\n",
        "Прежде чем выпускать функционал для всех пользователей необходимо провести A/B- тестирование на статистически значимых выборках и замерить влияние новой кнопки на, например, конверсию в покупку, средний чек и др. "
      ],
      "metadata": {
        "id": "vwwi6inozqvZ"
      }
    },
    {
      "cell_type": "markdown",
      "source": [
        "# Задание 4"
      ],
      "metadata": {
        "id": "RbXavFzjbTI9"
      }
    },
    {
      "cell_type": "markdown",
      "source": [
        "В данном задании можете использовать язык программирования Python. Подключитесь к веб-\n",
        "странице https://sokolov.ru/terms/bonus-system/ и посчитайте количество упоминаний следующих\n",
        "слов: SOKOLOV, sokolov, mySOKOLOV, mail. Затем отсортируйте от большего к меньшему и\n",
        "выгрузите в текстовый файл в следующем формате (порядок может быть другой):\n",
        "SOKOLOV – A упоминаний,\n",
        "sokolov – B упоминаний,\n",
        "mySOKOLOV – C упоминаний,\n",
        "mail – D упоминаний."
      ],
      "metadata": {
        "id": "Jy2LPPqjcU7N"
      }
    },
    {
      "cell_type": "code",
      "source": [
        "from bs4 import BeautifulSoup\n",
        "import re\n",
        "import requests\n",
        "from collections import Counter\n",
        "from string import punctuation\n",
        "from nltk.tokenize import WordPunctTokenizer\n",
        "tk = WordPunctTokenizer()"
      ],
      "metadata": {
        "id": "0UbzZd4JbVRF"
      },
      "execution_count": null,
      "outputs": []
    },
    {
      "cell_type": "code",
      "source": [
        "punctuation += '«»'"
      ],
      "metadata": {
        "id": "QHUKh6sBfS5J"
      },
      "execution_count": null,
      "outputs": []
    },
    {
      "cell_type": "code",
      "source": [
        "punctuation"
      ],
      "metadata": {
        "colab": {
          "base_uri": "https://localhost:8080/",
          "height": 36
        },
        "id": "bfnud6DufY4U",
        "outputId": "717d0d06-f64d-4524-dc37-2c8a58b119df"
      },
      "execution_count": null,
      "outputs": [
        {
          "output_type": "execute_result",
          "data": {
            "text/plain": [
              "'!\"#$%&\\'()*+,-./:;<=>?@[\\\\]^_`{|}~«»'"
            ],
            "application/vnd.google.colaboratory.intrinsic+json": {
              "type": "string"
            }
          },
          "metadata": {},
          "execution_count": 277
        }
      ]
    },
    {
      "cell_type": "code",
      "source": [
        "r = requests.get(\"https://sokolov.ru/terms/bonus-system/\")\n",
        "soup = BeautifulSoup(r.content)"
      ],
      "metadata": {
        "id": "wmvOcWWedjLE"
      },
      "execution_count": null,
      "outputs": []
    },
    {
      "cell_type": "code",
      "source": [
        "text_p = (''.join(s.findAll(text=True))for s in soup.findAll('p'))\n",
        "text_div = (''.join(s.findAll(text=True))for s in soup.findAll('div'))"
      ],
      "metadata": {
        "id": "eV1CxqjxbVT1"
      },
      "execution_count": null,
      "outputs": []
    },
    {
      "cell_type": "code",
      "source": [
        "c_p = Counter((x.rstrip(punctuation) for y in text_p for x in tk.tokenize(y)))\n",
        "c_div = Counter((x.rstrip(punctuation) for y in text_div for x in tk.tokenize(y)))\n",
        "total = c_div + c_p"
      ],
      "metadata": {
        "id": "iJyTt7r_bVWo"
      },
      "execution_count": null,
      "outputs": []
    },
    {
      "cell_type": "code",
      "source": [
        "print('SOKOLOV: {}'.format(total['SOKOLOV']))\n",
        "print('sokolov: {}'.format(total['sokolov']))\n",
        "print('mySOKOLOV: {}'.format(total['mySOKOLOV']))\n",
        "print('mail: {}'.format(total['mail']))"
      ],
      "metadata": {
        "colab": {
          "base_uri": "https://localhost:8080/"
        },
        "id": "SU0BJ4Jfe7cx",
        "outputId": "6113d526-0f17-49a6-ea3c-ee7176461904"
      },
      "execution_count": null,
      "outputs": [
        {
          "output_type": "stream",
          "name": "stdout",
          "text": [
            "SOKOLOV: 117\n",
            "sokolov: 164\n",
            "mySOKOLOV: 62\n",
            "mail: 24\n"
          ]
        }
      ]
    },
    {
      "cell_type": "code",
      "source": [
        "list_count = ['SOKOLOV: {}'.format(total['SOKOLOV']), 'sokolov: {}'.format(total['sokolov']), 'mySOKOLOV: {}'.format(total['mySOKOLOV']), 'mail: {}'.format(total['mail'])]"
      ],
      "metadata": {
        "id": "cc9AN4JciBTY"
      },
      "execution_count": null,
      "outputs": []
    },
    {
      "cell_type": "code",
      "source": [
        "list_count"
      ],
      "metadata": {
        "colab": {
          "base_uri": "https://localhost:8080/"
        },
        "id": "l5OVHBISiP28",
        "outputId": "e8cc2092-5160-4952-b7e0-7d197bf651bb"
      },
      "execution_count": null,
      "outputs": [
        {
          "output_type": "execute_result",
          "data": {
            "text/plain": [
              "['SOKOLOV: 117', 'sokolov: 164', 'mySOKOLOV: 62', 'mail: 24']"
            ]
          },
          "metadata": {},
          "execution_count": 308
        }
      ]
    },
    {
      "cell_type": "code",
      "source": [
        "with open('sokolov_count.txt', 'a') as out:\n",
        "    for l in list_count:\n",
        "      out.write(l + '\\n')"
      ],
      "metadata": {
        "id": "nT93Vgv8h8ei"
      },
      "execution_count": null,
      "outputs": []
    },
    {
      "cell_type": "markdown",
      "source": [
        "# Задание 5"
      ],
      "metadata": {
        "id": "eB5qvlVebQb4"
      }
    },
    {
      "cell_type": "markdown",
      "source": [
        "### Генерация данных для запроса"
      ],
      "metadata": {
        "id": "8ES5mMjYw0rp"
      }
    },
    {
      "cell_type": "code",
      "source": [
        "!pip install pandasql faker"
      ],
      "metadata": {
        "id": "B1avuQoH2dBR"
      },
      "execution_count": null,
      "outputs": []
    },
    {
      "cell_type": "code",
      "execution_count": null,
      "metadata": {
        "id": "SJTM16Gx1bpG"
      },
      "outputs": [],
      "source": [
        "import pandas as pd\n",
        "from pandasql import sqldf\n",
        "import numpy as np\n",
        "import random\n",
        "import time\n",
        "import datetime \n",
        "from faker import Faker"
      ]
    },
    {
      "cell_type": "code",
      "source": [
        "fake = Faker()"
      ],
      "metadata": {
        "id": "CSiYvmZI8PYp"
      },
      "execution_count": null,
      "outputs": []
    },
    {
      "cell_type": "code",
      "source": [
        "сust_id = np.arange(1, 101)\n",
        "is_email = [random.randrange(2) for p in range(0, 100)]\n",
        "birthday = [fake.date_between(start_date='-60y', end_date='-24y') for p in range(0, 100)]"
      ],
      "metadata": {
        "id": "Fv6sGd8i2WFa"
      },
      "execution_count": null,
      "outputs": []
    },
    {
      "cell_type": "code",
      "source": [
        "np.arange(1, 10)"
      ],
      "metadata": {
        "colab": {
          "base_uri": "https://localhost:8080/"
        },
        "id": "JPgVPtAaUrH1",
        "outputId": "c9b99f68-ce26-4ef6-80a8-986b2546f1ce"
      },
      "execution_count": null,
      "outputs": [
        {
          "output_type": "execute_result",
          "data": {
            "text/plain": [
              "array([1, 2, 3, 4, 5, 6, 7, 8, 9])"
            ]
          },
          "metadata": {},
          "execution_count": 231
        }
      ]
    },
    {
      "cell_type": "code",
      "source": [
        "customers = pd.DataFrame({'сustomer_id': сust_id, \n",
        "                             'birthday': birthday, \n",
        "                             'is_email': is_email})"
      ],
      "metadata": {
        "id": "Lw6f0GXG9PfB"
      },
      "execution_count": null,
      "outputs": []
    },
    {
      "cell_type": "code",
      "source": [
        "customers.birthday = pd.to_datetime(customers.birthday)"
      ],
      "metadata": {
        "id": "zLFoiehZIaIL"
      },
      "execution_count": null,
      "outputs": []
    },
    {
      "cell_type": "code",
      "source": [
        "customers.head(3)"
      ],
      "metadata": {
        "colab": {
          "base_uri": "https://localhost:8080/",
          "height": 143
        },
        "id": "8GGEwhW894o5",
        "outputId": "9866c2f1-fb0e-45a5-dd80-b3dc988d40a2"
      },
      "execution_count": null,
      "outputs": [
        {
          "output_type": "execute_result",
          "data": {
            "text/plain": [
              "   сustomer_id   birthday  is_email\n",
              "0            1 1967-08-31         0\n",
              "1            2 1998-04-04         1\n",
              "2            3 1971-05-30         1"
            ],
            "text/html": [
              "\n",
              "  <div id=\"df-bf6975f9-ce44-4a82-a006-38efebf1e07f\">\n",
              "    <div class=\"colab-df-container\">\n",
              "      <div>\n",
              "<style scoped>\n",
              "    .dataframe tbody tr th:only-of-type {\n",
              "        vertical-align: middle;\n",
              "    }\n",
              "\n",
              "    .dataframe tbody tr th {\n",
              "        vertical-align: top;\n",
              "    }\n",
              "\n",
              "    .dataframe thead th {\n",
              "        text-align: right;\n",
              "    }\n",
              "</style>\n",
              "<table border=\"1\" class=\"dataframe\">\n",
              "  <thead>\n",
              "    <tr style=\"text-align: right;\">\n",
              "      <th></th>\n",
              "      <th>сustomer_id</th>\n",
              "      <th>birthday</th>\n",
              "      <th>is_email</th>\n",
              "    </tr>\n",
              "  </thead>\n",
              "  <tbody>\n",
              "    <tr>\n",
              "      <th>0</th>\n",
              "      <td>1</td>\n",
              "      <td>1967-08-31</td>\n",
              "      <td>0</td>\n",
              "    </tr>\n",
              "    <tr>\n",
              "      <th>1</th>\n",
              "      <td>2</td>\n",
              "      <td>1998-04-04</td>\n",
              "      <td>1</td>\n",
              "    </tr>\n",
              "    <tr>\n",
              "      <th>2</th>\n",
              "      <td>3</td>\n",
              "      <td>1971-05-30</td>\n",
              "      <td>1</td>\n",
              "    </tr>\n",
              "  </tbody>\n",
              "</table>\n",
              "</div>\n",
              "      <button class=\"colab-df-convert\" onclick=\"convertToInteractive('df-bf6975f9-ce44-4a82-a006-38efebf1e07f')\"\n",
              "              title=\"Convert this dataframe to an interactive table.\"\n",
              "              style=\"display:none;\">\n",
              "        \n",
              "  <svg xmlns=\"http://www.w3.org/2000/svg\" height=\"24px\"viewBox=\"0 0 24 24\"\n",
              "       width=\"24px\">\n",
              "    <path d=\"M0 0h24v24H0V0z\" fill=\"none\"/>\n",
              "    <path d=\"M18.56 5.44l.94 2.06.94-2.06 2.06-.94-2.06-.94-.94-2.06-.94 2.06-2.06.94zm-11 1L8.5 8.5l.94-2.06 2.06-.94-2.06-.94L8.5 2.5l-.94 2.06-2.06.94zm10 10l.94 2.06.94-2.06 2.06-.94-2.06-.94-.94-2.06-.94 2.06-2.06.94z\"/><path d=\"M17.41 7.96l-1.37-1.37c-.4-.4-.92-.59-1.43-.59-.52 0-1.04.2-1.43.59L10.3 9.45l-7.72 7.72c-.78.78-.78 2.05 0 2.83L4 21.41c.39.39.9.59 1.41.59.51 0 1.02-.2 1.41-.59l7.78-7.78 2.81-2.81c.8-.78.8-2.07 0-2.86zM5.41 20L4 18.59l7.72-7.72 1.47 1.35L5.41 20z\"/>\n",
              "  </svg>\n",
              "      </button>\n",
              "      \n",
              "  <style>\n",
              "    .colab-df-container {\n",
              "      display:flex;\n",
              "      flex-wrap:wrap;\n",
              "      gap: 12px;\n",
              "    }\n",
              "\n",
              "    .colab-df-convert {\n",
              "      background-color: #E8F0FE;\n",
              "      border: none;\n",
              "      border-radius: 50%;\n",
              "      cursor: pointer;\n",
              "      display: none;\n",
              "      fill: #1967D2;\n",
              "      height: 32px;\n",
              "      padding: 0 0 0 0;\n",
              "      width: 32px;\n",
              "    }\n",
              "\n",
              "    .colab-df-convert:hover {\n",
              "      background-color: #E2EBFA;\n",
              "      box-shadow: 0px 1px 2px rgba(60, 64, 67, 0.3), 0px 1px 3px 1px rgba(60, 64, 67, 0.15);\n",
              "      fill: #174EA6;\n",
              "    }\n",
              "\n",
              "    [theme=dark] .colab-df-convert {\n",
              "      background-color: #3B4455;\n",
              "      fill: #D2E3FC;\n",
              "    }\n",
              "\n",
              "    [theme=dark] .colab-df-convert:hover {\n",
              "      background-color: #434B5C;\n",
              "      box-shadow: 0px 1px 3px 1px rgba(0, 0, 0, 0.15);\n",
              "      filter: drop-shadow(0px 1px 2px rgba(0, 0, 0, 0.3));\n",
              "      fill: #FFFFFF;\n",
              "    }\n",
              "  </style>\n",
              "\n",
              "      <script>\n",
              "        const buttonEl =\n",
              "          document.querySelector('#df-bf6975f9-ce44-4a82-a006-38efebf1e07f button.colab-df-convert');\n",
              "        buttonEl.style.display =\n",
              "          google.colab.kernel.accessAllowed ? 'block' : 'none';\n",
              "\n",
              "        async function convertToInteractive(key) {\n",
              "          const element = document.querySelector('#df-bf6975f9-ce44-4a82-a006-38efebf1e07f');\n",
              "          const dataTable =\n",
              "            await google.colab.kernel.invokeFunction('convertToInteractive',\n",
              "                                                     [key], {});\n",
              "          if (!dataTable) return;\n",
              "\n",
              "          const docLinkHtml = 'Like what you see? Visit the ' +\n",
              "            '<a target=\"_blank\" href=https://colab.research.google.com/notebooks/data_table.ipynb>data table notebook</a>'\n",
              "            + ' to learn more about interactive tables.';\n",
              "          element.innerHTML = '';\n",
              "          dataTable['output_type'] = 'display_data';\n",
              "          await google.colab.output.renderOutput(dataTable, element);\n",
              "          const docLink = document.createElement('div');\n",
              "          docLink.innerHTML = docLinkHtml;\n",
              "          element.appendChild(docLink);\n",
              "        }\n",
              "      </script>\n",
              "    </div>\n",
              "  </div>\n",
              "  "
            ]
          },
          "metadata": {},
          "execution_count": 234
        }
      ]
    },
    {
      "cell_type": "code",
      "source": [
        "customers.dtypes"
      ],
      "metadata": {
        "colab": {
          "base_uri": "https://localhost:8080/"
        },
        "id": "D5CBJj7_If7_",
        "outputId": "bddd770b-7647-42e3-d552-359ccce9ecbd"
      },
      "execution_count": null,
      "outputs": [
        {
          "output_type": "execute_result",
          "data": {
            "text/plain": [
              "сustomer_id             int64\n",
              "birthday       datetime64[ns]\n",
              "is_email                int64\n",
              "dtype: object"
            ]
          },
          "metadata": {},
          "execution_count": 235
        }
      ]
    },
    {
      "cell_type": "code",
      "source": [
        "receipt_id = np.arange(1, 1001)\n",
        "сust_id2 = [random.randrange(1,101) for p in range(0, 1000)]\n",
        "receipt_date = [fake.date_between(start_date='-4y', end_date='now') for p in range(0, 1000)]"
      ],
      "metadata": {
        "id": "LXIlbNSNJZtF"
      },
      "execution_count": null,
      "outputs": []
    },
    {
      "cell_type": "code",
      "source": [
        "sales = pd.DataFrame({'receipt_id': receipt_id, \n",
        "                             'сustomer_id': сust_id2, \n",
        "                             'receipt_date': receipt_date})"
      ],
      "metadata": {
        "id": "SumXJY-wItDy"
      },
      "execution_count": null,
      "outputs": []
    },
    {
      "cell_type": "code",
      "source": [
        "sales.receipt_date = pd.to_datetime(sales.receipt_date)"
      ],
      "metadata": {
        "id": "7VibESPoMD8S"
      },
      "execution_count": null,
      "outputs": []
    },
    {
      "cell_type": "code",
      "source": [
        "sales.head(3)"
      ],
      "metadata": {
        "colab": {
          "base_uri": "https://localhost:8080/",
          "height": 143
        },
        "id": "q5xfpLhkM9GK",
        "outputId": "4fe38766-67a2-418f-8501-943ac2ea62b6"
      },
      "execution_count": null,
      "outputs": [
        {
          "output_type": "execute_result",
          "data": {
            "text/plain": [
              "   receipt_id  сustomer_id receipt_date\n",
              "0           1           51   2020-03-05\n",
              "1           2           76   2022-07-13\n",
              "2           3            4   2021-12-03"
            ],
            "text/html": [
              "\n",
              "  <div id=\"df-e2921683-e918-49a4-9dd1-3a96a10eaa6c\">\n",
              "    <div class=\"colab-df-container\">\n",
              "      <div>\n",
              "<style scoped>\n",
              "    .dataframe tbody tr th:only-of-type {\n",
              "        vertical-align: middle;\n",
              "    }\n",
              "\n",
              "    .dataframe tbody tr th {\n",
              "        vertical-align: top;\n",
              "    }\n",
              "\n",
              "    .dataframe thead th {\n",
              "        text-align: right;\n",
              "    }\n",
              "</style>\n",
              "<table border=\"1\" class=\"dataframe\">\n",
              "  <thead>\n",
              "    <tr style=\"text-align: right;\">\n",
              "      <th></th>\n",
              "      <th>receipt_id</th>\n",
              "      <th>сustomer_id</th>\n",
              "      <th>receipt_date</th>\n",
              "    </tr>\n",
              "  </thead>\n",
              "  <tbody>\n",
              "    <tr>\n",
              "      <th>0</th>\n",
              "      <td>1</td>\n",
              "      <td>51</td>\n",
              "      <td>2020-03-05</td>\n",
              "    </tr>\n",
              "    <tr>\n",
              "      <th>1</th>\n",
              "      <td>2</td>\n",
              "      <td>76</td>\n",
              "      <td>2022-07-13</td>\n",
              "    </tr>\n",
              "    <tr>\n",
              "      <th>2</th>\n",
              "      <td>3</td>\n",
              "      <td>4</td>\n",
              "      <td>2021-12-03</td>\n",
              "    </tr>\n",
              "  </tbody>\n",
              "</table>\n",
              "</div>\n",
              "      <button class=\"colab-df-convert\" onclick=\"convertToInteractive('df-e2921683-e918-49a4-9dd1-3a96a10eaa6c')\"\n",
              "              title=\"Convert this dataframe to an interactive table.\"\n",
              "              style=\"display:none;\">\n",
              "        \n",
              "  <svg xmlns=\"http://www.w3.org/2000/svg\" height=\"24px\"viewBox=\"0 0 24 24\"\n",
              "       width=\"24px\">\n",
              "    <path d=\"M0 0h24v24H0V0z\" fill=\"none\"/>\n",
              "    <path d=\"M18.56 5.44l.94 2.06.94-2.06 2.06-.94-2.06-.94-.94-2.06-.94 2.06-2.06.94zm-11 1L8.5 8.5l.94-2.06 2.06-.94-2.06-.94L8.5 2.5l-.94 2.06-2.06.94zm10 10l.94 2.06.94-2.06 2.06-.94-2.06-.94-.94-2.06-.94 2.06-2.06.94z\"/><path d=\"M17.41 7.96l-1.37-1.37c-.4-.4-.92-.59-1.43-.59-.52 0-1.04.2-1.43.59L10.3 9.45l-7.72 7.72c-.78.78-.78 2.05 0 2.83L4 21.41c.39.39.9.59 1.41.59.51 0 1.02-.2 1.41-.59l7.78-7.78 2.81-2.81c.8-.78.8-2.07 0-2.86zM5.41 20L4 18.59l7.72-7.72 1.47 1.35L5.41 20z\"/>\n",
              "  </svg>\n",
              "      </button>\n",
              "      \n",
              "  <style>\n",
              "    .colab-df-container {\n",
              "      display:flex;\n",
              "      flex-wrap:wrap;\n",
              "      gap: 12px;\n",
              "    }\n",
              "\n",
              "    .colab-df-convert {\n",
              "      background-color: #E8F0FE;\n",
              "      border: none;\n",
              "      border-radius: 50%;\n",
              "      cursor: pointer;\n",
              "      display: none;\n",
              "      fill: #1967D2;\n",
              "      height: 32px;\n",
              "      padding: 0 0 0 0;\n",
              "      width: 32px;\n",
              "    }\n",
              "\n",
              "    .colab-df-convert:hover {\n",
              "      background-color: #E2EBFA;\n",
              "      box-shadow: 0px 1px 2px rgba(60, 64, 67, 0.3), 0px 1px 3px 1px rgba(60, 64, 67, 0.15);\n",
              "      fill: #174EA6;\n",
              "    }\n",
              "\n",
              "    [theme=dark] .colab-df-convert {\n",
              "      background-color: #3B4455;\n",
              "      fill: #D2E3FC;\n",
              "    }\n",
              "\n",
              "    [theme=dark] .colab-df-convert:hover {\n",
              "      background-color: #434B5C;\n",
              "      box-shadow: 0px 1px 3px 1px rgba(0, 0, 0, 0.15);\n",
              "      filter: drop-shadow(0px 1px 2px rgba(0, 0, 0, 0.3));\n",
              "      fill: #FFFFFF;\n",
              "    }\n",
              "  </style>\n",
              "\n",
              "      <script>\n",
              "        const buttonEl =\n",
              "          document.querySelector('#df-e2921683-e918-49a4-9dd1-3a96a10eaa6c button.colab-df-convert');\n",
              "        buttonEl.style.display =\n",
              "          google.colab.kernel.accessAllowed ? 'block' : 'none';\n",
              "\n",
              "        async function convertToInteractive(key) {\n",
              "          const element = document.querySelector('#df-e2921683-e918-49a4-9dd1-3a96a10eaa6c');\n",
              "          const dataTable =\n",
              "            await google.colab.kernel.invokeFunction('convertToInteractive',\n",
              "                                                     [key], {});\n",
              "          if (!dataTable) return;\n",
              "\n",
              "          const docLinkHtml = 'Like what you see? Visit the ' +\n",
              "            '<a target=\"_blank\" href=https://colab.research.google.com/notebooks/data_table.ipynb>data table notebook</a>'\n",
              "            + ' to learn more about interactive tables.';\n",
              "          element.innerHTML = '';\n",
              "          dataTable['output_type'] = 'display_data';\n",
              "          await google.colab.output.renderOutput(dataTable, element);\n",
              "          const docLink = document.createElement('div');\n",
              "          docLink.innerHTML = docLinkHtml;\n",
              "          element.appendChild(docLink);\n",
              "        }\n",
              "      </script>\n",
              "    </div>\n",
              "  </div>\n",
              "  "
            ]
          },
          "metadata": {},
          "execution_count": 240
        }
      ]
    },
    {
      "cell_type": "code",
      "source": [
        "sales.dtypes"
      ],
      "metadata": {
        "colab": {
          "base_uri": "https://localhost:8080/"
        },
        "id": "PiayPxFRM_qi",
        "outputId": "86d909dd-160f-4661-87e2-c104cdea9820"
      },
      "execution_count": null,
      "outputs": [
        {
          "output_type": "execute_result",
          "data": {
            "text/plain": [
              "receipt_id               int64\n",
              "сustomer_id              int64\n",
              "receipt_date    datetime64[ns]\n",
              "dtype: object"
            ]
          },
          "metadata": {},
          "execution_count": 241
        }
      ]
    },
    {
      "cell_type": "markdown",
      "source": [
        "### Запрос"
      ],
      "metadata": {
        "id": "QmzTFdRJw57z"
      }
    },
    {
      "cell_type": "markdown",
      "source": [
        "Описание задачи: Мы планируем провести email кампанию по профилю клиента:\n",
        "- возраст: 30+\n",
        "- наличие покупки в 2021 году\n",
        "- общее кол-во покупок за всю историю больше 1.\n",
        "\n",
        "Напишите запрос к БД так, чтобы итоговая выгрузка содержала список cust_id которые соответствуют параметрам профиля клиента.\n",
        "\n",
        "При решении можно использовать любой диалект SQL. Если задача решается несколькими запросами – опишите дальнейшие шаги по подготовке итога."
      ],
      "metadata": {
        "id": "cUGxJLpkSC6X"
      }
    },
    {
      "cell_type": "code",
      "source": [
        "q = \"\"\"\n",
        "       SELECT сustomer_id \n",
        "       FROM sales\n",
        "       WHERE strftime('%Y', receipt_date) = '2021' AND сustomer_id IN (SELECT сustomer_id\n",
        "                                                                       FROM customers\n",
        "                                                                       WHERE (strftime('%Y', 'Now') - strftime('%Y', birthday)) >= 30)\n",
        "       GROUP BY сustomer_id\n",
        "       HAVING COUNT(*) > 1;\n",
        "    \"\"\""
      ],
      "metadata": {
        "id": "frJzpt_zXyiI"
      },
      "execution_count": null,
      "outputs": []
    },
    {
      "cell_type": "code",
      "source": [
        "sqldf(q)"
      ],
      "metadata": {
        "colab": {
          "base_uri": "https://localhost:8080/",
          "height": 1000
        },
        "id": "r90iftWNNePt",
        "outputId": "9de8936e-2f16-4c61-942c-979720ffd44f"
      },
      "execution_count": null,
      "outputs": [
        {
          "output_type": "execute_result",
          "data": {
            "text/plain": [
              "    сustomer_id\n",
              "0             1\n",
              "1             3\n",
              "2             4\n",
              "3             5\n",
              "4             7\n",
              "5             8\n",
              "6            10\n",
              "7            12\n",
              "8            14\n",
              "9            16\n",
              "10           17\n",
              "11           21\n",
              "12           23\n",
              "13           26\n",
              "14           29\n",
              "15           30\n",
              "16           34\n",
              "17           36\n",
              "18           38\n",
              "19           39\n",
              "20           40\n",
              "21           41\n",
              "22           42\n",
              "23           44\n",
              "24           47\n",
              "25           48\n",
              "26           49\n",
              "27           50\n",
              "28           53\n",
              "29           54\n",
              "30           55\n",
              "31           57\n",
              "32           62\n",
              "33           67\n",
              "34           68\n",
              "35           70\n",
              "36           71\n",
              "37           72\n",
              "38           74\n",
              "39           75\n",
              "40           76\n",
              "41           77\n",
              "42           78\n",
              "43           79\n",
              "44           80\n",
              "45           81\n",
              "46           83\n",
              "47           89\n",
              "48           90\n",
              "49           92\n",
              "50           94\n",
              "51           96\n",
              "52           97\n",
              "53          100"
            ],
            "text/html": [
              "\n",
              "  <div id=\"df-84ecad72-ec34-4276-9eb2-6225daf1ef3a\">\n",
              "    <div class=\"colab-df-container\">\n",
              "      <div>\n",
              "<style scoped>\n",
              "    .dataframe tbody tr th:only-of-type {\n",
              "        vertical-align: middle;\n",
              "    }\n",
              "\n",
              "    .dataframe tbody tr th {\n",
              "        vertical-align: top;\n",
              "    }\n",
              "\n",
              "    .dataframe thead th {\n",
              "        text-align: right;\n",
              "    }\n",
              "</style>\n",
              "<table border=\"1\" class=\"dataframe\">\n",
              "  <thead>\n",
              "    <tr style=\"text-align: right;\">\n",
              "      <th></th>\n",
              "      <th>сustomer_id</th>\n",
              "    </tr>\n",
              "  </thead>\n",
              "  <tbody>\n",
              "    <tr>\n",
              "      <th>0</th>\n",
              "      <td>1</td>\n",
              "    </tr>\n",
              "    <tr>\n",
              "      <th>1</th>\n",
              "      <td>3</td>\n",
              "    </tr>\n",
              "    <tr>\n",
              "      <th>2</th>\n",
              "      <td>4</td>\n",
              "    </tr>\n",
              "    <tr>\n",
              "      <th>3</th>\n",
              "      <td>5</td>\n",
              "    </tr>\n",
              "    <tr>\n",
              "      <th>4</th>\n",
              "      <td>7</td>\n",
              "    </tr>\n",
              "    <tr>\n",
              "      <th>5</th>\n",
              "      <td>8</td>\n",
              "    </tr>\n",
              "    <tr>\n",
              "      <th>6</th>\n",
              "      <td>10</td>\n",
              "    </tr>\n",
              "    <tr>\n",
              "      <th>7</th>\n",
              "      <td>12</td>\n",
              "    </tr>\n",
              "    <tr>\n",
              "      <th>8</th>\n",
              "      <td>14</td>\n",
              "    </tr>\n",
              "    <tr>\n",
              "      <th>9</th>\n",
              "      <td>16</td>\n",
              "    </tr>\n",
              "    <tr>\n",
              "      <th>10</th>\n",
              "      <td>17</td>\n",
              "    </tr>\n",
              "    <tr>\n",
              "      <th>11</th>\n",
              "      <td>21</td>\n",
              "    </tr>\n",
              "    <tr>\n",
              "      <th>12</th>\n",
              "      <td>23</td>\n",
              "    </tr>\n",
              "    <tr>\n",
              "      <th>13</th>\n",
              "      <td>26</td>\n",
              "    </tr>\n",
              "    <tr>\n",
              "      <th>14</th>\n",
              "      <td>29</td>\n",
              "    </tr>\n",
              "    <tr>\n",
              "      <th>15</th>\n",
              "      <td>30</td>\n",
              "    </tr>\n",
              "    <tr>\n",
              "      <th>16</th>\n",
              "      <td>34</td>\n",
              "    </tr>\n",
              "    <tr>\n",
              "      <th>17</th>\n",
              "      <td>36</td>\n",
              "    </tr>\n",
              "    <tr>\n",
              "      <th>18</th>\n",
              "      <td>38</td>\n",
              "    </tr>\n",
              "    <tr>\n",
              "      <th>19</th>\n",
              "      <td>39</td>\n",
              "    </tr>\n",
              "    <tr>\n",
              "      <th>20</th>\n",
              "      <td>40</td>\n",
              "    </tr>\n",
              "    <tr>\n",
              "      <th>21</th>\n",
              "      <td>41</td>\n",
              "    </tr>\n",
              "    <tr>\n",
              "      <th>22</th>\n",
              "      <td>42</td>\n",
              "    </tr>\n",
              "    <tr>\n",
              "      <th>23</th>\n",
              "      <td>44</td>\n",
              "    </tr>\n",
              "    <tr>\n",
              "      <th>24</th>\n",
              "      <td>47</td>\n",
              "    </tr>\n",
              "    <tr>\n",
              "      <th>25</th>\n",
              "      <td>48</td>\n",
              "    </tr>\n",
              "    <tr>\n",
              "      <th>26</th>\n",
              "      <td>49</td>\n",
              "    </tr>\n",
              "    <tr>\n",
              "      <th>27</th>\n",
              "      <td>50</td>\n",
              "    </tr>\n",
              "    <tr>\n",
              "      <th>28</th>\n",
              "      <td>53</td>\n",
              "    </tr>\n",
              "    <tr>\n",
              "      <th>29</th>\n",
              "      <td>54</td>\n",
              "    </tr>\n",
              "    <tr>\n",
              "      <th>30</th>\n",
              "      <td>55</td>\n",
              "    </tr>\n",
              "    <tr>\n",
              "      <th>31</th>\n",
              "      <td>57</td>\n",
              "    </tr>\n",
              "    <tr>\n",
              "      <th>32</th>\n",
              "      <td>62</td>\n",
              "    </tr>\n",
              "    <tr>\n",
              "      <th>33</th>\n",
              "      <td>67</td>\n",
              "    </tr>\n",
              "    <tr>\n",
              "      <th>34</th>\n",
              "      <td>68</td>\n",
              "    </tr>\n",
              "    <tr>\n",
              "      <th>35</th>\n",
              "      <td>70</td>\n",
              "    </tr>\n",
              "    <tr>\n",
              "      <th>36</th>\n",
              "      <td>71</td>\n",
              "    </tr>\n",
              "    <tr>\n",
              "      <th>37</th>\n",
              "      <td>72</td>\n",
              "    </tr>\n",
              "    <tr>\n",
              "      <th>38</th>\n",
              "      <td>74</td>\n",
              "    </tr>\n",
              "    <tr>\n",
              "      <th>39</th>\n",
              "      <td>75</td>\n",
              "    </tr>\n",
              "    <tr>\n",
              "      <th>40</th>\n",
              "      <td>76</td>\n",
              "    </tr>\n",
              "    <tr>\n",
              "      <th>41</th>\n",
              "      <td>77</td>\n",
              "    </tr>\n",
              "    <tr>\n",
              "      <th>42</th>\n",
              "      <td>78</td>\n",
              "    </tr>\n",
              "    <tr>\n",
              "      <th>43</th>\n",
              "      <td>79</td>\n",
              "    </tr>\n",
              "    <tr>\n",
              "      <th>44</th>\n",
              "      <td>80</td>\n",
              "    </tr>\n",
              "    <tr>\n",
              "      <th>45</th>\n",
              "      <td>81</td>\n",
              "    </tr>\n",
              "    <tr>\n",
              "      <th>46</th>\n",
              "      <td>83</td>\n",
              "    </tr>\n",
              "    <tr>\n",
              "      <th>47</th>\n",
              "      <td>89</td>\n",
              "    </tr>\n",
              "    <tr>\n",
              "      <th>48</th>\n",
              "      <td>90</td>\n",
              "    </tr>\n",
              "    <tr>\n",
              "      <th>49</th>\n",
              "      <td>92</td>\n",
              "    </tr>\n",
              "    <tr>\n",
              "      <th>50</th>\n",
              "      <td>94</td>\n",
              "    </tr>\n",
              "    <tr>\n",
              "      <th>51</th>\n",
              "      <td>96</td>\n",
              "    </tr>\n",
              "    <tr>\n",
              "      <th>52</th>\n",
              "      <td>97</td>\n",
              "    </tr>\n",
              "    <tr>\n",
              "      <th>53</th>\n",
              "      <td>100</td>\n",
              "    </tr>\n",
              "  </tbody>\n",
              "</table>\n",
              "</div>\n",
              "      <button class=\"colab-df-convert\" onclick=\"convertToInteractive('df-84ecad72-ec34-4276-9eb2-6225daf1ef3a')\"\n",
              "              title=\"Convert this dataframe to an interactive table.\"\n",
              "              style=\"display:none;\">\n",
              "        \n",
              "  <svg xmlns=\"http://www.w3.org/2000/svg\" height=\"24px\"viewBox=\"0 0 24 24\"\n",
              "       width=\"24px\">\n",
              "    <path d=\"M0 0h24v24H0V0z\" fill=\"none\"/>\n",
              "    <path d=\"M18.56 5.44l.94 2.06.94-2.06 2.06-.94-2.06-.94-.94-2.06-.94 2.06-2.06.94zm-11 1L8.5 8.5l.94-2.06 2.06-.94-2.06-.94L8.5 2.5l-.94 2.06-2.06.94zm10 10l.94 2.06.94-2.06 2.06-.94-2.06-.94-.94-2.06-.94 2.06-2.06.94z\"/><path d=\"M17.41 7.96l-1.37-1.37c-.4-.4-.92-.59-1.43-.59-.52 0-1.04.2-1.43.59L10.3 9.45l-7.72 7.72c-.78.78-.78 2.05 0 2.83L4 21.41c.39.39.9.59 1.41.59.51 0 1.02-.2 1.41-.59l7.78-7.78 2.81-2.81c.8-.78.8-2.07 0-2.86zM5.41 20L4 18.59l7.72-7.72 1.47 1.35L5.41 20z\"/>\n",
              "  </svg>\n",
              "      </button>\n",
              "      \n",
              "  <style>\n",
              "    .colab-df-container {\n",
              "      display:flex;\n",
              "      flex-wrap:wrap;\n",
              "      gap: 12px;\n",
              "    }\n",
              "\n",
              "    .colab-df-convert {\n",
              "      background-color: #E8F0FE;\n",
              "      border: none;\n",
              "      border-radius: 50%;\n",
              "      cursor: pointer;\n",
              "      display: none;\n",
              "      fill: #1967D2;\n",
              "      height: 32px;\n",
              "      padding: 0 0 0 0;\n",
              "      width: 32px;\n",
              "    }\n",
              "\n",
              "    .colab-df-convert:hover {\n",
              "      background-color: #E2EBFA;\n",
              "      box-shadow: 0px 1px 2px rgba(60, 64, 67, 0.3), 0px 1px 3px 1px rgba(60, 64, 67, 0.15);\n",
              "      fill: #174EA6;\n",
              "    }\n",
              "\n",
              "    [theme=dark] .colab-df-convert {\n",
              "      background-color: #3B4455;\n",
              "      fill: #D2E3FC;\n",
              "    }\n",
              "\n",
              "    [theme=dark] .colab-df-convert:hover {\n",
              "      background-color: #434B5C;\n",
              "      box-shadow: 0px 1px 3px 1px rgba(0, 0, 0, 0.15);\n",
              "      filter: drop-shadow(0px 1px 2px rgba(0, 0, 0, 0.3));\n",
              "      fill: #FFFFFF;\n",
              "    }\n",
              "  </style>\n",
              "\n",
              "      <script>\n",
              "        const buttonEl =\n",
              "          document.querySelector('#df-84ecad72-ec34-4276-9eb2-6225daf1ef3a button.colab-df-convert');\n",
              "        buttonEl.style.display =\n",
              "          google.colab.kernel.accessAllowed ? 'block' : 'none';\n",
              "\n",
              "        async function convertToInteractive(key) {\n",
              "          const element = document.querySelector('#df-84ecad72-ec34-4276-9eb2-6225daf1ef3a');\n",
              "          const dataTable =\n",
              "            await google.colab.kernel.invokeFunction('convertToInteractive',\n",
              "                                                     [key], {});\n",
              "          if (!dataTable) return;\n",
              "\n",
              "          const docLinkHtml = 'Like what you see? Visit the ' +\n",
              "            '<a target=\"_blank\" href=https://colab.research.google.com/notebooks/data_table.ipynb>data table notebook</a>'\n",
              "            + ' to learn more about interactive tables.';\n",
              "          element.innerHTML = '';\n",
              "          dataTable['output_type'] = 'display_data';\n",
              "          await google.colab.output.renderOutput(dataTable, element);\n",
              "          const docLink = document.createElement('div');\n",
              "          docLink.innerHTML = docLinkHtml;\n",
              "          element.appendChild(docLink);\n",
              "        }\n",
              "      </script>\n",
              "    </div>\n",
              "  </div>\n",
              "  "
            ]
          },
          "metadata": {},
          "execution_count": 253
        }
      ]
    },
    {
      "cell_type": "code",
      "source": [],
      "metadata": {
        "id": "PnryWowDO_sq"
      },
      "execution_count": null,
      "outputs": []
    }
  ]
}