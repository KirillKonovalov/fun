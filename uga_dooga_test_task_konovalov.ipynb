{
 "cells": [
  {
   "cell_type": "markdown",
   "metadata": {},
   "source": [
    "# Тестовое задание Uga Dooga"
   ]
  },
  {
   "cell_type": "code",
   "execution_count": 1,
   "metadata": {},
   "outputs": [],
   "source": [
    "import pandas as pd\n",
    "import numpy as np\n",
    "import scipy.stats as ss\n",
    "import matplotlib.pyplot as plt\n",
    "import seaborn as sns\n",
    "import ast"
   ]
  },
  {
   "cell_type": "code",
   "execution_count": 2,
   "metadata": {},
   "outputs": [],
   "source": [
    "pd.set_option('display.max_columns', None)"
   ]
  },
  {
   "cell_type": "code",
   "execution_count": 3,
   "metadata": {},
   "outputs": [],
   "source": [
    "df = pd.read_csv('us events ad_revenue filtered 03.02-07.02.csv')"
   ]
  },
  {
   "cell_type": "markdown",
   "metadata": {},
   "source": [
    "Посмотрим на данные"
   ]
  },
  {
   "cell_type": "code",
   "execution_count": 4,
   "metadata": {},
   "outputs": [
    {
     "data": {
      "text/html": [
       "<div>\n",
       "<style scoped>\n",
       "    .dataframe tbody tr th:only-of-type {\n",
       "        vertical-align: middle;\n",
       "    }\n",
       "\n",
       "    .dataframe tbody tr th {\n",
       "        vertical-align: top;\n",
       "    }\n",
       "\n",
       "    .dataframe thead th {\n",
       "        text-align: right;\n",
       "    }\n",
       "</style>\n",
       "<table border=\"1\" class=\"dataframe\">\n",
       "  <thead>\n",
       "    <tr style=\"text-align: right;\">\n",
       "      <th></th>\n",
       "      <th>profile_id</th>\n",
       "      <th>os_version</th>\n",
       "      <th>device_manufacturer</th>\n",
       "      <th>device_model</th>\n",
       "      <th>device_type</th>\n",
       "      <th>device_locale</th>\n",
       "      <th>event_name</th>\n",
       "      <th>event_json</th>\n",
       "      <th>event_datetime</th>\n",
       "      <th>event_timestamp</th>\n",
       "      <th>event_receive_datetime</th>\n",
       "      <th>event_receive_timestamp</th>\n",
       "      <th>connection_type</th>\n",
       "      <th>operator_name</th>\n",
       "      <th>country_iso_code</th>\n",
       "      <th>city</th>\n",
       "    </tr>\n",
       "  </thead>\n",
       "  <tbody>\n",
       "    <tr>\n",
       "      <th>0</th>\n",
       "      <td>JLjpGzDHBQm</td>\n",
       "      <td>11</td>\n",
       "      <td>Samsung</td>\n",
       "      <td>Galaxy Tab S6</td>\n",
       "      <td>tablet</td>\n",
       "      <td>en_US</td>\n",
       "      <td>c_ad_revenue</td>\n",
       "      <td>{\"ad_type\":\"banner\",\"placement\":\"\",\"view_index...</td>\n",
       "      <td>2022-02-04 20:02:28</td>\n",
       "      <td>1643994148</td>\n",
       "      <td>2022-02-06 17:58:19</td>\n",
       "      <td>1644159499</td>\n",
       "      <td>wifi</td>\n",
       "      <td>NaN</td>\n",
       "      <td>US</td>\n",
       "      <td>Norwalk</td>\n",
       "    </tr>\n",
       "    <tr>\n",
       "      <th>1</th>\n",
       "      <td>JLjpGzDHBQm</td>\n",
       "      <td>11</td>\n",
       "      <td>Samsung</td>\n",
       "      <td>Galaxy Tab S6</td>\n",
       "      <td>tablet</td>\n",
       "      <td>en_US</td>\n",
       "      <td>c_ad_revenue</td>\n",
       "      <td>{\"ad_type\":\"banner\",\"placement\":\"\",\"view_index...</td>\n",
       "      <td>2022-02-04 20:02:45</td>\n",
       "      <td>1643994165</td>\n",
       "      <td>2022-02-06 17:58:19</td>\n",
       "      <td>1644159499</td>\n",
       "      <td>wifi</td>\n",
       "      <td>NaN</td>\n",
       "      <td>US</td>\n",
       "      <td>Norwalk</td>\n",
       "    </tr>\n",
       "    <tr>\n",
       "      <th>2</th>\n",
       "      <td>JLkVacrzHY6</td>\n",
       "      <td>11</td>\n",
       "      <td>Google</td>\n",
       "      <td>Pixel 2</td>\n",
       "      <td>phone</td>\n",
       "      <td>en_US</td>\n",
       "      <td>c_ad_revenue</td>\n",
       "      <td>{\"ad_type\":\"banner\",\"placement\":\"\",\"view_index...</td>\n",
       "      <td>2022-02-05 17:53:05</td>\n",
       "      <td>1644072785</td>\n",
       "      <td>2022-02-06 16:59:29</td>\n",
       "      <td>1644155969</td>\n",
       "      <td>wifi</td>\n",
       "      <td>Verizon</td>\n",
       "      <td>US</td>\n",
       "      <td>Charlotte</td>\n",
       "    </tr>\n",
       "    <tr>\n",
       "      <th>3</th>\n",
       "      <td>JMC6wG3cX0f</td>\n",
       "      <td>10</td>\n",
       "      <td>Samsung</td>\n",
       "      <td>Galaxy S9</td>\n",
       "      <td>phone</td>\n",
       "      <td>en_US</td>\n",
       "      <td>c_ad_revenue</td>\n",
       "      <td>{\"ad_type\":\"int\",\"placement\":\"next_level\",\"vie...</td>\n",
       "      <td>2022-02-06 17:09:01</td>\n",
       "      <td>1644156541</td>\n",
       "      <td>2022-02-06 17:09:24</td>\n",
       "      <td>1644156564</td>\n",
       "      <td>wifi</td>\n",
       "      <td>T-Mobile</td>\n",
       "      <td>US</td>\n",
       "      <td>Cocoa</td>\n",
       "    </tr>\n",
       "    <tr>\n",
       "      <th>4</th>\n",
       "      <td>JLzWWTJfi1b</td>\n",
       "      <td>10</td>\n",
       "      <td>Samsung</td>\n",
       "      <td>Galaxy S9</td>\n",
       "      <td>phone</td>\n",
       "      <td>en_US</td>\n",
       "      <td>c_ad_revenue</td>\n",
       "      <td>{\"ad_type\":\"banner\",\"placement\":\"\",\"view_index...</td>\n",
       "      <td>2022-02-06 17:15:38</td>\n",
       "      <td>1644156938</td>\n",
       "      <td>2022-02-06 17:16:16</td>\n",
       "      <td>1644156976</td>\n",
       "      <td>cell</td>\n",
       "      <td>Verizon</td>\n",
       "      <td>US</td>\n",
       "      <td>NaN</td>\n",
       "    </tr>\n",
       "  </tbody>\n",
       "</table>\n",
       "</div>"
      ],
      "text/plain": [
       "    profile_id os_version device_manufacturer   device_model device_type  \\\n",
       "0  JLjpGzDHBQm         11             Samsung  Galaxy Tab S6      tablet   \n",
       "1  JLjpGzDHBQm         11             Samsung  Galaxy Tab S6      tablet   \n",
       "2  JLkVacrzHY6         11              Google        Pixel 2       phone   \n",
       "3  JMC6wG3cX0f         10             Samsung      Galaxy S9       phone   \n",
       "4  JLzWWTJfi1b         10             Samsung      Galaxy S9       phone   \n",
       "\n",
       "  device_locale    event_name  \\\n",
       "0         en_US  c_ad_revenue   \n",
       "1         en_US  c_ad_revenue   \n",
       "2         en_US  c_ad_revenue   \n",
       "3         en_US  c_ad_revenue   \n",
       "4         en_US  c_ad_revenue   \n",
       "\n",
       "                                          event_json       event_datetime  \\\n",
       "0  {\"ad_type\":\"banner\",\"placement\":\"\",\"view_index...  2022-02-04 20:02:28   \n",
       "1  {\"ad_type\":\"banner\",\"placement\":\"\",\"view_index...  2022-02-04 20:02:45   \n",
       "2  {\"ad_type\":\"banner\",\"placement\":\"\",\"view_index...  2022-02-05 17:53:05   \n",
       "3  {\"ad_type\":\"int\",\"placement\":\"next_level\",\"vie...  2022-02-06 17:09:01   \n",
       "4  {\"ad_type\":\"banner\",\"placement\":\"\",\"view_index...  2022-02-06 17:15:38   \n",
       "\n",
       "   event_timestamp event_receive_datetime  event_receive_timestamp  \\\n",
       "0       1643994148    2022-02-06 17:58:19               1644159499   \n",
       "1       1643994165    2022-02-06 17:58:19               1644159499   \n",
       "2       1644072785    2022-02-06 16:59:29               1644155969   \n",
       "3       1644156541    2022-02-06 17:09:24               1644156564   \n",
       "4       1644156938    2022-02-06 17:16:16               1644156976   \n",
       "\n",
       "  connection_type operator_name country_iso_code       city  \n",
       "0            wifi           NaN               US    Norwalk  \n",
       "1            wifi           NaN               US    Norwalk  \n",
       "2            wifi       Verizon               US  Charlotte  \n",
       "3            wifi      T-Mobile               US      Cocoa  \n",
       "4            cell      Verizon                US        NaN  "
      ]
     },
     "execution_count": 4,
     "metadata": {},
     "output_type": "execute_result"
    }
   ],
   "source": [
    "df.head()"
   ]
  },
  {
   "cell_type": "code",
   "execution_count": 5,
   "metadata": {},
   "outputs": [
    {
     "data": {
      "text/plain": [
       "(860079, 16)"
      ]
     },
     "execution_count": 5,
     "metadata": {},
     "output_type": "execute_result"
    }
   ],
   "source": [
    "df.shape"
   ]
  },
  {
   "cell_type": "markdown",
   "metadata": {},
   "source": [
    "Как видно из отчета ниже - в данных много пропусков. Особенно в колонке city. "
   ]
  },
  {
   "cell_type": "code",
   "execution_count": 6,
   "metadata": {},
   "outputs": [
    {
     "data": {
      "text/plain": [
       "profile_id                     14\n",
       "os_version                      0\n",
       "device_manufacturer             0\n",
       "device_model                    0\n",
       "device_type                     0\n",
       "device_locale                   0\n",
       "event_name                      0\n",
       "event_json                      0\n",
       "event_datetime                  0\n",
       "event_timestamp                 0\n",
       "event_receive_datetime          0\n",
       "event_receive_timestamp         0\n",
       "connection_type                 0\n",
       "operator_name               18879\n",
       "country_iso_code                0\n",
       "city                       323708\n",
       "dtype: int64"
      ]
     },
     "execution_count": 6,
     "metadata": {},
     "output_type": "execute_result"
    }
   ],
   "source": [
    "df.isna().sum()"
   ]
  },
  {
   "cell_type": "markdown",
   "metadata": {},
   "source": [
    "Заполним эти пропуски."
   ]
  },
  {
   "cell_type": "code",
   "execution_count": 7,
   "metadata": {},
   "outputs": [],
   "source": [
    "df = df.fillna('no data')"
   ]
  },
  {
   "cell_type": "code",
   "execution_count": 8,
   "metadata": {},
   "outputs": [
    {
     "data": {
      "text/plain": [
       "profile_id                 object\n",
       "os_version                 object\n",
       "device_manufacturer        object\n",
       "device_model               object\n",
       "device_type                object\n",
       "device_locale              object\n",
       "event_name                 object\n",
       "event_json                 object\n",
       "event_datetime             object\n",
       "event_timestamp             int64\n",
       "event_receive_datetime     object\n",
       "event_receive_timestamp     int64\n",
       "connection_type            object\n",
       "operator_name              object\n",
       "country_iso_code           object\n",
       "city                       object\n",
       "dtype: object"
      ]
     },
     "execution_count": 8,
     "metadata": {},
     "output_type": "execute_result"
    }
   ],
   "source": [
    "df.dtypes"
   ]
  },
  {
   "cell_type": "code",
   "execution_count": 9,
   "metadata": {},
   "outputs": [
    {
     "data": {
      "text/plain": [
       "860076"
      ]
     },
     "execution_count": 9,
     "metadata": {},
     "output_type": "execute_result"
    }
   ],
   "source": [
    "df.event_json.nunique()"
   ]
  },
  {
   "cell_type": "markdown",
   "metadata": {},
   "source": [
    "Развернем колонку с записанными событиями о показе рекламы event_json."
   ]
  },
  {
   "cell_type": "code",
   "execution_count": 10,
   "metadata": {},
   "outputs": [],
   "source": [
    "df_json = df.event_json.apply(ast.literal_eval).apply(pd.Series)"
   ]
  },
  {
   "cell_type": "code",
   "execution_count": 11,
   "metadata": {},
   "outputs": [
    {
     "data": {
      "text/html": [
       "<div>\n",
       "<style scoped>\n",
       "    .dataframe tbody tr th:only-of-type {\n",
       "        vertical-align: middle;\n",
       "    }\n",
       "\n",
       "    .dataframe tbody tr th {\n",
       "        vertical-align: top;\n",
       "    }\n",
       "\n",
       "    .dataframe thead th {\n",
       "        text-align: right;\n",
       "    }\n",
       "</style>\n",
       "<table border=\"1\" class=\"dataframe\">\n",
       "  <thead>\n",
       "    <tr style=\"text-align: right;\">\n",
       "      <th></th>\n",
       "      <th>ad_type</th>\n",
       "      <th>placement</th>\n",
       "      <th>view_index</th>\n",
       "      <th>session_view_index</th>\n",
       "      <th>cur_ticks</th>\n",
       "      <th>session_length</th>\n",
       "      <th>revenue</th>\n",
       "      <th>ads_ltv</th>\n",
       "      <th>ecpm_sma</th>\n",
       "      <th>normalized_ecpm_sma</th>\n",
       "      <th>value</th>\n",
       "      <th>currency</th>\n",
       "      <th>ad_country_code</th>\n",
       "      <th>network_name</th>\n",
       "      <th>ad_unit_id</th>\n",
       "      <th>ad_network_placement</th>\n",
       "      <th>creativeId</th>\n",
       "    </tr>\n",
       "  </thead>\n",
       "  <tbody>\n",
       "    <tr>\n",
       "      <th>860074</th>\n",
       "      <td>banner</td>\n",
       "      <td></td>\n",
       "      <td>1</td>\n",
       "      <td>0</td>\n",
       "      <td>637794449687371810</td>\n",
       "      <td>474.15260</td>\n",
       "      <td>0.00002</td>\n",
       "      <td>1.007506</td>\n",
       "      <td>0.080914</td>\n",
       "      <td>0.080914</td>\n",
       "      <td>0.00002</td>\n",
       "      <td>USD</td>\n",
       "      <td>US</td>\n",
       "      <td>APPLOVIN_EXCHANGE</td>\n",
       "      <td>64c6b1114ea8c1cc</td>\n",
       "      <td>banner_regular</td>\n",
       "      <td>165277</td>\n",
       "    </tr>\n",
       "    <tr>\n",
       "      <th>860075</th>\n",
       "      <td>banner</td>\n",
       "      <td></td>\n",
       "      <td>1</td>\n",
       "      <td>0</td>\n",
       "      <td>637794223717667630</td>\n",
       "      <td>10.89967</td>\n",
       "      <td>0.00674</td>\n",
       "      <td>0.277541</td>\n",
       "      <td>3.379858</td>\n",
       "      <td>3.379858</td>\n",
       "      <td>0.00674</td>\n",
       "      <td>USD</td>\n",
       "      <td>US</td>\n",
       "      <td>Google AdMob</td>\n",
       "      <td>64c6b1114ea8c1cc</td>\n",
       "      <td>ca-app-pub-7511632782617496/6197324251</td>\n",
       "      <td>CMeYrb2S4vUCFZWVyAodrPYHvA</td>\n",
       "    </tr>\n",
       "    <tr>\n",
       "      <th>860076</th>\n",
       "      <td>banner</td>\n",
       "      <td></td>\n",
       "      <td>1</td>\n",
       "      <td>0</td>\n",
       "      <td>637794223868486920</td>\n",
       "      <td>25.97572</td>\n",
       "      <td>0.00278</td>\n",
       "      <td>0.280321</td>\n",
       "      <td>3.319878</td>\n",
       "      <td>3.319878</td>\n",
       "      <td>0.00278</td>\n",
       "      <td>USD</td>\n",
       "      <td>US</td>\n",
       "      <td>Google AdMob</td>\n",
       "      <td>64c6b1114ea8c1cc</td>\n",
       "      <td>ca-app-pub-7511632782617496/4884242584</td>\n",
       "      <td>CNrdyMCS4vUCFRNXcgodTqsMOA</td>\n",
       "    </tr>\n",
       "    <tr>\n",
       "      <th>860077</th>\n",
       "      <td>banner</td>\n",
       "      <td></td>\n",
       "      <td>1</td>\n",
       "      <td>0</td>\n",
       "      <td>637794223980531730</td>\n",
       "      <td>37.18013</td>\n",
       "      <td>0.00278</td>\n",
       "      <td>0.283101</td>\n",
       "      <td>3.265896</td>\n",
       "      <td>3.265896</td>\n",
       "      <td>0.00278</td>\n",
       "      <td>USD</td>\n",
       "      <td>US</td>\n",
       "      <td>Google AdMob</td>\n",
       "      <td>64c6b1114ea8c1cc</td>\n",
       "      <td>ca-app-pub-7511632782617496/4884242584</td>\n",
       "      <td>CJnr0ciS4vUCFQ7HhwodgC8HVw</td>\n",
       "    </tr>\n",
       "    <tr>\n",
       "      <th>860078</th>\n",
       "      <td>banner</td>\n",
       "      <td></td>\n",
       "      <td>1</td>\n",
       "      <td>0</td>\n",
       "      <td>637794259045615450</td>\n",
       "      <td>3543.68800</td>\n",
       "      <td>0.00278</td>\n",
       "      <td>0.285881</td>\n",
       "      <td>3.217312</td>\n",
       "      <td>3.217312</td>\n",
       "      <td>0.00278</td>\n",
       "      <td>USD</td>\n",
       "      <td>US</td>\n",
       "      <td>Google AdMob</td>\n",
       "      <td>64c6b1114ea8c1cc</td>\n",
       "      <td>ca-app-pub-7511632782617496/4884242584</td>\n",
       "      <td>CLbXws2S4vUCFQk9hwodpIsKXQ</td>\n",
       "    </tr>\n",
       "  </tbody>\n",
       "</table>\n",
       "</div>"
      ],
      "text/plain": [
       "       ad_type placement  view_index  session_view_index           cur_ticks  \\\n",
       "860074  banner                     1                   0  637794449687371810   \n",
       "860075  banner                     1                   0  637794223717667630   \n",
       "860076  banner                     1                   0  637794223868486920   \n",
       "860077  banner                     1                   0  637794223980531730   \n",
       "860078  banner                     1                   0  637794259045615450   \n",
       "\n",
       "        session_length  revenue   ads_ltv  ecpm_sma  normalized_ecpm_sma  \\\n",
       "860074       474.15260  0.00002  1.007506  0.080914             0.080914   \n",
       "860075        10.89967  0.00674  0.277541  3.379858             3.379858   \n",
       "860076        25.97572  0.00278  0.280321  3.319878             3.319878   \n",
       "860077        37.18013  0.00278  0.283101  3.265896             3.265896   \n",
       "860078      3543.68800  0.00278  0.285881  3.217312             3.217312   \n",
       "\n",
       "          value currency ad_country_code       network_name        ad_unit_id  \\\n",
       "860074  0.00002      USD              US  APPLOVIN_EXCHANGE  64c6b1114ea8c1cc   \n",
       "860075  0.00674      USD              US       Google AdMob  64c6b1114ea8c1cc   \n",
       "860076  0.00278      USD              US       Google AdMob  64c6b1114ea8c1cc   \n",
       "860077  0.00278      USD              US       Google AdMob  64c6b1114ea8c1cc   \n",
       "860078  0.00278      USD              US       Google AdMob  64c6b1114ea8c1cc   \n",
       "\n",
       "                          ad_network_placement                  creativeId  \n",
       "860074                          banner_regular                      165277  \n",
       "860075  ca-app-pub-7511632782617496/6197324251  CMeYrb2S4vUCFZWVyAodrPYHvA  \n",
       "860076  ca-app-pub-7511632782617496/4884242584  CNrdyMCS4vUCFRNXcgodTqsMOA  \n",
       "860077  ca-app-pub-7511632782617496/4884242584  CJnr0ciS4vUCFQ7HhwodgC8HVw  \n",
       "860078  ca-app-pub-7511632782617496/4884242584  CLbXws2S4vUCFQk9hwodpIsKXQ  "
      ]
     },
     "execution_count": 11,
     "metadata": {},
     "output_type": "execute_result"
    }
   ],
   "source": [
    "df_json.tail()"
   ]
  },
  {
   "cell_type": "code",
   "execution_count": 12,
   "metadata": {},
   "outputs": [
    {
     "data": {
      "text/plain": [
       "''"
      ]
     },
     "execution_count": 12,
     "metadata": {},
     "output_type": "execute_result"
    }
   ],
   "source": [
    "df_json.placement[0]           "
   ]
  },
  {
   "cell_type": "markdown",
   "metadata": {},
   "source": [
    "Заполним пропуски в колонке placement."
   ]
  },
  {
   "cell_type": "code",
   "execution_count": 13,
   "metadata": {},
   "outputs": [],
   "source": [
    "df_json.placement = df_json.placement.replace('', 'no data')"
   ]
  },
  {
   "cell_type": "code",
   "execution_count": 14,
   "metadata": {},
   "outputs": [
    {
     "data": {
      "text/plain": [
       "'{\"ad_type\":\"banner\",\"placement\":\"\",\"view_index\":1,\"session_view_index\":0,\"cur_ticks\":637794259045615450,\"session_length\":3543.688,\"revenue\":0.002780058,\"ads_ltv\":0.285881013,\"ecpm_sma\":3.21731209754944,\"normalized_ecpm_sma\":3.21731209754944,\"value\":0.002780058,\"currency\":\"USD\",\"ad_country_code\":\"US\",\"network_name\":\"Google AdMob\",\"ad_unit_id\":\"64c6b1114ea8c1cc\",\"ad_network_placement\":\"ca-app-pub-7511632782617496/4884242584\",\"creativeId\":\"CLbXws2S4vUCFQk9hwodpIsKXQ\"}'"
      ]
     },
     "execution_count": 14,
     "metadata": {},
     "output_type": "execute_result"
    }
   ],
   "source": [
    "df.event_json[860078]"
   ]
  },
  {
   "cell_type": "markdown",
   "metadata": {},
   "source": [
    "Объединим основной датафрейм с получившимся из развернутых значений. "
   ]
  },
  {
   "cell_type": "code",
   "execution_count": 15,
   "metadata": {},
   "outputs": [],
   "source": [
    "df = pd.concat([df, df_json], axis=1)"
   ]
  },
  {
   "cell_type": "code",
   "execution_count": 16,
   "metadata": {},
   "outputs": [
    {
     "data": {
      "text/html": [
       "<div>\n",
       "<style scoped>\n",
       "    .dataframe tbody tr th:only-of-type {\n",
       "        vertical-align: middle;\n",
       "    }\n",
       "\n",
       "    .dataframe tbody tr th {\n",
       "        vertical-align: top;\n",
       "    }\n",
       "\n",
       "    .dataframe thead th {\n",
       "        text-align: right;\n",
       "    }\n",
       "</style>\n",
       "<table border=\"1\" class=\"dataframe\">\n",
       "  <thead>\n",
       "    <tr style=\"text-align: right;\">\n",
       "      <th></th>\n",
       "      <th>profile_id</th>\n",
       "      <th>os_version</th>\n",
       "      <th>device_manufacturer</th>\n",
       "      <th>device_model</th>\n",
       "      <th>device_type</th>\n",
       "      <th>device_locale</th>\n",
       "      <th>event_name</th>\n",
       "      <th>event_json</th>\n",
       "      <th>event_datetime</th>\n",
       "      <th>event_timestamp</th>\n",
       "      <th>event_receive_datetime</th>\n",
       "      <th>event_receive_timestamp</th>\n",
       "      <th>connection_type</th>\n",
       "      <th>operator_name</th>\n",
       "      <th>country_iso_code</th>\n",
       "      <th>city</th>\n",
       "      <th>ad_type</th>\n",
       "      <th>placement</th>\n",
       "      <th>view_index</th>\n",
       "      <th>session_view_index</th>\n",
       "      <th>cur_ticks</th>\n",
       "      <th>session_length</th>\n",
       "      <th>revenue</th>\n",
       "      <th>ads_ltv</th>\n",
       "      <th>ecpm_sma</th>\n",
       "      <th>normalized_ecpm_sma</th>\n",
       "      <th>value</th>\n",
       "      <th>currency</th>\n",
       "      <th>ad_country_code</th>\n",
       "      <th>network_name</th>\n",
       "      <th>ad_unit_id</th>\n",
       "      <th>ad_network_placement</th>\n",
       "      <th>creativeId</th>\n",
       "    </tr>\n",
       "  </thead>\n",
       "  <tbody>\n",
       "    <tr>\n",
       "      <th>0</th>\n",
       "      <td>JLjpGzDHBQm</td>\n",
       "      <td>11</td>\n",
       "      <td>Samsung</td>\n",
       "      <td>Galaxy Tab S6</td>\n",
       "      <td>tablet</td>\n",
       "      <td>en_US</td>\n",
       "      <td>c_ad_revenue</td>\n",
       "      <td>{\"ad_type\":\"banner\",\"placement\":\"\",\"view_index...</td>\n",
       "      <td>2022-02-04 20:02:28</td>\n",
       "      <td>1643994148</td>\n",
       "      <td>2022-02-06 17:58:19</td>\n",
       "      <td>1644159499</td>\n",
       "      <td>wifi</td>\n",
       "      <td>no data</td>\n",
       "      <td>US</td>\n",
       "      <td>Norwalk</td>\n",
       "      <td>banner</td>\n",
       "      <td>no data</td>\n",
       "      <td>1</td>\n",
       "      <td>0</td>\n",
       "      <td>637795729492245130</td>\n",
       "      <td>705.88070</td>\n",
       "      <td>0.000510</td>\n",
       "      <td>0.487877</td>\n",
       "      <td>0.511508</td>\n",
       "      <td>0.511508</td>\n",
       "      <td>0.000510</td>\n",
       "      <td>USD</td>\n",
       "      <td>US</td>\n",
       "      <td>Google AdMob</td>\n",
       "      <td>64c6b1114ea8c1cc</td>\n",
       "      <td>ca-app-pub-7511632782617496/8825263691</td>\n",
       "      <td>CJ3XirfD5vUCFYPnKAUdG3MOYQ</td>\n",
       "    </tr>\n",
       "    <tr>\n",
       "      <th>1</th>\n",
       "      <td>JLjpGzDHBQm</td>\n",
       "      <td>11</td>\n",
       "      <td>Samsung</td>\n",
       "      <td>Galaxy Tab S6</td>\n",
       "      <td>tablet</td>\n",
       "      <td>en_US</td>\n",
       "      <td>c_ad_revenue</td>\n",
       "      <td>{\"ad_type\":\"banner\",\"placement\":\"\",\"view_index...</td>\n",
       "      <td>2022-02-04 20:02:45</td>\n",
       "      <td>1643994165</td>\n",
       "      <td>2022-02-06 17:58:19</td>\n",
       "      <td>1644159499</td>\n",
       "      <td>wifi</td>\n",
       "      <td>no data</td>\n",
       "      <td>US</td>\n",
       "      <td>Norwalk</td>\n",
       "      <td>banner</td>\n",
       "      <td>no data</td>\n",
       "      <td>1</td>\n",
       "      <td>0</td>\n",
       "      <td>637795729659949790</td>\n",
       "      <td>722.65120</td>\n",
       "      <td>0.000510</td>\n",
       "      <td>0.488387</td>\n",
       "      <td>0.511389</td>\n",
       "      <td>0.511389</td>\n",
       "      <td>0.000510</td>\n",
       "      <td>USD</td>\n",
       "      <td>US</td>\n",
       "      <td>Google AdMob</td>\n",
       "      <td>64c6b1114ea8c1cc</td>\n",
       "      <td>ca-app-pub-7511632782617496/8825263691</td>\n",
       "      <td>CNa-lL_D5vUCFZrpKAUdU2QBDQ</td>\n",
       "    </tr>\n",
       "    <tr>\n",
       "      <th>2</th>\n",
       "      <td>JLkVacrzHY6</td>\n",
       "      <td>11</td>\n",
       "      <td>Google</td>\n",
       "      <td>Pixel 2</td>\n",
       "      <td>phone</td>\n",
       "      <td>en_US</td>\n",
       "      <td>c_ad_revenue</td>\n",
       "      <td>{\"ad_type\":\"banner\",\"placement\":\"\",\"view_index...</td>\n",
       "      <td>2022-02-05 17:53:05</td>\n",
       "      <td>1644072785</td>\n",
       "      <td>2022-02-06 16:59:29</td>\n",
       "      <td>1644155969</td>\n",
       "      <td>wifi</td>\n",
       "      <td>Verizon</td>\n",
       "      <td>US</td>\n",
       "      <td>Charlotte</td>\n",
       "      <td>banner</td>\n",
       "      <td>no data</td>\n",
       "      <td>1</td>\n",
       "      <td>0</td>\n",
       "      <td>637796515863735930</td>\n",
       "      <td>431.81290</td>\n",
       "      <td>0.002386</td>\n",
       "      <td>0.678479</td>\n",
       "      <td>0.928597</td>\n",
       "      <td>0.928597</td>\n",
       "      <td>0.002386</td>\n",
       "      <td>USD</td>\n",
       "      <td>US</td>\n",
       "      <td>APPLOVIN_EXCHANGE</td>\n",
       "      <td>64c6b1114ea8c1cc</td>\n",
       "      <td>banner_regular</td>\n",
       "      <td>pandora-58</td>\n",
       "    </tr>\n",
       "    <tr>\n",
       "      <th>3</th>\n",
       "      <td>JMC6wG3cX0f</td>\n",
       "      <td>10</td>\n",
       "      <td>Samsung</td>\n",
       "      <td>Galaxy S9</td>\n",
       "      <td>phone</td>\n",
       "      <td>en_US</td>\n",
       "      <td>c_ad_revenue</td>\n",
       "      <td>{\"ad_type\":\"int\",\"placement\":\"next_level\",\"vie...</td>\n",
       "      <td>2022-02-06 17:09:01</td>\n",
       "      <td>1644156541</td>\n",
       "      <td>2022-02-06 17:09:24</td>\n",
       "      <td>1644156564</td>\n",
       "      <td>wifi</td>\n",
       "      <td>T-Mobile</td>\n",
       "      <td>US</td>\n",
       "      <td>Cocoa</td>\n",
       "      <td>int</td>\n",
       "      <td>next_level</td>\n",
       "      <td>1</td>\n",
       "      <td>1</td>\n",
       "      <td>637797353426827330</td>\n",
       "      <td>125.94960</td>\n",
       "      <td>0.013894</td>\n",
       "      <td>0.013894</td>\n",
       "      <td>13.782633</td>\n",
       "      <td>13.893784</td>\n",
       "      <td>0.013894</td>\n",
       "      <td>USD</td>\n",
       "      <td>US</td>\n",
       "      <td>AppLovin</td>\n",
       "      <td>3ab7705b07ebb75f</td>\n",
       "      <td>inter_regular</td>\n",
       "      <td>13045364</td>\n",
       "    </tr>\n",
       "    <tr>\n",
       "      <th>4</th>\n",
       "      <td>JLzWWTJfi1b</td>\n",
       "      <td>10</td>\n",
       "      <td>Samsung</td>\n",
       "      <td>Galaxy S9</td>\n",
       "      <td>phone</td>\n",
       "      <td>en_US</td>\n",
       "      <td>c_ad_revenue</td>\n",
       "      <td>{\"ad_type\":\"banner\",\"placement\":\"\",\"view_index...</td>\n",
       "      <td>2022-02-06 17:15:38</td>\n",
       "      <td>1644156938</td>\n",
       "      <td>2022-02-06 17:16:16</td>\n",
       "      <td>1644156976</td>\n",
       "      <td>cell</td>\n",
       "      <td>Verizon</td>\n",
       "      <td>US</td>\n",
       "      <td>no data</td>\n",
       "      <td>banner</td>\n",
       "      <td>no data</td>\n",
       "      <td>1</td>\n",
       "      <td>0</td>\n",
       "      <td>637797357392197840</td>\n",
       "      <td>12.71129</td>\n",
       "      <td>0.006828</td>\n",
       "      <td>0.060571</td>\n",
       "      <td>1.660282</td>\n",
       "      <td>1.660282</td>\n",
       "      <td>0.006828</td>\n",
       "      <td>USD</td>\n",
       "      <td>US</td>\n",
       "      <td>Google AdMob</td>\n",
       "      <td>64c6b1114ea8c1cc</td>\n",
       "      <td>ca-app-pub-7511632782617496/6197324251</td>\n",
       "      <td>CMTi5e-h6_UCFUdVwQodt9EIMw</td>\n",
       "    </tr>\n",
       "  </tbody>\n",
       "</table>\n",
       "</div>"
      ],
      "text/plain": [
       "    profile_id os_version device_manufacturer   device_model device_type  \\\n",
       "0  JLjpGzDHBQm         11             Samsung  Galaxy Tab S6      tablet   \n",
       "1  JLjpGzDHBQm         11             Samsung  Galaxy Tab S6      tablet   \n",
       "2  JLkVacrzHY6         11              Google        Pixel 2       phone   \n",
       "3  JMC6wG3cX0f         10             Samsung      Galaxy S9       phone   \n",
       "4  JLzWWTJfi1b         10             Samsung      Galaxy S9       phone   \n",
       "\n",
       "  device_locale    event_name  \\\n",
       "0         en_US  c_ad_revenue   \n",
       "1         en_US  c_ad_revenue   \n",
       "2         en_US  c_ad_revenue   \n",
       "3         en_US  c_ad_revenue   \n",
       "4         en_US  c_ad_revenue   \n",
       "\n",
       "                                          event_json       event_datetime  \\\n",
       "0  {\"ad_type\":\"banner\",\"placement\":\"\",\"view_index...  2022-02-04 20:02:28   \n",
       "1  {\"ad_type\":\"banner\",\"placement\":\"\",\"view_index...  2022-02-04 20:02:45   \n",
       "2  {\"ad_type\":\"banner\",\"placement\":\"\",\"view_index...  2022-02-05 17:53:05   \n",
       "3  {\"ad_type\":\"int\",\"placement\":\"next_level\",\"vie...  2022-02-06 17:09:01   \n",
       "4  {\"ad_type\":\"banner\",\"placement\":\"\",\"view_index...  2022-02-06 17:15:38   \n",
       "\n",
       "   event_timestamp event_receive_datetime  event_receive_timestamp  \\\n",
       "0       1643994148    2022-02-06 17:58:19               1644159499   \n",
       "1       1643994165    2022-02-06 17:58:19               1644159499   \n",
       "2       1644072785    2022-02-06 16:59:29               1644155969   \n",
       "3       1644156541    2022-02-06 17:09:24               1644156564   \n",
       "4       1644156938    2022-02-06 17:16:16               1644156976   \n",
       "\n",
       "  connection_type operator_name country_iso_code       city ad_type  \\\n",
       "0            wifi       no data               US    Norwalk  banner   \n",
       "1            wifi       no data               US    Norwalk  banner   \n",
       "2            wifi       Verizon               US  Charlotte  banner   \n",
       "3            wifi      T-Mobile               US      Cocoa     int   \n",
       "4            cell      Verizon                US    no data  banner   \n",
       "\n",
       "    placement  view_index  session_view_index           cur_ticks  \\\n",
       "0     no data           1                   0  637795729492245130   \n",
       "1     no data           1                   0  637795729659949790   \n",
       "2     no data           1                   0  637796515863735930   \n",
       "3  next_level           1                   1  637797353426827330   \n",
       "4     no data           1                   0  637797357392197840   \n",
       "\n",
       "   session_length   revenue   ads_ltv   ecpm_sma  normalized_ecpm_sma  \\\n",
       "0       705.88070  0.000510  0.487877   0.511508             0.511508   \n",
       "1       722.65120  0.000510  0.488387   0.511389             0.511389   \n",
       "2       431.81290  0.002386  0.678479   0.928597             0.928597   \n",
       "3       125.94960  0.013894  0.013894  13.782633            13.893784   \n",
       "4        12.71129  0.006828  0.060571   1.660282             1.660282   \n",
       "\n",
       "      value currency ad_country_code       network_name        ad_unit_id  \\\n",
       "0  0.000510      USD              US       Google AdMob  64c6b1114ea8c1cc   \n",
       "1  0.000510      USD              US       Google AdMob  64c6b1114ea8c1cc   \n",
       "2  0.002386      USD              US  APPLOVIN_EXCHANGE  64c6b1114ea8c1cc   \n",
       "3  0.013894      USD              US           AppLovin  3ab7705b07ebb75f   \n",
       "4  0.006828      USD              US       Google AdMob  64c6b1114ea8c1cc   \n",
       "\n",
       "                     ad_network_placement                  creativeId  \n",
       "0  ca-app-pub-7511632782617496/8825263691  CJ3XirfD5vUCFYPnKAUdG3MOYQ  \n",
       "1  ca-app-pub-7511632782617496/8825263691  CNa-lL_D5vUCFZrpKAUdU2QBDQ  \n",
       "2                          banner_regular                  pandora-58  \n",
       "3                           inter_regular                    13045364  \n",
       "4  ca-app-pub-7511632782617496/6197324251  CMTi5e-h6_UCFUdVwQodt9EIMw  "
      ]
     },
     "execution_count": 16,
     "metadata": {},
     "output_type": "execute_result"
    }
   ],
   "source": [
    "df.head()"
   ]
  },
  {
   "cell_type": "markdown",
   "metadata": {},
   "source": [
    "Приведем колонки с датами к нужному типу данных и еще раз проверим тип данных всех колонок и пропущенные значения. "
   ]
  },
  {
   "cell_type": "code",
   "execution_count": 17,
   "metadata": {},
   "outputs": [],
   "source": [
    "df.event_datetime = pd.to_datetime(df.event_datetime)\n",
    "df.event_receive_datetime = pd.to_datetime(df.event_receive_datetime)"
   ]
  },
  {
   "cell_type": "code",
   "execution_count": 18,
   "metadata": {},
   "outputs": [
    {
     "name": "stdout",
     "output_type": "stream",
     "text": [
      "<class 'pandas.core.frame.DataFrame'>\n",
      "RangeIndex: 860079 entries, 0 to 860078\n",
      "Data columns (total 33 columns):\n",
      " #   Column                   Non-Null Count   Dtype         \n",
      "---  ------                   --------------   -----         \n",
      " 0   profile_id               860079 non-null  object        \n",
      " 1   os_version               860079 non-null  object        \n",
      " 2   device_manufacturer      860079 non-null  object        \n",
      " 3   device_model             860079 non-null  object        \n",
      " 4   device_type              860079 non-null  object        \n",
      " 5   device_locale            860079 non-null  object        \n",
      " 6   event_name               860079 non-null  object        \n",
      " 7   event_json               860079 non-null  object        \n",
      " 8   event_datetime           860079 non-null  datetime64[ns]\n",
      " 9   event_timestamp          860079 non-null  int64         \n",
      " 10  event_receive_datetime   860079 non-null  datetime64[ns]\n",
      " 11  event_receive_timestamp  860079 non-null  int64         \n",
      " 12  connection_type          860079 non-null  object        \n",
      " 13  operator_name            860079 non-null  object        \n",
      " 14  country_iso_code         860079 non-null  object        \n",
      " 15  city                     860079 non-null  object        \n",
      " 16  ad_type                  860079 non-null  object        \n",
      " 17  placement                860079 non-null  object        \n",
      " 18  view_index               860079 non-null  int64         \n",
      " 19  session_view_index       860079 non-null  int64         \n",
      " 20  cur_ticks                860079 non-null  int64         \n",
      " 21  session_length           860079 non-null  float64       \n",
      " 22  revenue                  860079 non-null  float64       \n",
      " 23  ads_ltv                  860079 non-null  float64       \n",
      " 24  ecpm_sma                 860079 non-null  float64       \n",
      " 25  normalized_ecpm_sma      860079 non-null  float64       \n",
      " 26  value                    860079 non-null  float64       \n",
      " 27  currency                 860079 non-null  object        \n",
      " 28  ad_country_code          860079 non-null  object        \n",
      " 29  network_name             860079 non-null  object        \n",
      " 30  ad_unit_id               860079 non-null  object        \n",
      " 31  ad_network_placement     860079 non-null  object        \n",
      " 32  creativeId               860079 non-null  object        \n",
      "dtypes: datetime64[ns](2), float64(6), int64(5), object(20)\n",
      "memory usage: 216.5+ MB\n"
     ]
    }
   ],
   "source": [
    "df.info()"
   ]
  },
  {
   "cell_type": "markdown",
   "metadata": {},
   "source": [
    "# Задачи\n",
    "1.  Для каждого формата рекламы:\n",
    "    - построить распределение средних eCPM-ов юзеров\n",
    "    - построить распределение eCPM-ов по городам, версиям ОС\n",
    "    - построить распределение доходов по городам, версиям ОС\n",
    "2. Учесть статистическую значимость (отобразить, отфильтровать незначимое или хотя бы прокомментировать). Объяснить решение.\n",
    "3. Описать наблюдения и вывод по исследованию."
   ]
  },
  {
   "cell_type": "markdown",
   "metadata": {},
   "source": [
    "### Распределение средних ecpm по юзерам"
   ]
  },
  {
   "cell_type": "markdown",
   "metadata": {},
   "source": [
    "Сгруппируем данные по profile_id юзеров и посмотрим на средние значения колонок ecpm_sma и normalized_ecpm_sma по разным форматам рекламы: banner, int и rv.  "
   ]
  },
  {
   "cell_type": "markdown",
   "metadata": {},
   "source": [
    "#### users_mean_ecpm_banner"
   ]
  },
  {
   "cell_type": "code",
   "execution_count": 25,
   "metadata": {},
   "outputs": [],
   "source": [
    "users_mean_ecpm_banner = df.query('ad_type == \"banner\"').groupby('profile_id', as_index=False) \\\n",
    "    .agg({'ecpm_sma':'mean', 'normalized_ecpm_sma':'mean'}) \\\n",
    "    .rename(columns={'ecpm_sma': 'mean_ecpm_sma', 'normalized_ecpm_sma':'mean_normalized_ecpm_sma'})"
   ]
  },
  {
   "cell_type": "code",
   "execution_count": 26,
   "metadata": {},
   "outputs": [
    {
     "data": {
      "text/html": [
       "<div>\n",
       "<style scoped>\n",
       "    .dataframe tbody tr th:only-of-type {\n",
       "        vertical-align: middle;\n",
       "    }\n",
       "\n",
       "    .dataframe tbody tr th {\n",
       "        vertical-align: top;\n",
       "    }\n",
       "\n",
       "    .dataframe thead th {\n",
       "        text-align: right;\n",
       "    }\n",
       "</style>\n",
       "<table border=\"1\" class=\"dataframe\">\n",
       "  <thead>\n",
       "    <tr style=\"text-align: right;\">\n",
       "      <th></th>\n",
       "      <th>profile_id</th>\n",
       "      <th>mean_ecpm_sma</th>\n",
       "      <th>mean_normalized_ecpm_sma</th>\n",
       "    </tr>\n",
       "  </thead>\n",
       "  <tbody>\n",
       "    <tr>\n",
       "      <th>0</th>\n",
       "      <td>JL00qCZH1HV</td>\n",
       "      <td>5.379373</td>\n",
       "      <td>5.379373</td>\n",
       "    </tr>\n",
       "    <tr>\n",
       "      <th>1</th>\n",
       "      <td>JL015rw9vmN</td>\n",
       "      <td>1.208829</td>\n",
       "      <td>1.208829</td>\n",
       "    </tr>\n",
       "    <tr>\n",
       "      <th>2</th>\n",
       "      <td>JL01aCdFTJy</td>\n",
       "      <td>0.644109</td>\n",
       "      <td>0.644109</td>\n",
       "    </tr>\n",
       "    <tr>\n",
       "      <th>3</th>\n",
       "      <td>JL04ODuw9UP</td>\n",
       "      <td>0.210804</td>\n",
       "      <td>0.210804</td>\n",
       "    </tr>\n",
       "    <tr>\n",
       "      <th>4</th>\n",
       "      <td>JL06OWhBYxn</td>\n",
       "      <td>0.332892</td>\n",
       "      <td>0.332892</td>\n",
       "    </tr>\n",
       "  </tbody>\n",
       "</table>\n",
       "</div>"
      ],
      "text/plain": [
       "    profile_id  mean_ecpm_sma  mean_normalized_ecpm_sma\n",
       "0  JL00qCZH1HV       5.379373                  5.379373\n",
       "1  JL015rw9vmN       1.208829                  1.208829\n",
       "2  JL01aCdFTJy       0.644109                  0.644109\n",
       "3  JL04ODuw9UP       0.210804                  0.210804\n",
       "4  JL06OWhBYxn       0.332892                  0.332892"
      ]
     },
     "execution_count": 26,
     "metadata": {},
     "output_type": "execute_result"
    }
   ],
   "source": [
    "users_mean_ecpm_banner.head()"
   ]
  },
  {
   "cell_type": "markdown",
   "metadata": {},
   "source": [
    "#### users_mean_ecpm_int"
   ]
  },
  {
   "cell_type": "code",
   "execution_count": 27,
   "metadata": {},
   "outputs": [],
   "source": [
    "users_mean_ecpm_int = df.query('ad_type == \"int\"').groupby('profile_id', as_index=False) \\\n",
    "    .agg({'ecpm_sma':'mean', 'normalized_ecpm_sma':'mean'}) \\\n",
    "    .rename(columns={'ecpm_sma': 'mean_ecpm_sma', 'normalized_ecpm_sma':'mean_normalized_ecpm_sma'})"
   ]
  },
  {
   "cell_type": "code",
   "execution_count": 28,
   "metadata": {},
   "outputs": [
    {
     "data": {
      "text/html": [
       "<div>\n",
       "<style scoped>\n",
       "    .dataframe tbody tr th:only-of-type {\n",
       "        vertical-align: middle;\n",
       "    }\n",
       "\n",
       "    .dataframe tbody tr th {\n",
       "        vertical-align: top;\n",
       "    }\n",
       "\n",
       "    .dataframe thead th {\n",
       "        text-align: right;\n",
       "    }\n",
       "</style>\n",
       "<table border=\"1\" class=\"dataframe\">\n",
       "  <thead>\n",
       "    <tr style=\"text-align: right;\">\n",
       "      <th></th>\n",
       "      <th>profile_id</th>\n",
       "      <th>mean_ecpm_sma</th>\n",
       "      <th>mean_normalized_ecpm_sma</th>\n",
       "    </tr>\n",
       "  </thead>\n",
       "  <tbody>\n",
       "    <tr>\n",
       "      <th>0</th>\n",
       "      <td>JL015rw9vmN</td>\n",
       "      <td>30.450380</td>\n",
       "      <td>31.143465</td>\n",
       "    </tr>\n",
       "    <tr>\n",
       "      <th>1</th>\n",
       "      <td>JL01aCdFTJy</td>\n",
       "      <td>36.256828</td>\n",
       "      <td>36.549221</td>\n",
       "    </tr>\n",
       "    <tr>\n",
       "      <th>2</th>\n",
       "      <td>JL04ODuw9UP</td>\n",
       "      <td>36.490028</td>\n",
       "      <td>36.930372</td>\n",
       "    </tr>\n",
       "    <tr>\n",
       "      <th>3</th>\n",
       "      <td>JL06b4k4ygp</td>\n",
       "      <td>11.786674</td>\n",
       "      <td>11.881729</td>\n",
       "    </tr>\n",
       "    <tr>\n",
       "      <th>4</th>\n",
       "      <td>JL06eD8uPpv</td>\n",
       "      <td>32.222013</td>\n",
       "      <td>32.611441</td>\n",
       "    </tr>\n",
       "  </tbody>\n",
       "</table>\n",
       "</div>"
      ],
      "text/plain": [
       "    profile_id  mean_ecpm_sma  mean_normalized_ecpm_sma\n",
       "0  JL015rw9vmN      30.450380                 31.143465\n",
       "1  JL01aCdFTJy      36.256828                 36.549221\n",
       "2  JL04ODuw9UP      36.490028                 36.930372\n",
       "3  JL06b4k4ygp      11.786674                 11.881729\n",
       "4  JL06eD8uPpv      32.222013                 32.611441"
      ]
     },
     "execution_count": 28,
     "metadata": {},
     "output_type": "execute_result"
    }
   ],
   "source": [
    "users_mean_ecpm_int.head()"
   ]
  },
  {
   "cell_type": "markdown",
   "metadata": {},
   "source": [
    "#### users_mean_ecpm_rv"
   ]
  },
  {
   "cell_type": "code",
   "execution_count": 29,
   "metadata": {},
   "outputs": [],
   "source": [
    "users_mean_ecpm_rv = df.query('ad_type == \"rv\"').groupby('profile_id', as_index=False) \\\n",
    "    .agg({'ecpm_sma':'mean', 'normalized_ecpm_sma':'mean'}) \\\n",
    "    .rename(columns={'ecpm_sma': 'mean_ecpm_sma', 'normalized_ecpm_sma':'mean_normalized_ecpm_sma'})"
   ]
  },
  {
   "cell_type": "code",
   "execution_count": 30,
   "metadata": {},
   "outputs": [
    {
     "data": {
      "text/html": [
       "<div>\n",
       "<style scoped>\n",
       "    .dataframe tbody tr th:only-of-type {\n",
       "        vertical-align: middle;\n",
       "    }\n",
       "\n",
       "    .dataframe tbody tr th {\n",
       "        vertical-align: top;\n",
       "    }\n",
       "\n",
       "    .dataframe thead th {\n",
       "        text-align: right;\n",
       "    }\n",
       "</style>\n",
       "<table border=\"1\" class=\"dataframe\">\n",
       "  <thead>\n",
       "    <tr style=\"text-align: right;\">\n",
       "      <th></th>\n",
       "      <th>profile_id</th>\n",
       "      <th>mean_ecpm_sma</th>\n",
       "      <th>mean_normalized_ecpm_sma</th>\n",
       "    </tr>\n",
       "  </thead>\n",
       "  <tbody>\n",
       "    <tr>\n",
       "      <th>0</th>\n",
       "      <td>JL04ODuw9UP</td>\n",
       "      <td>54.252235</td>\n",
       "      <td>54.916929</td>\n",
       "    </tr>\n",
       "    <tr>\n",
       "      <th>1</th>\n",
       "      <td>JL06eD8uPpv</td>\n",
       "      <td>122.395164</td>\n",
       "      <td>123.382225</td>\n",
       "    </tr>\n",
       "    <tr>\n",
       "      <th>2</th>\n",
       "      <td>JL0GsLmgQqj</td>\n",
       "      <td>18.886984</td>\n",
       "      <td>19.039299</td>\n",
       "    </tr>\n",
       "    <tr>\n",
       "      <th>3</th>\n",
       "      <td>JL0aZ4tP8jc</td>\n",
       "      <td>22.715475</td>\n",
       "      <td>23.043731</td>\n",
       "    </tr>\n",
       "    <tr>\n",
       "      <th>4</th>\n",
       "      <td>JL0axMwodcw</td>\n",
       "      <td>208.103504</td>\n",
       "      <td>212.355438</td>\n",
       "    </tr>\n",
       "  </tbody>\n",
       "</table>\n",
       "</div>"
      ],
      "text/plain": [
       "    profile_id  mean_ecpm_sma  mean_normalized_ecpm_sma\n",
       "0  JL04ODuw9UP      54.252235                 54.916929\n",
       "1  JL06eD8uPpv     122.395164                123.382225\n",
       "2  JL0GsLmgQqj      18.886984                 19.039299\n",
       "3  JL0aZ4tP8jc      22.715475                 23.043731\n",
       "4  JL0axMwodcw     208.103504                212.355438"
      ]
     },
     "execution_count": 30,
     "metadata": {},
     "output_type": "execute_result"
    }
   ],
   "source": [
    "users_mean_ecpm_rv.head()"
   ]
  },
  {
   "cell_type": "markdown",
   "metadata": {},
   "source": [
    "#### Banner"
   ]
  },
  {
   "cell_type": "markdown",
   "metadata": {},
   "source": [
    "Визуализируем полученные распределения."
   ]
  },
  {
   "cell_type": "code",
   "execution_count": 168,
   "metadata": {},
   "outputs": [
    {
     "data": {
      "image/png": "[encoded data removed]",
      "text/plain": [
       "<Figure size 504x504 with 1 Axes>"
      ]
     },
     "metadata": {},
     "output_type": "display_data"
    }
   ],
   "source": [
    "sns.displot(users_mean_ecpm_banner.mean_ecpm_sma, height=7).set(title='Banner mean ecpm_sma by user');"
   ]
  },
  {
   "cell_type": "code",
   "execution_count": 169,
   "metadata": {},
   "outputs": [
    {
     "data": {
      "text/plain": [
       "ShapiroResult(statistic=0.4865484833717346, pvalue=0.0)"
      ]
     },
     "execution_count": 169,
     "metadata": {},
     "output_type": "execute_result"
    }
   ],
   "source": [
    "ss.shapiro(users_mean_ecpm_banner.mean_ecpm_sma) "
   ]
  },
  {
   "cell_type": "markdown",
   "metadata": {},
   "source": [
    "Исходя из формы распределения и результата теста Шапиро-Уилка, в котором p-value значительно меньше 0.05 мы принимаем делаем вывод о том, что данные распределены ненормально. Форма распределения напоминает экспоненциальное распределение."
   ]
  },
  {
   "cell_type": "markdown",
   "metadata": {},
   "source": [
    "Сделаем тоже самое с нормализованным ecpm. "
   ]
  },
  {
   "cell_type": "code",
   "execution_count": 67,
   "metadata": {},
   "outputs": [
    {
     "data": {
      "image/png": "[encoded data removed]",
      "text/plain": [
       "<Figure size 504x504 with 1 Axes>"
      ]
     },
     "metadata": {},
     "output_type": "display_data"
    }
   ],
   "source": [
    "sns.displot(users_mean_ecpm_banner.mean_normalized_ecpm_sma, height=7).set(title='Banner mean normalized ecpm_sma by user');"
   ]
  },
  {
   "cell_type": "code",
   "execution_count": 170,
   "metadata": {},
   "outputs": [
    {
     "data": {
      "text/plain": [
       "ShapiroResult(statistic=0.4865484833717346, pvalue=0.0)"
      ]
     },
     "execution_count": 170,
     "metadata": {},
     "output_type": "execute_result"
    }
   ],
   "source": [
    "ss.shapiro(users_mean_ecpm_banner.mean_normalized_ecpm_sma) "
   ]
  },
  {
   "cell_type": "markdown",
   "metadata": {},
   "source": [
    "Результат такой же - данные распределены ненормально."
   ]
  },
  {
   "cell_type": "markdown",
   "metadata": {},
   "source": [
    "Посмотрим на возможные выбросы в данных с помощью boxplot. "
   ]
  },
  {
   "cell_type": "code",
   "execution_count": 171,
   "metadata": {},
   "outputs": [
    {
     "data": {
      "image/png": "[encoded data removed]",
      "text/plain": [
       "<Figure size 842.4x595.44 with 1 Axes>"
      ]
     },
     "metadata": {},
     "output_type": "display_data"
    }
   ],
   "source": [
    "sns.boxplot(data=users_mean_ecpm_banner.mean_ecpm_sma).set(title='Banner mean ecpm_sma by user');"
   ]
  },
  {
   "cell_type": "markdown",
   "metadata": {},
   "source": [
    "Исходя из графика видим, что выбросов достаточно много и боксплот прижат к нижней границе графика. Так как данные распределены ненормально воспользуемся межквартильным расмахом IQR для фильтрации выбросов. "
   ]
  },
  {
   "cell_type": "code",
   "execution_count": 180,
   "metadata": {},
   "outputs": [
    {
     "name": "stdout",
     "output_type": "stream",
     "text": [
      "Перцентили: 25й=0.355, 75й=1.501, IQR=1.146\n"
     ]
    }
   ],
   "source": [
    "q25, q75 = np.percentile(users_mean_ecpm_banner.mean_ecpm_sma, 25), np.percentile(users_mean_ecpm_banner.mean_ecpm_sma, 75)\n",
    "iqr = q75 - q25\n",
    "print('Перцентили: 25й=%.3f, 75й=%.3f, IQR=%.3f' % (q25, q75, iqr))"
   ]
  },
  {
   "cell_type": "code",
   "execution_count": 181,
   "metadata": {},
   "outputs": [],
   "source": [
    "cut_off = iqr * 1.5\n",
    "lower, upper = q25 - cut_off, q75 + cut_off"
   ]
  },
  {
   "cell_type": "code",
   "execution_count": 182,
   "metadata": {},
   "outputs": [
    {
     "name": "stdout",
     "output_type": "stream",
     "text": [
      "Найденные выбросы: 282\n"
     ]
    }
   ],
   "source": [
    "outliers = [x for x in users_mean_ecpm_banner.mean_ecpm_sma if x < lower or x > upper]\n",
    "print('Найденные выбросы: %d' % len(outliers))"
   ]
  },
  {
   "cell_type": "code",
   "execution_count": 183,
   "metadata": {},
   "outputs": [
    {
     "name": "stdout",
     "output_type": "stream",
     "text": [
      "Наблюдений без выбросов: 3227\n"
     ]
    }
   ],
   "source": [
    "outliers_removed = [x for x in users_mean_ecpm_banner.mean_ecpm_sma if x >= lower and x <= upper]\n",
    "print('Наблюдений без выбросов: %d' % len(outliers_removed))"
   ]
  },
  {
   "cell_type": "markdown",
   "metadata": {},
   "source": [
    "Тоже самое проделаем c normalized ecpm. "
   ]
  },
  {
   "cell_type": "code",
   "execution_count": 184,
   "metadata": {},
   "outputs": [
    {
     "data": {
      "image/png": "[encoded data removed]",
      "text/plain": [
       "<Figure size 842.4x595.44 with 1 Axes>"
      ]
     },
     "metadata": {},
     "output_type": "display_data"
    }
   ],
   "source": [
    "sns.boxplot(data=users_mean_ecpm_banner.mean_normalized_ecpm_sma).set(title='Banner mean normalized ecpm_sma by user');"
   ]
  },
  {
   "cell_type": "code",
   "execution_count": 185,
   "metadata": {},
   "outputs": [
    {
     "name": "stdout",
     "output_type": "stream",
     "text": [
      "Перцентили: 25й=0.355, 75й=1.501, IQR=1.146\n"
     ]
    }
   ],
   "source": [
    "q25, q75 = np.percentile(users_mean_ecpm_banner.mean_normalized_ecpm_sma, 25), np.percentile(users_mean_ecpm_banner.mean_normalized_ecpm_sma, 75)\n",
    "iqr = q75 - q25\n",
    "print('Перцентили: 25й=%.3f, 75й=%.3f, IQR=%.3f' % (q25, q75, iqr))"
   ]
  },
  {
   "cell_type": "code",
   "execution_count": 186,
   "metadata": {},
   "outputs": [],
   "source": [
    "cut_off = iqr * 1.5\n",
    "lower, upper = q25 - cut_off, q75 + cut_off"
   ]
  },
  {
   "cell_type": "code",
   "execution_count": 187,
   "metadata": {},
   "outputs": [
    {
     "name": "stdout",
     "output_type": "stream",
     "text": [
      "Найденные выбросы: 282\n"
     ]
    }
   ],
   "source": [
    "outliers = [x for x in users_mean_ecpm_banner.mean_normalized_ecpm_sma if x < lower or x > upper]\n",
    "print('Найденные выбросы: %d' % len(outliers))"
   ]
  },
  {
   "cell_type": "code",
   "execution_count": 188,
   "metadata": {},
   "outputs": [
    {
     "name": "stdout",
     "output_type": "stream",
     "text": [
      "Наблюдений без выбросов: 3227\n"
     ]
    }
   ],
   "source": [
    "outliers_removed = [x for x in users_mean_ecpm_banner.mean_normalized_ecpm_sma if x >= lower and x <= upper]\n",
    "print('Наблюдений без выбросов: %d' % len(outliers_removed))"
   ]
  },
  {
   "cell_type": "markdown",
   "metadata": {},
   "source": [
    "Результаты получились идентичными. "
   ]
  },
  {
   "cell_type": "markdown",
   "metadata": {},
   "source": [
    "Повторим тоже самое для оставшихся типов рекламы. "
   ]
  },
  {
   "cell_type": "markdown",
   "metadata": {},
   "source": [
    "#### Int"
   ]
  },
  {
   "cell_type": "code",
   "execution_count": 189,
   "metadata": {},
   "outputs": [
    {
     "data": {
      "image/png": "[encoded data removed]",
      "text/plain": [
       "<Figure size 504x504 with 1 Axes>"
      ]
     },
     "metadata": {},
     "output_type": "display_data"
    }
   ],
   "source": [
    "sns.displot(users_mean_ecpm_int.mean_ecpm_sma, height=7).set(title='Int mean ecpm_sma by user');"
   ]
  },
  {
   "cell_type": "code",
   "execution_count": 191,
   "metadata": {},
   "outputs": [
    {
     "data": {
      "text/plain": [
       "ShapiroResult(statistic=0.7315653562545776, pvalue=0.0)"
      ]
     },
     "execution_count": 191,
     "metadata": {},
     "output_type": "execute_result"
    }
   ],
   "source": [
    "ss.shapiro(users_mean_ecpm_int.mean_ecpm_sma) "
   ]
  },
  {
   "cell_type": "markdown",
   "metadata": {},
   "source": [
    "Распределение ненормально."
   ]
  },
  {
   "cell_type": "code",
   "execution_count": 194,
   "metadata": {},
   "outputs": [
    {
     "data": {
      "image/png": "[encoded data removed]",
      "text/plain": [
       "<Figure size 842.4x595.44 with 1 Axes>"
      ]
     },
     "metadata": {},
     "output_type": "display_data"
    }
   ],
   "source": [
    "sns.boxplot(data=users_mean_ecpm_int.mean_ecpm_sma).set(title='Int mean ecpm_sma by user');"
   ]
  },
  {
   "cell_type": "markdown",
   "metadata": {},
   "source": [
    "Выбросы есть. Снова смотрим на размахи. "
   ]
  },
  {
   "cell_type": "code",
   "execution_count": 195,
   "metadata": {},
   "outputs": [
    {
     "name": "stdout",
     "output_type": "stream",
     "text": [
      "Перцентили: 25й=19.584, 75й=61.069, IQR=41.486\n",
      "Найденные выбросы: 439\n",
      "Наблюдений без выбросов: 3524\n"
     ]
    }
   ],
   "source": [
    "q25, q75 = np.percentile(users_mean_ecpm_int.mean_ecpm_sma, 25), np.percentile(users_mean_ecpm_int.mean_ecpm_sma, 75)\n",
    "iqr = q75 - q25\n",
    "print('Перцентили: 25й=%.3f, 75й=%.3f, IQR=%.3f' % (q25, q75, iqr))\n",
    "\n",
    "cut_off = iqr * 1.5\n",
    "lower, upper = q25 - cut_off, q75 + cut_off\n",
    "\n",
    "outliers = [x for x in users_mean_ecpm_int.mean_ecpm_sma if x < lower or x > upper]\n",
    "print('Найденные выбросы: %d' % len(outliers))\n",
    "\n",
    "outliers_removed = [x for x in users_mean_ecpm_int.mean_ecpm_sma if x >= lower and x <= upper]\n",
    "print('Наблюдений без выбросов: %d' % len(outliers_removed))"
   ]
  },
  {
   "cell_type": "code",
   "execution_count": 192,
   "metadata": {},
   "outputs": [
    {
     "data": {
      "image/png": "[encoded data removed]",
      "text/plain": [
       "<Figure size 504x504 with 1 Axes>"
      ]
     },
     "metadata": {},
     "output_type": "display_data"
    }
   ],
   "source": [
    "sns.displot(users_mean_ecpm_int.mean_normalized_ecpm_sma, height=7).set(title='Int mean normalized ecpm_sma by user');"
   ]
  },
  {
   "cell_type": "code",
   "execution_count": 193,
   "metadata": {},
   "outputs": [
    {
     "data": {
      "text/plain": [
       "ShapiroResult(statistic=0.7316707372665405, pvalue=0.0)"
      ]
     },
     "execution_count": 193,
     "metadata": {},
     "output_type": "execute_result"
    }
   ],
   "source": [
    "ss.shapiro(users_mean_ecpm_int.mean_normalized_ecpm_sma) "
   ]
  },
  {
   "cell_type": "markdown",
   "metadata": {},
   "source": [
    "Распределение также ненормально."
   ]
  },
  {
   "cell_type": "code",
   "execution_count": 196,
   "metadata": {},
   "outputs": [
    {
     "data": {
      "image/png": "[encoded data removed]",
      "text/plain": [
       "<Figure size 842.4x595.44 with 1 Axes>"
      ]
     },
     "metadata": {},
     "output_type": "display_data"
    }
   ],
   "source": [
    "sns.boxplot(data=users_mean_ecpm_int.mean_normalized_ecpm_sma).set(title='Int mean normalized_ecpm_sma by user');"
   ]
  },
  {
   "cell_type": "code",
   "execution_count": 197,
   "metadata": {},
   "outputs": [
    {
     "name": "stdout",
     "output_type": "stream",
     "text": [
      "Перцентили: 25й=19.932, 75й=62.268, IQR=42.336\n",
      "Найденные выбросы: 435\n",
      "Наблюдений без выбросов: 3528\n"
     ]
    }
   ],
   "source": [
    "q25, q75 = np.percentile(users_mean_ecpm_int.mean_normalized_ecpm_sma, 25), np.percentile(users_mean_ecpm_int.mean_normalized_ecpm_sma, 75)\n",
    "iqr = q75 - q25\n",
    "print('Перцентили: 25й=%.3f, 75й=%.3f, IQR=%.3f' % (q25, q75, iqr))\n",
    "\n",
    "cut_off = iqr * 1.5\n",
    "lower, upper = q25 - cut_off, q75 + cut_off\n",
    "\n",
    "outliers = [x for x in users_mean_ecpm_int.mean_normalized_ecpm_sma if x < lower or x > upper]\n",
    "print('Найденные выбросы: %d' % len(outliers))\n",
    "\n",
    "outliers_removed = [x for x in users_mean_ecpm_int.mean_normalized_ecpm_sma if x >= lower and x <= upper]\n",
    "print('Наблюдений без выбросов: %d' % len(outliers_removed))"
   ]
  },
  {
   "cell_type": "markdown",
   "metadata": {},
   "source": [
    "Результаты фильтрации в нормализованных данных по типу рекламы Int незначительно отличаются. "
   ]
  },
  {
   "cell_type": "markdown",
   "metadata": {},
   "source": [
    "#### RV"
   ]
  },
  {
   "cell_type": "code",
   "execution_count": 198,
   "metadata": {},
   "outputs": [
    {
     "data": {
      "image/png": "[encoded data removed]",
      "text/plain": [
       "<Figure size 504x504 with 1 Axes>"
      ]
     },
     "metadata": {},
     "output_type": "display_data"
    }
   ],
   "source": [
    "sns.displot(users_mean_ecpm_rv.mean_ecpm_sma, height=7).set(title='Rv mean ecpm_sma by user');"
   ]
  },
  {
   "cell_type": "code",
   "execution_count": 200,
   "metadata": {},
   "outputs": [
    {
     "data": {
      "text/plain": [
       "ShapiroResult(statistic=0.7191077470779419, pvalue=1.8525165698374082e-42)"
      ]
     },
     "execution_count": 200,
     "metadata": {},
     "output_type": "execute_result"
    }
   ],
   "source": [
    "ss.shapiro(users_mean_ecpm_rv.mean_ecpm_sma) "
   ]
  },
  {
   "cell_type": "markdown",
   "metadata": {},
   "source": [
    "Данные ненормальны."
   ]
  },
  {
   "cell_type": "code",
   "execution_count": 202,
   "metadata": {},
   "outputs": [
    {
     "data": {
      "image/png": "[encoded data removed]",
      "text/plain": [
       "<Figure size 842.4x595.44 with 1 Axes>"
      ]
     },
     "metadata": {},
     "output_type": "display_data"
    }
   ],
   "source": [
    "sns.boxplot(data=users_mean_ecpm_rv.mean_ecpm_sma).set(title='Rv mean ecpm_sma by user');"
   ]
  },
  {
   "cell_type": "code",
   "execution_count": 203,
   "metadata": {},
   "outputs": [
    {
     "name": "stdout",
     "output_type": "stream",
     "text": [
      "Перцентили: 25й=28.014, 75й=95.183, IQR=67.169\n",
      "Найденные выбросы: 222\n",
      "Наблюдений без выбросов: 1102\n"
     ]
    }
   ],
   "source": [
    "q25, q75 = np.percentile(users_mean_ecpm_rv.mean_ecpm_sma, 25), np.percentile(users_mean_ecpm_rv.mean_ecpm_sma, 75)\n",
    "iqr = q75 - q25\n",
    "print('Перцентили: 25й=%.3f, 75й=%.3f, IQR=%.3f' % (q25, q75, iqr))\n",
    "\n",
    "cut_off = iqr * 1.5\n",
    "lower, upper = q25 - cut_off, q75 + cut_off\n",
    "\n",
    "outliers = [x for x in users_mean_ecpm_rv.mean_ecpm_sma if x < lower or x > upper]\n",
    "print('Найденные выбросы: %d' % len(outliers))\n",
    "\n",
    "outliers_removed = [x for x in users_mean_ecpm_rv.mean_ecpm_sma if x >= lower and x <= upper]\n",
    "print('Наблюдений без выбросов: %d' % len(outliers_removed))"
   ]
  },
  {
   "cell_type": "code",
   "execution_count": 199,
   "metadata": {},
   "outputs": [
    {
     "data": {
      "image/png": "[encoded data removed]",
      "text/plain": [
       "<Figure size 504x504 with 1 Axes>"
      ]
     },
     "metadata": {},
     "output_type": "display_data"
    }
   ],
   "source": [
    "sns.displot(users_mean_ecpm_rv.mean_normalized_ecpm_sma, height=7).set(title='Rv mean normalized ecpm_sma by user');"
   ]
  },
  {
   "cell_type": "code",
   "execution_count": 201,
   "metadata": {},
   "outputs": [
    {
     "data": {
      "text/plain": [
       "ShapiroResult(statistic=0.7187854051589966, pvalue=1.7810503481568425e-42)"
      ]
     },
     "execution_count": 201,
     "metadata": {},
     "output_type": "execute_result"
    }
   ],
   "source": [
    "ss.shapiro(users_mean_ecpm_rv.mean_normalized_ecpm_sma) "
   ]
  },
  {
   "cell_type": "markdown",
   "metadata": {},
   "source": [
    "Данные ненормальны."
   ]
  },
  {
   "cell_type": "code",
   "execution_count": 204,
   "metadata": {},
   "outputs": [
    {
     "data": {
      "image/png": "[encoded data removed]",
      "text/plain": [
       "<Figure size 842.4x595.44 with 1 Axes>"
      ]
     },
     "metadata": {},
     "output_type": "display_data"
    }
   ],
   "source": [
    "sns.boxplot(data=users_mean_ecpm_rv.mean_normalized_ecpm_sma).set(title='Rv mean normalized ecpm_sma by user');"
   ]
  },
  {
   "cell_type": "code",
   "execution_count": 205,
   "metadata": {},
   "outputs": [
    {
     "name": "stdout",
     "output_type": "stream",
     "text": [
      "Перцентили: 25й=28.240, 75й=96.048, IQR=67.808\n",
      "Найденные выбросы: 225\n",
      "Наблюдений без выбросов: 1099\n"
     ]
    }
   ],
   "source": [
    "q25, q75 = np.percentile(users_mean_ecpm_rv.mean_normalized_ecpm_sma, 25), np.percentile(users_mean_ecpm_rv.mean_normalized_ecpm_sma, 75)\n",
    "iqr = q75 - q25\n",
    "print('Перцентили: 25й=%.3f, 75й=%.3f, IQR=%.3f' % (q25, q75, iqr))\n",
    "\n",
    "cut_off = iqr * 1.5\n",
    "lower, upper = q25 - cut_off, q75 + cut_off\n",
    "\n",
    "outliers = [x for x in users_mean_ecpm_rv.mean_normalized_ecpm_sma if x < lower or x > upper]\n",
    "print('Найденные выбросы: %d' % len(outliers))\n",
    "\n",
    "outliers_removed = [x for x in users_mean_ecpm_rv.mean_normalized_ecpm_sma if x >= lower and x <= upper]\n",
    "print('Наблюдений без выбросов: %d' % len(outliers_removed))"
   ]
  },
  {
   "cell_type": "markdown",
   "metadata": {},
   "source": [
    "### Распределение средних ecpm по городам и версиям ОС"
   ]
  },
  {
   "cell_type": "markdown",
   "metadata": {},
   "source": [
    "Сгруппируем данные по разным форматам рекламы, городам и версиям операционных систем и посмотрим на них."
   ]
  },
  {
   "cell_type": "code",
   "execution_count": 212,
   "metadata": {},
   "outputs": [],
   "source": [
    "banner_city_os_mean_ecpm = df.query('ad_type == \"banner\"').groupby(['city', 'os_version'], as_index=False) \\\n",
    "    .agg({'ecpm_sma':'mean', 'normalized_ecpm_sma':'mean'}) \\\n",
    "    .rename(columns={'ecpm_sma': 'mean_ecpm_sma', 'normalized_ecpm_sma':'mean_normalized_ecpm_sma'})"
   ]
  },
  {
   "cell_type": "code",
   "execution_count": 213,
   "metadata": {},
   "outputs": [
    {
     "data": {
      "text/html": [
       "<div>\n",
       "<style scoped>\n",
       "    .dataframe tbody tr th:only-of-type {\n",
       "        vertical-align: middle;\n",
       "    }\n",
       "\n",
       "    .dataframe tbody tr th {\n",
       "        vertical-align: top;\n",
       "    }\n",
       "\n",
       "    .dataframe thead th {\n",
       "        text-align: right;\n",
       "    }\n",
       "</style>\n",
       "<table border=\"1\" class=\"dataframe\">\n",
       "  <thead>\n",
       "    <tr style=\"text-align: right;\">\n",
       "      <th></th>\n",
       "      <th>city</th>\n",
       "      <th>os_version</th>\n",
       "      <th>mean_ecpm_sma</th>\n",
       "      <th>mean_normalized_ecpm_sma</th>\n",
       "    </tr>\n",
       "  </thead>\n",
       "  <tbody>\n",
       "    <tr>\n",
       "      <th>0</th>\n",
       "      <td>Aberdeen</td>\n",
       "      <td>11</td>\n",
       "      <td>0.337810</td>\n",
       "      <td>0.337810</td>\n",
       "    </tr>\n",
       "    <tr>\n",
       "      <th>1</th>\n",
       "      <td>Abilene</td>\n",
       "      <td>9</td>\n",
       "      <td>1.153814</td>\n",
       "      <td>1.153814</td>\n",
       "    </tr>\n",
       "    <tr>\n",
       "      <th>2</th>\n",
       "      <td>Addison</td>\n",
       "      <td>12</td>\n",
       "      <td>0.489450</td>\n",
       "      <td>0.489450</td>\n",
       "    </tr>\n",
       "    <tr>\n",
       "      <th>3</th>\n",
       "      <td>Afton</td>\n",
       "      <td>11</td>\n",
       "      <td>0.361523</td>\n",
       "      <td>0.361523</td>\n",
       "    </tr>\n",
       "    <tr>\n",
       "      <th>4</th>\n",
       "      <td>Akron</td>\n",
       "      <td>9</td>\n",
       "      <td>0.376746</td>\n",
       "      <td>0.376746</td>\n",
       "    </tr>\n",
       "  </tbody>\n",
       "</table>\n",
       "</div>"
      ],
      "text/plain": [
       "       city os_version  mean_ecpm_sma  mean_normalized_ecpm_sma\n",
       "0  Aberdeen         11       0.337810                  0.337810\n",
       "1   Abilene          9       1.153814                  1.153814\n",
       "2   Addison         12       0.489450                  0.489450\n",
       "3     Afton         11       0.361523                  0.361523\n",
       "4     Akron          9       0.376746                  0.376746"
      ]
     },
     "execution_count": 213,
     "metadata": {},
     "output_type": "execute_result"
    }
   ],
   "source": [
    "banner_city_os_mean_ecpm.head()"
   ]
  },
  {
   "cell_type": "code",
   "execution_count": 214,
   "metadata": {},
   "outputs": [
    {
     "data": {
      "text/html": [
       "<div>\n",
       "<style scoped>\n",
       "    .dataframe tbody tr th:only-of-type {\n",
       "        vertical-align: middle;\n",
       "    }\n",
       "\n",
       "    .dataframe tbody tr th {\n",
       "        vertical-align: top;\n",
       "    }\n",
       "\n",
       "    .dataframe thead th {\n",
       "        text-align: right;\n",
       "    }\n",
       "</style>\n",
       "<table border=\"1\" class=\"dataframe\">\n",
       "  <thead>\n",
       "    <tr style=\"text-align: right;\">\n",
       "      <th></th>\n",
       "      <th>mean_ecpm_sma</th>\n",
       "      <th>mean_normalized_ecpm_sma</th>\n",
       "    </tr>\n",
       "  </thead>\n",
       "  <tbody>\n",
       "    <tr>\n",
       "      <th>count</th>\n",
       "      <td>1410.000000</td>\n",
       "      <td>1410.000000</td>\n",
       "    </tr>\n",
       "    <tr>\n",
       "      <th>mean</th>\n",
       "      <td>1.083824</td>\n",
       "      <td>1.083824</td>\n",
       "    </tr>\n",
       "    <tr>\n",
       "      <th>std</th>\n",
       "      <td>1.488999</td>\n",
       "      <td>1.488999</td>\n",
       "    </tr>\n",
       "    <tr>\n",
       "      <th>min</th>\n",
       "      <td>0.012760</td>\n",
       "      <td>0.012760</td>\n",
       "    </tr>\n",
       "    <tr>\n",
       "      <th>25%</th>\n",
       "      <td>0.355952</td>\n",
       "      <td>0.355952</td>\n",
       "    </tr>\n",
       "    <tr>\n",
       "      <th>50%</th>\n",
       "      <td>0.589547</td>\n",
       "      <td>0.589547</td>\n",
       "    </tr>\n",
       "    <tr>\n",
       "      <th>75%</th>\n",
       "      <td>1.170902</td>\n",
       "      <td>1.170902</td>\n",
       "    </tr>\n",
       "    <tr>\n",
       "      <th>max</th>\n",
       "      <td>21.012421</td>\n",
       "      <td>21.012421</td>\n",
       "    </tr>\n",
       "  </tbody>\n",
       "</table>\n",
       "</div>"
      ],
      "text/plain": [
       "       mean_ecpm_sma  mean_normalized_ecpm_sma\n",
       "count    1410.000000               1410.000000\n",
       "mean        1.083824                  1.083824\n",
       "std         1.488999                  1.488999\n",
       "min         0.012760                  0.012760\n",
       "25%         0.355952                  0.355952\n",
       "50%         0.589547                  0.589547\n",
       "75%         1.170902                  1.170902\n",
       "max        21.012421                 21.012421"
      ]
     },
     "execution_count": 214,
     "metadata": {},
     "output_type": "execute_result"
    }
   ],
   "source": [
    "banner_city_os_mean_ecpm.describe()"
   ]
  },
  {
   "cell_type": "code",
   "execution_count": 216,
   "metadata": {},
   "outputs": [],
   "source": [
    "int_city_os_mean_ecpm = df.query('ad_type == \"int\"').groupby(['city', 'os_version'], as_index=False) \\\n",
    "    .agg({'ecpm_sma':'mean', 'normalized_ecpm_sma':'mean'}) \\\n",
    "    .rename(columns={'ecpm_sma': 'mean_ecpm_sma', 'normalized_ecpm_sma':'mean_normalized_ecpm_sma'})"
   ]
  },
  {
   "cell_type": "code",
   "execution_count": 217,
   "metadata": {},
   "outputs": [
    {
     "data": {
      "text/html": [
       "<div>\n",
       "<style scoped>\n",
       "    .dataframe tbody tr th:only-of-type {\n",
       "        vertical-align: middle;\n",
       "    }\n",
       "\n",
       "    .dataframe tbody tr th {\n",
       "        vertical-align: top;\n",
       "    }\n",
       "\n",
       "    .dataframe thead th {\n",
       "        text-align: right;\n",
       "    }\n",
       "</style>\n",
       "<table border=\"1\" class=\"dataframe\">\n",
       "  <thead>\n",
       "    <tr style=\"text-align: right;\">\n",
       "      <th></th>\n",
       "      <th>city</th>\n",
       "      <th>os_version</th>\n",
       "      <th>mean_ecpm_sma</th>\n",
       "      <th>mean_normalized_ecpm_sma</th>\n",
       "    </tr>\n",
       "  </thead>\n",
       "  <tbody>\n",
       "    <tr>\n",
       "      <th>0</th>\n",
       "      <td>Aberdeen</td>\n",
       "      <td>11</td>\n",
       "      <td>15.321452</td>\n",
       "      <td>15.508930</td>\n",
       "    </tr>\n",
       "    <tr>\n",
       "      <th>1</th>\n",
       "      <td>Abilene</td>\n",
       "      <td>10</td>\n",
       "      <td>43.893208</td>\n",
       "      <td>44.247185</td>\n",
       "    </tr>\n",
       "    <tr>\n",
       "      <th>2</th>\n",
       "      <td>Abilene</td>\n",
       "      <td>11</td>\n",
       "      <td>189.868790</td>\n",
       "      <td>191.399994</td>\n",
       "    </tr>\n",
       "    <tr>\n",
       "      <th>3</th>\n",
       "      <td>Abilene</td>\n",
       "      <td>9</td>\n",
       "      <td>32.689328</td>\n",
       "      <td>33.614950</td>\n",
       "    </tr>\n",
       "    <tr>\n",
       "      <th>4</th>\n",
       "      <td>Afton</td>\n",
       "      <td>11</td>\n",
       "      <td>33.802259</td>\n",
       "      <td>35.249553</td>\n",
       "    </tr>\n",
       "  </tbody>\n",
       "</table>\n",
       "</div>"
      ],
      "text/plain": [
       "       city os_version  mean_ecpm_sma  mean_normalized_ecpm_sma\n",
       "0  Aberdeen         11      15.321452                 15.508930\n",
       "1   Abilene         10      43.893208                 44.247185\n",
       "2   Abilene         11     189.868790                191.399994\n",
       "3   Abilene          9      32.689328                 33.614950\n",
       "4     Afton         11      33.802259                 35.249553"
      ]
     },
     "execution_count": 217,
     "metadata": {},
     "output_type": "execute_result"
    }
   ],
   "source": [
    "int_city_os_mean_ecpm.head()"
   ]
  },
  {
   "cell_type": "code",
   "execution_count": 219,
   "metadata": {},
   "outputs": [
    {
     "data": {
      "text/html": [
       "<div>\n",
       "<style scoped>\n",
       "    .dataframe tbody tr th:only-of-type {\n",
       "        vertical-align: middle;\n",
       "    }\n",
       "\n",
       "    .dataframe tbody tr th {\n",
       "        vertical-align: top;\n",
       "    }\n",
       "\n",
       "    .dataframe thead th {\n",
       "        text-align: right;\n",
       "    }\n",
       "</style>\n",
       "<table border=\"1\" class=\"dataframe\">\n",
       "  <thead>\n",
       "    <tr style=\"text-align: right;\">\n",
       "      <th></th>\n",
       "      <th>mean_ecpm_sma</th>\n",
       "      <th>mean_normalized_ecpm_sma</th>\n",
       "    </tr>\n",
       "  </thead>\n",
       "  <tbody>\n",
       "    <tr>\n",
       "      <th>count</th>\n",
       "      <td>1462.000000</td>\n",
       "      <td>1462.000000</td>\n",
       "    </tr>\n",
       "    <tr>\n",
       "      <th>mean</th>\n",
       "      <td>49.394709</td>\n",
       "      <td>50.442215</td>\n",
       "    </tr>\n",
       "    <tr>\n",
       "      <th>std</th>\n",
       "      <td>49.104322</td>\n",
       "      <td>50.025436</td>\n",
       "    </tr>\n",
       "    <tr>\n",
       "      <th>min</th>\n",
       "      <td>2.396778</td>\n",
       "      <td>2.446164</td>\n",
       "    </tr>\n",
       "    <tr>\n",
       "      <th>25%</th>\n",
       "      <td>19.680097</td>\n",
       "      <td>20.074023</td>\n",
       "    </tr>\n",
       "    <tr>\n",
       "      <th>50%</th>\n",
       "      <td>32.924330</td>\n",
       "      <td>33.820528</td>\n",
       "    </tr>\n",
       "    <tr>\n",
       "      <th>75%</th>\n",
       "      <td>59.895085</td>\n",
       "      <td>61.560666</td>\n",
       "    </tr>\n",
       "    <tr>\n",
       "      <th>max</th>\n",
       "      <td>612.357198</td>\n",
       "      <td>622.150350</td>\n",
       "    </tr>\n",
       "  </tbody>\n",
       "</table>\n",
       "</div>"
      ],
      "text/plain": [
       "       mean_ecpm_sma  mean_normalized_ecpm_sma\n",
       "count    1462.000000               1462.000000\n",
       "mean       49.394709                 50.442215\n",
       "std        49.104322                 50.025436\n",
       "min         2.396778                  2.446164\n",
       "25%        19.680097                 20.074023\n",
       "50%        32.924330                 33.820528\n",
       "75%        59.895085                 61.560666\n",
       "max       612.357198                622.150350"
      ]
     },
     "execution_count": 219,
     "metadata": {},
     "output_type": "execute_result"
    }
   ],
   "source": [
    "int_city_os_mean_ecpm.describe()"
   ]
  },
  {
   "cell_type": "code",
   "execution_count": 220,
   "metadata": {},
   "outputs": [],
   "source": [
    "rv_city_os_mean_ecpm = df.query('ad_type == \"rv\"').groupby(['city', 'os_version'], as_index=False) \\\n",
    "    .agg({'ecpm_sma':'mean', 'normalized_ecpm_sma':'mean'}) \\\n",
    "    .rename(columns={'ecpm_sma': 'mean_ecpm_sma', 'normalized_ecpm_sma':'mean_normalized_ecpm_sma'})"
   ]
  },
  {
   "cell_type": "code",
   "execution_count": 221,
   "metadata": {},
   "outputs": [
    {
     "data": {
      "text/html": [
       "<div>\n",
       "<style scoped>\n",
       "    .dataframe tbody tr th:only-of-type {\n",
       "        vertical-align: middle;\n",
       "    }\n",
       "\n",
       "    .dataframe tbody tr th {\n",
       "        vertical-align: top;\n",
       "    }\n",
       "\n",
       "    .dataframe thead th {\n",
       "        text-align: right;\n",
       "    }\n",
       "</style>\n",
       "<table border=\"1\" class=\"dataframe\">\n",
       "  <thead>\n",
       "    <tr style=\"text-align: right;\">\n",
       "      <th></th>\n",
       "      <th>city</th>\n",
       "      <th>os_version</th>\n",
       "      <th>mean_ecpm_sma</th>\n",
       "      <th>mean_normalized_ecpm_sma</th>\n",
       "    </tr>\n",
       "  </thead>\n",
       "  <tbody>\n",
       "    <tr>\n",
       "      <th>0</th>\n",
       "      <td>Aberdeen</td>\n",
       "      <td>11</td>\n",
       "      <td>18.886984</td>\n",
       "      <td>19.039299</td>\n",
       "    </tr>\n",
       "    <tr>\n",
       "      <th>1</th>\n",
       "      <td>Abilene</td>\n",
       "      <td>10</td>\n",
       "      <td>45.250385</td>\n",
       "      <td>45.615307</td>\n",
       "    </tr>\n",
       "    <tr>\n",
       "      <th>2</th>\n",
       "      <td>Abilene</td>\n",
       "      <td>9</td>\n",
       "      <td>60.879490</td>\n",
       "      <td>61.370453</td>\n",
       "    </tr>\n",
       "    <tr>\n",
       "      <th>3</th>\n",
       "      <td>Akron</td>\n",
       "      <td>10</td>\n",
       "      <td>209.328957</td>\n",
       "      <td>211.872108</td>\n",
       "    </tr>\n",
       "    <tr>\n",
       "      <th>4</th>\n",
       "      <td>Akron</td>\n",
       "      <td>9</td>\n",
       "      <td>156.262418</td>\n",
       "      <td>159.412358</td>\n",
       "    </tr>\n",
       "  </tbody>\n",
       "</table>\n",
       "</div>"
      ],
      "text/plain": [
       "       city os_version  mean_ecpm_sma  mean_normalized_ecpm_sma\n",
       "0  Aberdeen         11      18.886984                 19.039299\n",
       "1   Abilene         10      45.250385                 45.615307\n",
       "2   Abilene          9      60.879490                 61.370453\n",
       "3     Akron         10     209.328957                211.872108\n",
       "4     Akron          9     156.262418                159.412358"
      ]
     },
     "execution_count": 221,
     "metadata": {},
     "output_type": "execute_result"
    }
   ],
   "source": [
    "rv_city_os_mean_ecpm.head()"
   ]
  },
  {
   "cell_type": "code",
   "execution_count": 222,
   "metadata": {},
   "outputs": [
    {
     "data": {
      "text/html": [
       "<div>\n",
       "<style scoped>\n",
       "    .dataframe tbody tr th:only-of-type {\n",
       "        vertical-align: middle;\n",
       "    }\n",
       "\n",
       "    .dataframe tbody tr th {\n",
       "        vertical-align: top;\n",
       "    }\n",
       "\n",
       "    .dataframe thead th {\n",
       "        text-align: right;\n",
       "    }\n",
       "</style>\n",
       "<table border=\"1\" class=\"dataframe\">\n",
       "  <thead>\n",
       "    <tr style=\"text-align: right;\">\n",
       "      <th></th>\n",
       "      <th>mean_ecpm_sma</th>\n",
       "      <th>mean_normalized_ecpm_sma</th>\n",
       "    </tr>\n",
       "  </thead>\n",
       "  <tbody>\n",
       "    <tr>\n",
       "      <th>count</th>\n",
       "      <td>639.000000</td>\n",
       "      <td>639.000000</td>\n",
       "    </tr>\n",
       "    <tr>\n",
       "      <th>mean</th>\n",
       "      <td>84.090637</td>\n",
       "      <td>85.249464</td>\n",
       "    </tr>\n",
       "    <tr>\n",
       "      <th>std</th>\n",
       "      <td>80.206827</td>\n",
       "      <td>81.217623</td>\n",
       "    </tr>\n",
       "    <tr>\n",
       "      <th>min</th>\n",
       "      <td>4.041922</td>\n",
       "      <td>4.074518</td>\n",
       "    </tr>\n",
       "    <tr>\n",
       "      <th>25%</th>\n",
       "      <td>28.014080</td>\n",
       "      <td>28.312009</td>\n",
       "    </tr>\n",
       "    <tr>\n",
       "      <th>50%</th>\n",
       "      <td>56.754097</td>\n",
       "      <td>57.503006</td>\n",
       "    </tr>\n",
       "    <tr>\n",
       "      <th>75%</th>\n",
       "      <td>112.778731</td>\n",
       "      <td>114.114900</td>\n",
       "    </tr>\n",
       "    <tr>\n",
       "      <th>max</th>\n",
       "      <td>892.413269</td>\n",
       "      <td>906.843892</td>\n",
       "    </tr>\n",
       "  </tbody>\n",
       "</table>\n",
       "</div>"
      ],
      "text/plain": [
       "       mean_ecpm_sma  mean_normalized_ecpm_sma\n",
       "count     639.000000                639.000000\n",
       "mean       84.090637                 85.249464\n",
       "std        80.206827                 81.217623\n",
       "min         4.041922                  4.074518\n",
       "25%        28.014080                 28.312009\n",
       "50%        56.754097                 57.503006\n",
       "75%       112.778731                114.114900\n",
       "max       892.413269                906.843892"
      ]
     },
     "execution_count": 222,
     "metadata": {},
     "output_type": "execute_result"
    }
   ],
   "source": [
    "rv_city_os_mean_ecpm.describe()"
   ]
  },
  {
   "cell_type": "markdown",
   "metadata": {},
   "source": [
    "Снова посмотрим на распределения и проведем тесты на нормальность, а также проверим выбросы. "
   ]
  },
  {
   "cell_type": "markdown",
   "metadata": {},
   "source": [
    "#### Banner"
   ]
  },
  {
   "cell_type": "code",
   "execution_count": 223,
   "metadata": {},
   "outputs": [
    {
     "data": {
      "image/png": "[encoded data removed]",
      "text/plain": [
       "<Figure size 504x504 with 1 Axes>"
      ]
     },
     "metadata": {},
     "output_type": "display_data"
    },
    {
     "data": {
      "image/png": "[encoded data removed]",
      "text/plain": [
       "<Figure size 504x504 with 1 Axes>"
      ]
     },
     "metadata": {},
     "output_type": "display_data"
    }
   ],
   "source": [
    "sns.displot(banner_city_os_mean_ecpm.mean_ecpm_sma, height=7).set(title='Banner mean ecpm_sma by city and os version');\n",
    "sns.displot(banner_city_os_mean_ecpm.mean_normalized_ecpm_sma, height=7).set(title='Banner mean normalized ecpm_sma by city and os version');"
   ]
  },
  {
   "cell_type": "code",
   "execution_count": 226,
   "metadata": {},
   "outputs": [
    {
     "data": {
      "text/plain": [
       "ShapiroResult(statistic=0.7187854051589966, pvalue=1.7810503481568425e-42)"
      ]
     },
     "execution_count": 226,
     "metadata": {},
     "output_type": "execute_result"
    }
   ],
   "source": [
    "ss.shapiro(banner_city_os_mean_ecpm.mean_ecpm_sma) "
   ]
  },
  {
   "cell_type": "code",
   "execution_count": 227,
   "metadata": {},
   "outputs": [
    {
     "data": {
      "text/plain": [
       "ShapiroResult(statistic=0.5815467834472656, pvalue=0.0)"
      ]
     },
     "execution_count": 227,
     "metadata": {},
     "output_type": "execute_result"
    }
   ],
   "source": [
    "ss.shapiro(banner_city_os_mean_ecpm.mean_normalized_ecpm_sma) "
   ]
  },
  {
   "cell_type": "markdown",
   "metadata": {},
   "source": [
    "В обоих случаях данные ненормальны. "
   ]
  },
  {
   "cell_type": "code",
   "execution_count": 228,
   "metadata": {},
   "outputs": [
    {
     "data": {
      "image/png": "[encoded data removed]",
      "text/plain": [
       "<Figure size 842.4x595.44 with 1 Axes>"
      ]
     },
     "metadata": {},
     "output_type": "display_data"
    }
   ],
   "source": [
    "sns.boxplot(data=banner_city_os_mean_ecpm.mean_ecpm_sma).set(title='Banner mean ecpm_sma by city and os version');"
   ]
  },
  {
   "cell_type": "code",
   "execution_count": 230,
   "metadata": {},
   "outputs": [
    {
     "name": "stdout",
     "output_type": "stream",
     "text": [
      "Перцентили: 25й=0.356, 75й=1.171, IQR=0.815\n",
      "Найденные выбросы: 135\n",
      "Наблюдений без выбросов: 1275\n"
     ]
    }
   ],
   "source": [
    "q25, q75 = np.percentile(banner_city_os_mean_ecpm.mean_ecpm_sma, 25), np.percentile(banner_city_os_mean_ecpm.mean_ecpm_sma, 75)\n",
    "iqr = q75 - q25\n",
    "print('Перцентили: 25й=%.3f, 75й=%.3f, IQR=%.3f' % (q25, q75, iqr))\n",
    "\n",
    "cut_off = iqr * 1.5\n",
    "lower, upper = q25 - cut_off, q75 + cut_off\n",
    "\n",
    "outliers = [x for x in banner_city_os_mean_ecpm.mean_ecpm_sma if x < lower or x > upper]\n",
    "print('Найденные выбросы: %d' % len(outliers))\n",
    "\n",
    "outliers_removed = [x for x in banner_city_os_mean_ecpm.mean_ecpm_sma if x >= lower and x <= upper]\n",
    "print('Наблюдений без выбросов: %d' % len(outliers_removed))"
   ]
  },
  {
   "cell_type": "code",
   "execution_count": 229,
   "metadata": {},
   "outputs": [
    {
     "data": {
      "image/png": "[encoded data removed]",
      "text/plain": [
       "<Figure size 842.4x595.44 with 1 Axes>"
      ]
     },
     "metadata": {},
     "output_type": "display_data"
    }
   ],
   "source": [
    "sns.boxplot(data=banner_city_os_mean_ecpm.mean_normalized_ecpm_sma).set(title='Banner mean normalized ecpm_sma by city and os version');"
   ]
  },
  {
   "cell_type": "code",
   "execution_count": 231,
   "metadata": {},
   "outputs": [
    {
     "name": "stdout",
     "output_type": "stream",
     "text": [
      "Перцентили: 25й=0.356, 75й=1.171, IQR=0.815\n",
      "Найденные выбросы: 135\n",
      "Наблюдений без выбросов: 1275\n"
     ]
    }
   ],
   "source": [
    "q25, q75 = np.percentile(banner_city_os_mean_ecpm.mean_normalized_ecpm_sma, 25), np.percentile(banner_city_os_mean_ecpm.mean_normalized_ecpm_sma, 75)\n",
    "iqr = q75 - q25\n",
    "print('Перцентили: 25й=%.3f, 75й=%.3f, IQR=%.3f' % (q25, q75, iqr))\n",
    "\n",
    "cut_off = iqr * 1.5\n",
    "lower, upper = q25 - cut_off, q75 + cut_off\n",
    "\n",
    "outliers = [x for x in banner_city_os_mean_ecpm.mean_normalized_ecpm_sma if x < lower or x > upper]\n",
    "print('Найденные выбросы: %d' % len(outliers))\n",
    "\n",
    "outliers_removed = [x for x in banner_city_os_mean_ecpm.mean_normalized_ecpm_sma if x >= lower and x <= upper]\n",
    "print('Наблюдений без выбросов: %d' % len(outliers_removed))"
   ]
  },
  {
   "cell_type": "markdown",
   "metadata": {},
   "source": [
    "#### Int"
   ]
  },
  {
   "cell_type": "code",
   "execution_count": 232,
   "metadata": {},
   "outputs": [
    {
     "data": {
      "image/png": "[encoded data removed]",
      "text/plain": [
       "<Figure size 504x504 with 1 Axes>"
      ]
     },
     "metadata": {},
     "output_type": "display_data"
    },
    {
     "data": {
      "image/png": "[encoded data removed]",
      "text/plain": [
       "<Figure size 504x504 with 1 Axes>"
      ]
     },
     "metadata": {},
     "output_type": "display_data"
    }
   ],
   "source": [
    "sns.displot(int_city_os_mean_ecpm.mean_ecpm_sma, height=7).set(title='Int mean ecpm_sma by city and os version');\n",
    "sns.displot(int_city_os_mean_ecpm.mean_normalized_ecpm_sma, height=7).set(title='Int mean normalized ecpm_sma by city and os version');"
   ]
  },
  {
   "cell_type": "code",
   "execution_count": 233,
   "metadata": {},
   "outputs": [
    {
     "data": {
      "text/plain": [
       "ShapiroResult(statistic=0.7059509754180908, pvalue=8.407790785948902e-45)"
      ]
     },
     "execution_count": 233,
     "metadata": {},
     "output_type": "execute_result"
    }
   ],
   "source": [
    "ss.shapiro(int_city_os_mean_ecpm.mean_ecpm_sma) "
   ]
  },
  {
   "cell_type": "code",
   "execution_count": 234,
   "metadata": {},
   "outputs": [
    {
     "data": {
      "text/plain": [
       "ShapiroResult(statistic=0.7072240710258484, pvalue=8.407790785948902e-45)"
      ]
     },
     "execution_count": 234,
     "metadata": {},
     "output_type": "execute_result"
    }
   ],
   "source": [
    "ss.shapiro(int_city_os_mean_ecpm.mean_normalized_ecpm_sma) "
   ]
  },
  {
   "cell_type": "markdown",
   "metadata": {},
   "source": [
    "Распределения ненормальны. "
   ]
  },
  {
   "cell_type": "code",
   "execution_count": 246,
   "metadata": {},
   "outputs": [
    {
     "data": {
      "image/png": "[encoded data removed]",
      "text/plain": [
       "<Figure size 842.4x595.44 with 1 Axes>"
      ]
     },
     "metadata": {},
     "output_type": "display_data"
    }
   ],
   "source": [
    "sns.boxplot(data=int_city_os_mean_ecpm.mean_ecpm_sma).set(title='Int mean ecpm_sma by city and os version');"
   ]
  },
  {
   "cell_type": "code",
   "execution_count": 236,
   "metadata": {},
   "outputs": [
    {
     "name": "stdout",
     "output_type": "stream",
     "text": [
      "Перцентили: 25й=19.680, 75й=59.895, IQR=40.215\n",
      "Найденные выбросы: 132\n",
      "Наблюдений без выбросов: 1330\n"
     ]
    }
   ],
   "source": [
    "q25, q75 = np.percentile(int_city_os_mean_ecpm.mean_ecpm_sma, 25), np.percentile(int_city_os_mean_ecpm.mean_ecpm_sma, 75)\n",
    "iqr = q75 - q25\n",
    "print('Перцентили: 25й=%.3f, 75й=%.3f, IQR=%.3f' % (q25, q75, iqr))\n",
    "\n",
    "cut_off = iqr * 1.5\n",
    "lower, upper = q25 - cut_off, q75 + cut_off\n",
    "\n",
    "outliers = [x for x in int_city_os_mean_ecpm.mean_ecpm_sma if x < lower or x > upper]\n",
    "print('Найденные выбросы: %d' % len(outliers))\n",
    "\n",
    "outliers_removed = [x for x in int_city_os_mean_ecpm.mean_ecpm_sma if x >= lower and x <= upper]\n",
    "print('Наблюдений без выбросов: %d' % len(outliers_removed))"
   ]
  },
  {
   "cell_type": "code",
   "execution_count": 237,
   "metadata": {},
   "outputs": [
    {
     "data": {
      "image/png": "[encoded data removed]",
      "text/plain": [
       "<Figure size 842.4x595.44 with 1 Axes>"
      ]
     },
     "metadata": {},
     "output_type": "display_data"
    }
   ],
   "source": [
    "sns.boxplot(data=int_city_os_mean_ecpm.mean_normalized_ecpm_sma).set(title='Int mean normalized ecpm_sma by city and os version');"
   ]
  },
  {
   "cell_type": "code",
   "execution_count": 238,
   "metadata": {},
   "outputs": [
    {
     "name": "stdout",
     "output_type": "stream",
     "text": [
      "Перцентили: 25й=20.074, 75й=61.561, IQR=41.487\n",
      "Найденные выбросы: 129\n",
      "Наблюдений без выбросов: 1333\n"
     ]
    }
   ],
   "source": [
    "q25, q75 = np.percentile(int_city_os_mean_ecpm.mean_normalized_ecpm_sma, 25), np.percentile(int_city_os_mean_ecpm.mean_normalized_ecpm_sma, 75)\n",
    "iqr = q75 - q25\n",
    "print('Перцентили: 25й=%.3f, 75й=%.3f, IQR=%.3f' % (q25, q75, iqr))\n",
    "\n",
    "cut_off = iqr * 1.5\n",
    "lower, upper = q25 - cut_off, q75 + cut_off\n",
    "\n",
    "outliers = [x for x in int_city_os_mean_ecpm.mean_normalized_ecpm_sma if x < lower or x > upper]\n",
    "print('Найденные выбросы: %d' % len(outliers))\n",
    "\n",
    "outliers_removed = [x for x in int_city_os_mean_ecpm.mean_normalized_ecpm_sma if x >= lower and x <= upper]\n",
    "print('Наблюдений без выбросов: %d' % len(outliers_removed))"
   ]
  },
  {
   "cell_type": "markdown",
   "metadata": {},
   "source": [
    "#### Rv"
   ]
  },
  {
   "cell_type": "code",
   "execution_count": 239,
   "metadata": {},
   "outputs": [
    {
     "data": {
      "image/png": "[encoded data removed]",
      "text/plain": [
       "<Figure size 504x504 with 1 Axes>"
      ]
     },
     "metadata": {},
     "output_type": "display_data"
    },
    {
     "data": {
      "image/png": "[encoded data removed]",
      "text/plain": [
       "<Figure size 504x504 with 1 Axes>"
      ]
     },
     "metadata": {},
     "output_type": "display_data"
    }
   ],
   "source": [
    "sns.displot(rv_city_os_mean_ecpm.mean_ecpm_sma, height=7).set(title='Rv mean ecpm_sma by city and os version');\n",
    "sns.displot(rv_city_os_mean_ecpm.mean_normalized_ecpm_sma, height=7).set(title='Rv mean normalized ecpm_sma by city and os version');"
   ]
  },
  {
   "cell_type": "code",
   "execution_count": 240,
   "metadata": {},
   "outputs": [
    {
     "data": {
      "text/plain": [
       "ShapiroResult(statistic=0.7393709421157837, pvalue=1.8677612176938574e-30)"
      ]
     },
     "execution_count": 240,
     "metadata": {},
     "output_type": "execute_result"
    }
   ],
   "source": [
    "ss.shapiro(rv_city_os_mean_ecpm.mean_ecpm_sma) "
   ]
  },
  {
   "cell_type": "code",
   "execution_count": 241,
   "metadata": {},
   "outputs": [
    {
     "data": {
      "text/plain": [
       "ShapiroResult(statistic=0.7389593124389648, pvalue=1.787197348786805e-30)"
      ]
     },
     "execution_count": 241,
     "metadata": {},
     "output_type": "execute_result"
    }
   ],
   "source": [
    "ss.shapiro(rv_city_os_mean_ecpm.mean_normalized_ecpm_sma) "
   ]
  },
  {
   "cell_type": "markdown",
   "metadata": {},
   "source": [
    "Распределения ненормальны и похожи на экспоненциальные как и в предыдущих графиках."
   ]
  },
  {
   "cell_type": "code",
   "execution_count": 244,
   "metadata": {},
   "outputs": [
    {
     "data": {
      "image/png": "[encoded data removed]",
      "text/plain": [
       "<Figure size 842.4x595.44 with 1 Axes>"
      ]
     },
     "metadata": {},
     "output_type": "display_data"
    }
   ],
   "source": [
    "sns.boxplot(data=rv_city_os_mean_ecpm.mean_ecpm_sma).set(title='Rv mean ecpm_sma by city and os version');"
   ]
  },
  {
   "cell_type": "code",
   "execution_count": 243,
   "metadata": {},
   "outputs": [
    {
     "name": "stdout",
     "output_type": "stream",
     "text": [
      "Перцентили: 25й=28.014, 75й=112.779, IQR=84.765\n",
      "Найденные выбросы: 14\n",
      "Наблюдений без выбросов: 625\n"
     ]
    }
   ],
   "source": [
    "q25, q75 = np.percentile(rv_city_os_mean_ecpm.mean_ecpm_sma, 25), np.percentile(rv_city_os_mean_ecpm.mean_ecpm_sma, 75)\n",
    "iqr = q75 - q25\n",
    "print('Перцентили: 25й=%.3f, 75й=%.3f, IQR=%.3f' % (q25, q75, iqr))\n",
    "\n",
    "cut_off = iqr * 1.5\n",
    "lower, upper = q25 - cut_off, q75 + cut_off\n",
    "\n",
    "outliers = [x for x in rv_city_os_mean_ecpm.mean_ecpm_sma if x < lower or x > upper]\n",
    "print('Найденные выбросы: %d' % len(outliers))\n",
    "\n",
    "outliers_removed = [x for x in rv_city_os_mean_ecpm.mean_ecpm_sma if x >= lower and x <= upper]\n",
    "print('Наблюдений без выбросов: %d' % len(outliers_removed))"
   ]
  },
  {
   "cell_type": "code",
   "execution_count": 245,
   "metadata": {},
   "outputs": [
    {
     "data": {
      "image/png": "[encoded data removed]",
      "text/plain": [
       "<Figure size 842.4x595.44 with 1 Axes>"
      ]
     },
     "metadata": {},
     "output_type": "display_data"
    }
   ],
   "source": [
    "sns.boxplot(data=rv_city_os_mean_ecpm.mean_normalized_ecpm_sma).set(title='Rv mean normalized ecpm_sma by city and os version');"
   ]
  },
  {
   "cell_type": "code",
   "execution_count": 247,
   "metadata": {},
   "outputs": [
    {
     "name": "stdout",
     "output_type": "stream",
     "text": [
      "Перцентили: 25й=28.312, 75й=114.115, IQR=85.803\n",
      "Найденные выбросы: 14\n",
      "Наблюдений без выбросов: 625\n"
     ]
    }
   ],
   "source": [
    "q25, q75 = np.percentile(rv_city_os_mean_ecpm.mean_normalized_ecpm_sma, 25), np.percentile(rv_city_os_mean_ecpm.mean_normalized_ecpm_sma, 75)\n",
    "iqr = q75 - q25\n",
    "print('Перцентили: 25й=%.3f, 75й=%.3f, IQR=%.3f' % (q25, q75, iqr))\n",
    "\n",
    "cut_off = iqr * 1.5\n",
    "lower, upper = q25 - cut_off, q75 + cut_off\n",
    "\n",
    "outliers = [x for x in rv_city_os_mean_ecpm.mean_normalized_ecpm_sma if x < lower or x > upper]\n",
    "print('Найденные выбросы: %d' % len(outliers))\n",
    "\n",
    "outliers_removed = [x for x in rv_city_os_mean_ecpm.mean_normalized_ecpm_sma if x >= lower and x <= upper]\n",
    "print('Наблюдений без выбросов: %d' % len(outliers_removed))"
   ]
  },
  {
   "cell_type": "markdown",
   "metadata": {},
   "source": [
    "### Распределение суммарных доходов по городам и версиям ОС"
   ]
  },
  {
   "cell_type": "markdown",
   "metadata": {},
   "source": [
    "Снова по каждому формату рекламы сгруппируем данные по городу и версии операционной системы, а также посчитаем суммарный доход. "
   ]
  },
  {
   "cell_type": "code",
   "execution_count": 20,
   "metadata": {},
   "outputs": [],
   "source": [
    "banner_city_os_sum_revenue = df.query('ad_type == \"banner\"').groupby(['city', 'os_version'], as_index=False) \\\n",
    "    .agg({'revenue':'sum'}) \\\n",
    "    .rename(columns={'revenue': 'sum_revenue'})"
   ]
  },
  {
   "cell_type": "code",
   "execution_count": 21,
   "metadata": {},
   "outputs": [
    {
     "data": {
      "text/html": [
       "<div>\n",
       "<style scoped>\n",
       "    .dataframe tbody tr th:only-of-type {\n",
       "        vertical-align: middle;\n",
       "    }\n",
       "\n",
       "    .dataframe tbody tr th {\n",
       "        vertical-align: top;\n",
       "    }\n",
       "\n",
       "    .dataframe thead th {\n",
       "        text-align: right;\n",
       "    }\n",
       "</style>\n",
       "<table border=\"1\" class=\"dataframe\">\n",
       "  <thead>\n",
       "    <tr style=\"text-align: right;\">\n",
       "      <th></th>\n",
       "      <th>city</th>\n",
       "      <th>os_version</th>\n",
       "      <th>sum_revenue</th>\n",
       "    </tr>\n",
       "  </thead>\n",
       "  <tbody>\n",
       "    <tr>\n",
       "      <th>0</th>\n",
       "      <td>Aberdeen</td>\n",
       "      <td>11</td>\n",
       "      <td>0.030866</td>\n",
       "    </tr>\n",
       "    <tr>\n",
       "      <th>1</th>\n",
       "      <td>Abilene</td>\n",
       "      <td>9</td>\n",
       "      <td>0.043299</td>\n",
       "    </tr>\n",
       "    <tr>\n",
       "      <th>2</th>\n",
       "      <td>Addison</td>\n",
       "      <td>12</td>\n",
       "      <td>0.000142</td>\n",
       "    </tr>\n",
       "    <tr>\n",
       "      <th>3</th>\n",
       "      <td>Afton</td>\n",
       "      <td>11</td>\n",
       "      <td>0.110404</td>\n",
       "    </tr>\n",
       "    <tr>\n",
       "      <th>4</th>\n",
       "      <td>Akron</td>\n",
       "      <td>9</td>\n",
       "      <td>0.131979</td>\n",
       "    </tr>\n",
       "  </tbody>\n",
       "</table>\n",
       "</div>"
      ],
      "text/plain": [
       "       city os_version  sum_revenue\n",
       "0  Aberdeen         11     0.030866\n",
       "1   Abilene          9     0.043299\n",
       "2   Addison         12     0.000142\n",
       "3     Afton         11     0.110404\n",
       "4     Akron          9     0.131979"
      ]
     },
     "execution_count": 21,
     "metadata": {},
     "output_type": "execute_result"
    }
   ],
   "source": [
    "banner_city_os_sum_revenue.head()"
   ]
  },
  {
   "cell_type": "code",
   "execution_count": 22,
   "metadata": {},
   "outputs": [
    {
     "data": {
      "text/html": [
       "<div>\n",
       "<style scoped>\n",
       "    .dataframe tbody tr th:only-of-type {\n",
       "        vertical-align: middle;\n",
       "    }\n",
       "\n",
       "    .dataframe tbody tr th {\n",
       "        vertical-align: top;\n",
       "    }\n",
       "\n",
       "    .dataframe thead th {\n",
       "        text-align: right;\n",
       "    }\n",
       "</style>\n",
       "<table border=\"1\" class=\"dataframe\">\n",
       "  <thead>\n",
       "    <tr style=\"text-align: right;\">\n",
       "      <th></th>\n",
       "      <th>sum_revenue</th>\n",
       "    </tr>\n",
       "  </thead>\n",
       "  <tbody>\n",
       "    <tr>\n",
       "      <th>count</th>\n",
       "      <td>1410.000000</td>\n",
       "    </tr>\n",
       "    <tr>\n",
       "      <th>mean</th>\n",
       "      <td>0.430627</td>\n",
       "    </tr>\n",
       "    <tr>\n",
       "      <th>std</th>\n",
       "      <td>3.966496</td>\n",
       "    </tr>\n",
       "    <tr>\n",
       "      <th>min</th>\n",
       "      <td>0.000031</td>\n",
       "    </tr>\n",
       "    <tr>\n",
       "      <th>25%</th>\n",
       "      <td>0.016832</td>\n",
       "    </tr>\n",
       "    <tr>\n",
       "      <th>50%</th>\n",
       "      <td>0.068813</td>\n",
       "    </tr>\n",
       "    <tr>\n",
       "      <th>75%</th>\n",
       "      <td>0.225140</td>\n",
       "    </tr>\n",
       "    <tr>\n",
       "      <th>max</th>\n",
       "      <td>135.736458</td>\n",
       "    </tr>\n",
       "  </tbody>\n",
       "</table>\n",
       "</div>"
      ],
      "text/plain": [
       "       sum_revenue\n",
       "count  1410.000000\n",
       "mean      0.430627\n",
       "std       3.966496\n",
       "min       0.000031\n",
       "25%       0.016832\n",
       "50%       0.068813\n",
       "75%       0.225140\n",
       "max     135.736458"
      ]
     },
     "execution_count": 22,
     "metadata": {},
     "output_type": "execute_result"
    }
   ],
   "source": [
    "banner_city_os_sum_revenue.describe()"
   ]
  },
  {
   "cell_type": "code",
   "execution_count": 23,
   "metadata": {},
   "outputs": [],
   "source": [
    "int_city_os_sum_revenue = df.query('ad_type == \"int\"').groupby(['city', 'os_version'], as_index=False) \\\n",
    "    .agg({'revenue':'sum'}) \\\n",
    "    .rename(columns={'revenue': 'sum_revenue'})"
   ]
  },
  {
   "cell_type": "code",
   "execution_count": 24,
   "metadata": {},
   "outputs": [
    {
     "data": {
      "text/html": [
       "<div>\n",
       "<style scoped>\n",
       "    .dataframe tbody tr th:only-of-type {\n",
       "        vertical-align: middle;\n",
       "    }\n",
       "\n",
       "    .dataframe tbody tr th {\n",
       "        vertical-align: top;\n",
       "    }\n",
       "\n",
       "    .dataframe thead th {\n",
       "        text-align: right;\n",
       "    }\n",
       "</style>\n",
       "<table border=\"1\" class=\"dataframe\">\n",
       "  <thead>\n",
       "    <tr style=\"text-align: right;\">\n",
       "      <th></th>\n",
       "      <th>city</th>\n",
       "      <th>os_version</th>\n",
       "      <th>sum_revenue</th>\n",
       "    </tr>\n",
       "  </thead>\n",
       "  <tbody>\n",
       "    <tr>\n",
       "      <th>0</th>\n",
       "      <td>Aberdeen</td>\n",
       "      <td>11</td>\n",
       "      <td>0.081500</td>\n",
       "    </tr>\n",
       "    <tr>\n",
       "      <th>1</th>\n",
       "      <td>Abilene</td>\n",
       "      <td>10</td>\n",
       "      <td>0.044247</td>\n",
       "    </tr>\n",
       "    <tr>\n",
       "      <th>2</th>\n",
       "      <td>Abilene</td>\n",
       "      <td>11</td>\n",
       "      <td>0.191400</td>\n",
       "    </tr>\n",
       "    <tr>\n",
       "      <th>3</th>\n",
       "      <td>Abilene</td>\n",
       "      <td>9</td>\n",
       "      <td>0.166763</td>\n",
       "    </tr>\n",
       "    <tr>\n",
       "      <th>4</th>\n",
       "      <td>Afton</td>\n",
       "      <td>11</td>\n",
       "      <td>0.727219</td>\n",
       "    </tr>\n",
       "  </tbody>\n",
       "</table>\n",
       "</div>"
      ],
      "text/plain": [
       "       city os_version  sum_revenue\n",
       "0  Aberdeen         11     0.081500\n",
       "1   Abilene         10     0.044247\n",
       "2   Abilene         11     0.191400\n",
       "3   Abilene          9     0.166763\n",
       "4     Afton         11     0.727219"
      ]
     },
     "execution_count": 24,
     "metadata": {},
     "output_type": "execute_result"
    }
   ],
   "source": [
    "int_city_os_sum_revenue.head()"
   ]
  },
  {
   "cell_type": "code",
   "execution_count": 25,
   "metadata": {},
   "outputs": [
    {
     "data": {
      "text/html": [
       "<div>\n",
       "<style scoped>\n",
       "    .dataframe tbody tr th:only-of-type {\n",
       "        vertical-align: middle;\n",
       "    }\n",
       "\n",
       "    .dataframe tbody tr th {\n",
       "        vertical-align: top;\n",
       "    }\n",
       "\n",
       "    .dataframe thead th {\n",
       "        text-align: right;\n",
       "    }\n",
       "</style>\n",
       "<table border=\"1\" class=\"dataframe\">\n",
       "  <thead>\n",
       "    <tr style=\"text-align: right;\">\n",
       "      <th></th>\n",
       "      <th>sum_revenue</th>\n",
       "    </tr>\n",
       "  </thead>\n",
       "  <tbody>\n",
       "    <tr>\n",
       "      <th>count</th>\n",
       "      <td>1462.000000</td>\n",
       "    </tr>\n",
       "    <tr>\n",
       "      <th>mean</th>\n",
       "      <td>0.931568</td>\n",
       "    </tr>\n",
       "    <tr>\n",
       "      <th>std</th>\n",
       "      <td>7.669900</td>\n",
       "    </tr>\n",
       "    <tr>\n",
       "      <th>min</th>\n",
       "      <td>0.002595</td>\n",
       "    </tr>\n",
       "    <tr>\n",
       "      <th>25%</th>\n",
       "      <td>0.066480</td>\n",
       "    </tr>\n",
       "    <tr>\n",
       "      <th>50%</th>\n",
       "      <td>0.202220</td>\n",
       "    </tr>\n",
       "    <tr>\n",
       "      <th>75%</th>\n",
       "      <td>0.595283</td>\n",
       "    </tr>\n",
       "    <tr>\n",
       "      <th>max</th>\n",
       "      <td>248.565837</td>\n",
       "    </tr>\n",
       "  </tbody>\n",
       "</table>\n",
       "</div>"
      ],
      "text/plain": [
       "       sum_revenue\n",
       "count  1462.000000\n",
       "mean      0.931568\n",
       "std       7.669900\n",
       "min       0.002595\n",
       "25%       0.066480\n",
       "50%       0.202220\n",
       "75%       0.595283\n",
       "max     248.565837"
      ]
     },
     "execution_count": 25,
     "metadata": {},
     "output_type": "execute_result"
    }
   ],
   "source": [
    "int_city_os_sum_revenue.describe()"
   ]
  },
  {
   "cell_type": "code",
   "execution_count": 26,
   "metadata": {},
   "outputs": [],
   "source": [
    "rv_city_os_sum_revenue = df.query('ad_type == \"rv\"').groupby(['city', 'os_version'], as_index=False) \\\n",
    "    .agg({'revenue':'sum'}) \\\n",
    "    .rename(columns={'revenue': 'sum_revenue'})"
   ]
  },
  {
   "cell_type": "code",
   "execution_count": 27,
   "metadata": {},
   "outputs": [
    {
     "data": {
      "text/html": [
       "<div>\n",
       "<style scoped>\n",
       "    .dataframe tbody tr th:only-of-type {\n",
       "        vertical-align: middle;\n",
       "    }\n",
       "\n",
       "    .dataframe tbody tr th {\n",
       "        vertical-align: top;\n",
       "    }\n",
       "\n",
       "    .dataframe thead th {\n",
       "        text-align: right;\n",
       "    }\n",
       "</style>\n",
       "<table border=\"1\" class=\"dataframe\">\n",
       "  <thead>\n",
       "    <tr style=\"text-align: right;\">\n",
       "      <th></th>\n",
       "      <th>city</th>\n",
       "      <th>os_version</th>\n",
       "      <th>sum_revenue</th>\n",
       "    </tr>\n",
       "  </thead>\n",
       "  <tbody>\n",
       "    <tr>\n",
       "      <th>0</th>\n",
       "      <td>Aberdeen</td>\n",
       "      <td>11</td>\n",
       "      <td>0.021516</td>\n",
       "    </tr>\n",
       "    <tr>\n",
       "      <th>1</th>\n",
       "      <td>Abilene</td>\n",
       "      <td>10</td>\n",
       "      <td>0.045615</td>\n",
       "    </tr>\n",
       "    <tr>\n",
       "      <th>2</th>\n",
       "      <td>Abilene</td>\n",
       "      <td>9</td>\n",
       "      <td>0.061370</td>\n",
       "    </tr>\n",
       "    <tr>\n",
       "      <th>3</th>\n",
       "      <td>Akron</td>\n",
       "      <td>10</td>\n",
       "      <td>0.423400</td>\n",
       "    </tr>\n",
       "    <tr>\n",
       "      <th>4</th>\n",
       "      <td>Akron</td>\n",
       "      <td>9</td>\n",
       "      <td>1.232896</td>\n",
       "    </tr>\n",
       "  </tbody>\n",
       "</table>\n",
       "</div>"
      ],
      "text/plain": [
       "       city os_version  sum_revenue\n",
       "0  Aberdeen         11     0.021516\n",
       "1   Abilene         10     0.045615\n",
       "2   Abilene          9     0.061370\n",
       "3     Akron         10     0.423400\n",
       "4     Akron          9     1.232896"
      ]
     },
     "execution_count": 27,
     "metadata": {},
     "output_type": "execute_result"
    }
   ],
   "source": [
    "rv_city_os_sum_revenue.head()"
   ]
  },
  {
   "cell_type": "code",
   "execution_count": 28,
   "metadata": {},
   "outputs": [
    {
     "data": {
      "text/html": [
       "<div>\n",
       "<style scoped>\n",
       "    .dataframe tbody tr th:only-of-type {\n",
       "        vertical-align: middle;\n",
       "    }\n",
       "\n",
       "    .dataframe tbody tr th {\n",
       "        vertical-align: top;\n",
       "    }\n",
       "\n",
       "    .dataframe thead th {\n",
       "        text-align: right;\n",
       "    }\n",
       "</style>\n",
       "<table border=\"1\" class=\"dataframe\">\n",
       "  <thead>\n",
       "    <tr style=\"text-align: right;\">\n",
       "      <th></th>\n",
       "      <th>sum_revenue</th>\n",
       "    </tr>\n",
       "  </thead>\n",
       "  <tbody>\n",
       "    <tr>\n",
       "      <th>count</th>\n",
       "      <td>639.000000</td>\n",
       "    </tr>\n",
       "    <tr>\n",
       "      <th>mean</th>\n",
       "      <td>0.659877</td>\n",
       "    </tr>\n",
       "    <tr>\n",
       "      <th>std</th>\n",
       "      <td>3.258760</td>\n",
       "    </tr>\n",
       "    <tr>\n",
       "      <th>min</th>\n",
       "      <td>0.001845</td>\n",
       "    </tr>\n",
       "    <tr>\n",
       "      <th>25%</th>\n",
       "      <td>0.062938</td>\n",
       "    </tr>\n",
       "    <tr>\n",
       "      <th>50%</th>\n",
       "      <td>0.190895</td>\n",
       "    </tr>\n",
       "    <tr>\n",
       "      <th>75%</th>\n",
       "      <td>0.481860</td>\n",
       "    </tr>\n",
       "    <tr>\n",
       "      <th>max</th>\n",
       "      <td>67.837706</td>\n",
       "    </tr>\n",
       "  </tbody>\n",
       "</table>\n",
       "</div>"
      ],
      "text/plain": [
       "       sum_revenue\n",
       "count   639.000000\n",
       "mean      0.659877\n",
       "std       3.258760\n",
       "min       0.001845\n",
       "25%       0.062938\n",
       "50%       0.190895\n",
       "75%       0.481860\n",
       "max      67.837706"
      ]
     },
     "execution_count": 28,
     "metadata": {},
     "output_type": "execute_result"
    }
   ],
   "source": [
    "rv_city_os_sum_revenue.describe()"
   ]
  },
  {
   "cell_type": "markdown",
   "metadata": {},
   "source": [
    "#### Banner"
   ]
  },
  {
   "cell_type": "markdown",
   "metadata": {},
   "source": [
    "Посмотрим на распределения сумм доходов. "
   ]
  },
  {
   "cell_type": "code",
   "execution_count": 37,
   "metadata": {},
   "outputs": [
    {
     "data": {
      "image/png": "[encoded data removed]",
      "text/plain": [
       "<Figure size 504x504 with 1 Axes>"
      ]
     },
     "metadata": {
      "needs_background": "light"
     },
     "output_type": "display_data"
    }
   ],
   "source": [
    "sns.displot(banner_city_os_sum_revenue.sum_revenue, binwidth=5, height=7).set(title='Banner sum revenue by city and os version');"
   ]
  },
  {
   "cell_type": "code",
   "execution_count": 38,
   "metadata": {},
   "outputs": [
    {
     "data": {
      "text/plain": [
       "ShapiroResult(statistic=0.05568617582321167, pvalue=0.0)"
      ]
     },
     "execution_count": 38,
     "metadata": {},
     "output_type": "execute_result"
    }
   ],
   "source": [
    "ss.shapiro(banner_city_os_sum_revenue.sum_revenue) "
   ]
  },
  {
   "cell_type": "markdown",
   "metadata": {},
   "source": [
    "Очевидно, что распределение ненормально."
   ]
  },
  {
   "cell_type": "code",
   "execution_count": 43,
   "metadata": {},
   "outputs": [
    {
     "data": {
      "image/png": "[encoded data removed]",
      "text/plain": [
       "<Figure size 842.4x595.44 with 1 Axes>"
      ]
     },
     "metadata": {},
     "output_type": "display_data"
    }
   ],
   "source": [
    "sns.boxplot(data=banner_city_os_sum_revenue.sum_revenue).set(title='Banner sum revenue by user');"
   ]
  },
  {
   "cell_type": "code",
   "execution_count": 35,
   "metadata": {},
   "outputs": [
    {
     "name": "stdout",
     "output_type": "stream",
     "text": [
      "Перцентили: 25й=0.017, 75й=0.225, IQR=0.208\n",
      "Найденные выбросы: 179\n",
      "Наблюдений без выбросов: 1231\n"
     ]
    }
   ],
   "source": [
    "q25, q75 = np.percentile(banner_city_os_sum_revenue.sum_revenue, 25), np.percentile(banner_city_os_sum_revenue.sum_revenue, 75)\n",
    "iqr = q75 - q25\n",
    "print('Перцентили: 25й=%.3f, 75й=%.3f, IQR=%.3f' % (q25, q75, iqr))\n",
    "\n",
    "cut_off = iqr * 1.5\n",
    "lower, upper = q25 - cut_off, q75 + cut_off\n",
    "\n",
    "outliers = [x for x in banner_city_os_sum_revenue.sum_revenue if x < lower or x > upper]\n",
    "print('Найденные выбросы: %d' % len(outliers))\n",
    "\n",
    "outliers_removed = [x for x in banner_city_os_sum_revenue.sum_revenue if x >= lower and x <= upper]\n",
    "print('Наблюдений без выбросов: %d' % len(outliers_removed))"
   ]
  },
  {
   "cell_type": "markdown",
   "metadata": {},
   "source": [
    "#### Int"
   ]
  },
  {
   "cell_type": "code",
   "execution_count": 40,
   "metadata": {},
   "outputs": [
    {
     "data": {
      "image/png": "[encoded data removed]",
      "text/plain": [
       "<Figure size 504x504 with 1 Axes>"
      ]
     },
     "metadata": {
      "needs_background": "light"
     },
     "output_type": "display_data"
    }
   ],
   "source": [
    "sns.displot(int_city_os_sum_revenue.sum_revenue, binwidth=5, height=7).set(title='Int sum revenue by city and os version');"
   ]
  },
  {
   "cell_type": "code",
   "execution_count": 37,
   "metadata": {},
   "outputs": [
    {
     "data": {
      "text/plain": [
       "ShapiroResult(statistic=0.06021559238433838, pvalue=0.0)"
      ]
     },
     "execution_count": 37,
     "metadata": {},
     "output_type": "execute_result"
    }
   ],
   "source": [
    "ss.shapiro(int_city_os_sum_revenue.sum_revenue) "
   ]
  },
  {
   "cell_type": "code",
   "execution_count": 44,
   "metadata": {},
   "outputs": [
    {
     "data": {
      "image/png": "[encoded data removed]",
      "text/plain": [
       "<Figure size 842.4x595.44 with 1 Axes>"
      ]
     },
     "metadata": {},
     "output_type": "display_data"
    }
   ],
   "source": [
    "sns.boxplot(data=int_city_os_sum_revenue.sum_revenue).set(title='Int sum revenue by user');"
   ]
  },
  {
   "cell_type": "code",
   "execution_count": 39,
   "metadata": {},
   "outputs": [
    {
     "name": "stdout",
     "output_type": "stream",
     "text": [
      "Перцентили: 25й=0.066, 75й=0.595, IQR=0.529\n",
      "Найденные выбросы: 155\n",
      "Наблюдений без выбросов: 1307\n"
     ]
    }
   ],
   "source": [
    "q25, q75 = np.percentile(int_city_os_sum_revenue.sum_revenue, 25), np.percentile(int_city_os_sum_revenue.sum_revenue, 75)\n",
    "iqr = q75 - q25\n",
    "print('Перцентили: 25й=%.3f, 75й=%.3f, IQR=%.3f' % (q25, q75, iqr))\n",
    "\n",
    "cut_off = iqr * 1.5\n",
    "lower, upper = q25 - cut_off, q75 + cut_off\n",
    "\n",
    "outliers = [x for x in int_city_os_sum_revenue.sum_revenue if x < lower or x > upper]\n",
    "print('Найденные выбросы: %d' % len(outliers))\n",
    "\n",
    "outliers_removed = [x for x in int_city_os_sum_revenue.sum_revenue if x >= lower and x <= upper]\n",
    "print('Наблюдений без выбросов: %d' % len(outliers_removed))"
   ]
  },
  {
   "cell_type": "markdown",
   "metadata": {},
   "source": [
    "#### Rv"
   ]
  },
  {
   "cell_type": "code",
   "execution_count": 41,
   "metadata": {},
   "outputs": [
    {
     "data": {
      "image/png": "[encoded data removed]",
      "text/plain": [
       "<Figure size 504x504 with 1 Axes>"
      ]
     },
     "metadata": {
      "needs_background": "light"
     },
     "output_type": "display_data"
    }
   ],
   "source": [
    "sns.displot(rv_city_os_sum_revenue.sum_revenue, binwidth=5, height=7).set(title='Rv sum revenue by city and os version');"
   ]
  },
  {
   "cell_type": "code",
   "execution_count": 41,
   "metadata": {},
   "outputs": [
    {
     "data": {
      "text/plain": [
       "ShapiroResult(statistic=0.13208186626434326, pvalue=0.0)"
      ]
     },
     "execution_count": 41,
     "metadata": {},
     "output_type": "execute_result"
    }
   ],
   "source": [
    "ss.shapiro(rv_city_os_sum_revenue.sum_revenue) "
   ]
  },
  {
   "cell_type": "code",
   "execution_count": 45,
   "metadata": {},
   "outputs": [
    {
     "data": {
      "image/png": "[encoded data removed]",
      "text/plain": [
       "<Figure size 842.4x595.44 with 1 Axes>"
      ]
     },
     "metadata": {},
     "output_type": "display_data"
    }
   ],
   "source": [
    "sns.boxplot(data=rv_city_os_sum_revenue.sum_revenue).set(title='Rv sum revenue by user');"
   ]
  },
  {
   "cell_type": "code",
   "execution_count": 43,
   "metadata": {},
   "outputs": [
    {
     "name": "stdout",
     "output_type": "stream",
     "text": [
      "Перцентили: 25й=0.063, 75й=0.482, IQR=0.419\n",
      "Найденные выбросы: 71\n",
      "Наблюдений без выбросов: 568\n"
     ]
    }
   ],
   "source": [
    "q25, q75 = np.percentile(rv_city_os_sum_revenue.sum_revenue, 25), np.percentile(rv_city_os_sum_revenue.sum_revenue, 75)\n",
    "iqr = q75 - q25\n",
    "print('Перцентили: 25й=%.3f, 75й=%.3f, IQR=%.3f' % (q25, q75, iqr))\n",
    "\n",
    "cut_off = iqr * 1.5\n",
    "lower, upper = q25 - cut_off, q75 + cut_off\n",
    "\n",
    "outliers = [x for x in rv_city_os_sum_revenue.sum_revenue if x < lower or x > upper]\n",
    "print('Найденные выбросы: %d' % len(outliers))\n",
    "\n",
    "outliers_removed = [x for x in rv_city_os_sum_revenue.sum_revenue if x >= lower and x <= upper]\n",
    "print('Наблюдений без выбросов: %d' % len(outliers_removed))"
   ]
  },
  {
   "cell_type": "markdown",
   "metadata": {},
   "source": [
    "# Выводы"
   ]
  },
  {
   "cell_type": "markdown",
   "metadata": {},
   "source": [
    "Данные в колонках ecpm, normalized_ecpm и revenue распределены ненормально, что подтверждают визуализации и тесты Шапиро-Уилка. Визуализация данных с помощью боксплотов показывает, что там также содержится немало выбросов. Так как данные распределены ненормально был использован метод IQR, чтобы определить их. В дальнейшем при анализе и сравнении таких значений возможно попробовать логарифмирование для того, чтобы привести данные к нормальному виду. Если это не поможет, то сравнивать группы при АВ-тестировании будет возможно с помощью непараметрических критериев или бутстрапа. "
   ]
  },
  {
   "cell_type": "markdown",
   "metadata": {},
   "source": [
    "# Дополнительные (по желанию)\n",
    "Исследовать:\n",
    "- Какой процент доходов содержит информацию о городе юзера\n",
    "- Зависит ли eCPM от времени дня"
   ]
  },
  {
   "cell_type": "markdown",
   "metadata": {},
   "source": [
    "### Какой процент доходов содержит информацию о городе юзера"
   ]
  },
  {
   "cell_type": "markdown",
   "metadata": {},
   "source": [
    "Посмотрим на распределение данных в колонке city. Данных нет в 323708 случаях. "
   ]
  },
  {
   "cell_type": "code",
   "execution_count": 287,
   "metadata": {},
   "outputs": [
    {
     "data": {
      "text/plain": [
       "no data        323708\n",
       "New York        17584\n",
       "Minneapolis     12980\n",
       "Houston         10137\n",
       "Springfield     10135\n",
       "Name: city, dtype: int64"
      ]
     },
     "execution_count": 287,
     "metadata": {},
     "output_type": "execute_result"
    }
   ],
   "source": [
    "df.city.value_counts().head()"
   ]
  },
  {
   "cell_type": "markdown",
   "metadata": {},
   "source": [
    "Всего имеется 860079 наблюдения. "
   ]
  },
  {
   "cell_type": "code",
   "execution_count": 278,
   "metadata": {},
   "outputs": [
    {
     "data": {
      "text/plain": [
       "860079"
      ]
     },
     "execution_count": 278,
     "metadata": {},
     "output_type": "execute_result"
    }
   ],
   "source": [
    "df.shape[0]"
   ]
  },
  {
   "cell_type": "markdown",
   "metadata": {},
   "source": [
    "Посчитаем процент данных с информацией о городе юзера. "
   ]
  },
  {
   "cell_type": "code",
   "execution_count": 99,
   "metadata": {},
   "outputs": [
    {
     "data": {
      "text/plain": [
       "62.36299223675965"
      ]
     },
     "execution_count": 99,
     "metadata": {},
     "output_type": "execute_result"
    }
   ],
   "source": [
    "(df.shape[0] - df.city.value_counts()[0]) /  df.shape[0] * 100"
   ]
  },
  {
   "cell_type": "markdown",
   "metadata": {},
   "source": [
    "62.36% данных содержат данную информацию. "
   ]
  },
  {
   "cell_type": "markdown",
   "metadata": {},
   "source": [
    "### Зависит ли eCPM от времени дня"
   ]
  },
  {
   "cell_type": "markdown",
   "metadata": {},
   "source": [
    "Из колонки с датами возьмем данные о часе совершения действия. "
   ]
  },
  {
   "cell_type": "code",
   "execution_count": 283,
   "metadata": {},
   "outputs": [],
   "source": [
    "df['hour'] = df.event_datetime.dt.hour"
   ]
  },
  {
   "cell_type": "markdown",
   "metadata": {},
   "source": [
    "Визуализируем распределние."
   ]
  },
  {
   "cell_type": "code",
   "execution_count": 284,
   "metadata": {},
   "outputs": [
    {
     "data": {
      "image/png": "[encoded data removed]",
      "text/plain": [
       "<Figure size 842.4x595.44 with 1 Axes>"
      ]
     },
     "metadata": {},
     "output_type": "display_data"
    }
   ],
   "source": [
    "sns.lineplot(x=df.hour, y=df.ecpm_sma);"
   ]
  },
  {
   "cell_type": "markdown",
   "metadata": {},
   "source": [
    "Наблюдаются циклы в значениях ecpm. Утром и днем с значения повышаются и падают. Вечером и ночью значения ecpm в целом ниже. "
   ]
  }
 ],
 "metadata": {
  "kernelspec": {
   "display_name": "Python 3",
   "language": "python",
   "name": "python3"
  },
  "language_info": {
   "codemirror_mode": {
    "name": "ipython",
    "version": 3
   },
   "file_extension": ".py",
   "mimetype": "text/x-python",
   "name": "python",
   "nbconvert_exporter": "python",
   "pygments_lexer": "ipython3",
   "version": "3.7.3"
  }
 },
 "nbformat": 4,
 "nbformat_minor": 4
}
